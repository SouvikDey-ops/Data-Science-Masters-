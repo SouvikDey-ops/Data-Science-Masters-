{
 "cells": [
  {
   "cell_type": "code",
   "execution_count": 1,
   "id": "02986e1e-5b5d-4918-83c7-ed43b7bc17cf",
   "metadata": {},
   "outputs": [],
   "source": [
    "## Loops "
   ]
  },
  {
   "cell_type": "code",
   "execution_count": 2,
   "id": "2984ddee-d770-4ea8-8ffe-3797ba21f01c",
   "metadata": {},
   "outputs": [],
   "source": [
    "# while loop "
   ]
  },
  {
   "cell_type": "code",
   "execution_count": 3,
   "id": "06621e61-c7db-49a6-9125-e83693e61903",
   "metadata": {},
   "outputs": [],
   "source": [
    "# A person will retire at the age of 60"
   ]
  },
  {
   "cell_type": "code",
   "execution_count": 4,
   "id": "96a26c6d-dafb-431f-9c78-c7badf8cb927",
   "metadata": {},
   "outputs": [
    {
     "name": "stdout",
     "output_type": "stream",
     "text": [
      "26\n",
      "27\n",
      "28\n",
      "29\n",
      "30\n",
      "31\n",
      "32\n",
      "33\n",
      "34\n",
      "35\n",
      "36\n",
      "37\n",
      "38\n",
      "39\n",
      "40\n",
      "41\n",
      "42\n",
      "43\n",
      "44\n",
      "45\n",
      "46\n",
      "47\n",
      "48\n",
      "49\n",
      "50\n",
      "51\n",
      "52\n",
      "53\n",
      "54\n",
      "55\n",
      "56\n",
      "57\n",
      "58\n",
      "59\n",
      "60\n",
      "61\n"
     ]
    }
   ],
   "source": [
    "joining_age = 25 \n",
    "while joining_age <= 60:\n",
    "    joining_age = joining_age+1\n",
    "    print(joining_age)"
   ]
  },
  {
   "cell_type": "code",
   "execution_count": 5,
   "id": "8efac5f2-d180-42d3-8e39-9359ccbe1c2f",
   "metadata": {},
   "outputs": [
    {
     "name": "stdout",
     "output_type": "stream",
     "text": [
      "26\n",
      "27\n",
      "28\n",
      "29\n",
      "30\n",
      "31\n",
      "32\n",
      "33\n",
      "34\n",
      "35\n",
      "36\n",
      "37\n",
      "38\n",
      "39\n",
      "40\n",
      "41\n",
      "42\n",
      "43\n",
      "44\n",
      "45\n",
      "46\n",
      "47\n",
      "48\n",
      "49\n",
      "50\n",
      "51\n",
      "52\n",
      "53\n",
      "54\n",
      "55\n",
      "56\n",
      "57\n",
      "58\n",
      "59\n",
      "60\n",
      "61\n",
      "its time for retirement\n"
     ]
    }
   ],
   "source": [
    "joining_age = 25 \n",
    "while joining_age <= 60:\n",
    "    joining_age = joining_age+1\n",
    "    print(joining_age)\n",
    "else:\n",
    "    print('its time for retirement')"
   ]
  },
  {
   "cell_type": "code",
   "execution_count": 6,
   "id": "08a66cd2-2265-4f9b-ba03-8c921b2d5d5a",
   "metadata": {},
   "outputs": [],
   "source": [
    "# exercise\n",
    "# there is an ATM machine which has 1000 rupees as initial balance. \n",
    "# At each withdrawal of 100 rupees the balance in the machine gets reduced by 100 rupees. \n",
    "# the machine can give out cash until the balance becomes zero"
   ]
  },
  {
   "cell_type": "code",
   "execution_count": 7,
   "id": "c3d6eced-3170-490e-a163-49c4fca4e983",
   "metadata": {},
   "outputs": [
    {
     "name": "stdout",
     "output_type": "stream",
     "text": [
      "900\n",
      "800\n",
      "700\n",
      "600\n",
      "500\n",
      "400\n",
      "300\n",
      "200\n",
      "100\n",
      "0\n",
      "-100\n",
      "sorry! no cash\n"
     ]
    }
   ],
   "source": [
    "balance=1000\n",
    "while balance>=0:\n",
    "    balance=balance-100\n",
    "    print(balance)\n",
    "else: \n",
    "    print('sorry! no cash')"
   ]
  },
  {
   "cell_type": "code",
   "execution_count": 11,
   "id": "e32e2944-e5cc-4d65-9178-8e111e1c8ff8",
   "metadata": {},
   "outputs": [
    {
     "name": "stdout",
     "output_type": "stream",
     "text": [
      "1000\n",
      "900\n",
      "800\n",
      "700\n",
      "600\n",
      "500\n",
      "400\n",
      "300\n",
      "200\n",
      "100\n",
      "0\n",
      "sorry! no cash\n"
     ]
    }
   ],
   "source": [
    "balance=1000\n",
    "while balance>=0:\n",
    "    print(balance)\n",
    "    balance=balance-100\n",
    "else:\n",
    "    print('sorry! no cash')"
   ]
  },
  {
   "cell_type": "code",
   "execution_count": 12,
   "id": "2c6e5d37-f726-4bb1-8108-58558c33e78a",
   "metadata": {},
   "outputs": [],
   "source": [
    "## for loop"
   ]
  },
  {
   "cell_type": "code",
   "execution_count": 13,
   "id": "4e6d5057-5812-48b7-b16f-61d759ab8103",
   "metadata": {},
   "outputs": [
    {
     "data": {
      "text/plain": [
       "['apple', 'mango', 1, 2, 3, 'banana']"
      ]
     },
     "execution_count": 13,
     "metadata": {},
     "output_type": "execute_result"
    }
   ],
   "source": [
    "lst = ['apple', 'mango', 1, 2, 3, 'banana']\n",
    "lst"
   ]
  },
  {
   "cell_type": "code",
   "execution_count": 15,
   "id": "80d9718c-0971-4fe1-ab8e-a8173332d2a9",
   "metadata": {},
   "outputs": [
    {
     "data": {
      "text/plain": [
       "list"
      ]
     },
     "execution_count": 15,
     "metadata": {},
     "output_type": "execute_result"
    }
   ],
   "source": [
    "type(lst)"
   ]
  },
  {
   "cell_type": "code",
   "execution_count": 16,
   "id": "0b8089bb-287e-44ae-9398-539315844e49",
   "metadata": {},
   "outputs": [],
   "source": [
    "# indexing of list"
   ]
  },
  {
   "cell_type": "code",
   "execution_count": 17,
   "id": "e18cf744-6fcc-499d-8801-458834af6ecd",
   "metadata": {},
   "outputs": [
    {
     "data": {
      "text/plain": [
       "'apple'"
      ]
     },
     "execution_count": 17,
     "metadata": {},
     "output_type": "execute_result"
    }
   ],
   "source": [
    "lst[0]"
   ]
  },
  {
   "cell_type": "code",
   "execution_count": 18,
   "id": "141f1da3-6c82-4bcd-b304-ee40bed74353",
   "metadata": {},
   "outputs": [
    {
     "data": {
      "text/plain": [
       "1"
      ]
     },
     "execution_count": 18,
     "metadata": {},
     "output_type": "execute_result"
    }
   ],
   "source": [
    "lst[2]"
   ]
  },
  {
   "cell_type": "code",
   "execution_count": 19,
   "id": "63ed4419-0d9e-4879-9ea1-0a186a292440",
   "metadata": {},
   "outputs": [
    {
     "name": "stdout",
     "output_type": "stream",
     "text": [
      "['apple', 'mango', 1, 2, 3, 'banana']\n"
     ]
    }
   ],
   "source": [
    "print(lst)"
   ]
  },
  {
   "cell_type": "code",
   "execution_count": 20,
   "id": "8e884ff4-81af-4e5e-8857-e07252b1110f",
   "metadata": {},
   "outputs": [
    {
     "name": "stdout",
     "output_type": "stream",
     "text": [
      "apple\n",
      "mango\n",
      "1\n",
      "2\n",
      "3\n",
      "banana\n"
     ]
    }
   ],
   "source": [
    "for x in lst:\n",
    "    print(x)"
   ]
  },
  {
   "cell_type": "code",
   "execution_count": 21,
   "id": "0b5e05c8-2eba-4ae0-a814-becd2e5a9837",
   "metadata": {},
   "outputs": [
    {
     "name": "stdout",
     "output_type": "stream",
     "text": [
      "['honda', 'suzuki', 'TVS', 'yamaha', 'hero']\n"
     ]
    }
   ],
   "source": [
    "bike_list = ['honda', 'suzuki', 'TVS', 'yamaha', 'hero']\n",
    "print(bike_list)"
   ]
  },
  {
   "cell_type": "code",
   "execution_count": 22,
   "id": "1b1548a6-2145-4b0d-9b9f-a5d559eb6fab",
   "metadata": {},
   "outputs": [
    {
     "name": "stdout",
     "output_type": "stream",
     "text": [
      "honda\n",
      "suzuki\n",
      "TVS\n",
      "yamaha\n",
      "hero\n"
     ]
    }
   ],
   "source": [
    "for y in bike_list:\n",
    "    print(y)"
   ]
  },
  {
   "cell_type": "code",
   "execution_count": 24,
   "id": "89e7f90e-ec27-4107-a1c5-1363c00185f8",
   "metadata": {},
   "outputs": [
    {
     "name": "stdout",
     "output_type": "stream",
     "text": [
      "honda suzuki TVS yamaha hero "
     ]
    }
   ],
   "source": [
    "for y in bike_list:\n",
    "    print(y,end=' ')"
   ]
  },
  {
   "cell_type": "code",
   "execution_count": 26,
   "id": "f20370c8-318b-4137-9341-484ecca33336",
   "metadata": {},
   "outputs": [
    {
     "name": "stdout",
     "output_type": "stream",
     "text": [
      "honda\n",
      "suzuki\n",
      "TVS\n",
      "yamaha\n",
      "worlds number 1 bike selling company\n",
      "hero\n"
     ]
    }
   ],
   "source": [
    "for y in bike_list:\n",
    "    print(y)\n",
    "    if y=='yamaha':\n",
    "        print('worlds number 1 bike selling company')"
   ]
  },
  {
   "cell_type": "code",
   "execution_count": 28,
   "id": "3507a14b-12ff-4e50-a1df-4b7ddcabbf17",
   "metadata": {},
   "outputs": [
    {
     "name": "stdout",
     "output_type": "stream",
     "text": [
      "honda\n",
      "suzuki\n",
      "TVS\n",
      "worlds number 1 bike selling company\n"
     ]
    }
   ],
   "source": [
    "for y in bike_list:\n",
    "    print(y)\n",
    "    if y=='TVS':\n",
    "        print('worlds number 1 bike selling company')\n",
    "        break"
   ]
  },
  {
   "cell_type": "code",
   "execution_count": 29,
   "id": "65391026-41e1-4a1f-8662-7d9b72682e61",
   "metadata": {},
   "outputs": [],
   "source": [
    "## a string is a list itself"
   ]
  },
  {
   "cell_type": "code",
   "execution_count": 30,
   "id": "5304e3cb-9333-4010-b102-53eea5930c6c",
   "metadata": {},
   "outputs": [
    {
     "name": "stdout",
     "output_type": "stream",
     "text": [
      "s\n",
      "o\n",
      "u\n",
      "v\n",
      "i\n",
      "k\n"
     ]
    }
   ],
   "source": [
    "name = 'souvik'\n",
    "for z in name:\n",
    "    print(z)"
   ]
  },
  {
   "cell_type": "code",
   "execution_count": 31,
   "id": "5c55864a-1dd1-4232-857b-4495c09dee03",
   "metadata": {},
   "outputs": [
    {
     "name": "stdout",
     "output_type": "stream",
     "text": [
      "souvik"
     ]
    }
   ],
   "source": [
    "name = 'souvik'\n",
    "for z in name:\n",
    "    print(z,end='')"
   ]
  },
  {
   "cell_type": "code",
   "execution_count": 32,
   "id": "2aa089ac-9ee8-466c-a771-c92b4df01d96",
   "metadata": {},
   "outputs": [
    {
     "data": {
      "text/plain": [
       "'u'"
      ]
     },
     "execution_count": 32,
     "metadata": {},
     "output_type": "execute_result"
    }
   ],
   "source": [
    "name[2]"
   ]
  },
  {
   "cell_type": "code",
   "execution_count": 34,
   "id": "f122848e-4114-4ec7-9d2f-e4455dd1a249",
   "metadata": {},
   "outputs": [
    {
     "data": {
      "text/plain": [
       "'k'"
      ]
     },
     "execution_count": 34,
     "metadata": {},
     "output_type": "execute_result"
    }
   ],
   "source": [
    "name[5]"
   ]
  },
  {
   "cell_type": "code",
   "execution_count": 35,
   "id": "52e41812-fab5-4554-8194-3f2e08a0ae2e",
   "metadata": {},
   "outputs": [],
   "source": [
    "## nested loops"
   ]
  },
  {
   "cell_type": "code",
   "execution_count": 52,
   "id": "384142ea-47e0-44e3-b221-365d1a43bc73",
   "metadata": {},
   "outputs": [
    {
     "ename": "TypeError",
     "evalue": "'tuple' object is not callable",
     "output_type": "error",
     "traceback": [
      "\u001b[0;31m---------------------------------------------------------------------------\u001b[0m",
      "\u001b[0;31mTypeError\u001b[0m                                 Traceback (most recent call last)",
      "Cell \u001b[0;32mIn[52], line 1\u001b[0m\n\u001b[0;32m----> 1\u001b[0m \u001b[38;5;28;01mfor\u001b[39;00m i \u001b[38;5;129;01min\u001b[39;00m \u001b[38;5;28;43mrange\u001b[39;49m\u001b[43m(\u001b[49m\u001b[38;5;241;43m1\u001b[39;49m\u001b[43m,\u001b[49m\u001b[38;5;241;43m6\u001b[39;49m\u001b[43m,\u001b[49m\u001b[38;5;241;43m2\u001b[39;49m\u001b[43m)\u001b[49m:\n\u001b[1;32m      2\u001b[0m     \u001b[38;5;28mprint\u001b[39m(i)\n",
      "\u001b[0;31mTypeError\u001b[0m: 'tuple' object is not callable"
     ]
    }
   ],
   "source": [
    "for i in range(1,6,2):\n",
    "    print(i)"
   ]
  },
  {
   "cell_type": "code",
   "execution_count": null,
   "id": "a56344fc-7fa9-4ab1-8960-2e5dcf9ce799",
   "metadata": {},
   "outputs": [],
   "source": []
  }
 ],
 "metadata": {
  "kernelspec": {
   "display_name": "Python 3 (ipykernel)",
   "language": "python",
   "name": "python3"
  },
  "language_info": {
   "codemirror_mode": {
    "name": "ipython",
    "version": 3
   },
   "file_extension": ".py",
   "mimetype": "text/x-python",
   "name": "python",
   "nbconvert_exporter": "python",
   "pygments_lexer": "ipython3",
   "version": "3.10.8"
  }
 },
 "nbformat": 4,
 "nbformat_minor": 5
}
