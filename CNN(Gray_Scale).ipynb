{
 "cells": [
  {
   "cell_type": "markdown",
   "id": "6d97cb54-4bcb-4611-80e0-db2e6e8be99a",
   "metadata": {},
   "source": [
    "## Implementation of CNN in Keras Dataset\n",
    "#### Classification Problem\n",
    "\n",
    "Using mnist dataset from Keras \n",
    "\n",
    "In this project we would try to build an Convolusion Neural Network that would predict the digits using the pixels of the images of the digits. The pixels of the images will be used as the input feature and the digits associated with the images will be used as the target feature. The images of the mnist dataset are gray scale image with no color depth.  \n",
    "\n",
    "Using Lenet Architecture"
   ]
  },
  {
   "cell_type": "code",
   "execution_count": 2,
   "id": "a929090d-9705-4844-8d90-99d4efa964d4",
   "metadata": {},
   "outputs": [
    {
     "name": "stderr",
     "output_type": "stream",
     "text": [
      "/tmp/ipykernel_4606/1884103834.py:8: UserWarning: ignore\n",
      "  warnings.warn('ignore')\n"
     ]
    }
   ],
   "source": [
    "import tensorflow as tf\n",
    "import matplotlib.pyplot as plt\n",
    "import pandas as pd\n",
    "import numpy as np\n",
    "import seaborn as sns\n",
    "import os\n",
    "import warnings\n",
    "warnings.warn('ignore')"
   ]
  },
  {
   "cell_type": "code",
   "execution_count": 3,
   "id": "925c2cbb-002e-403a-87cc-02d6808850cb",
   "metadata": {},
   "outputs": [],
   "source": [
    "data = tf.keras.datasets.mnist"
   ]
  },
  {
   "cell_type": "markdown",
   "id": "dca8742a-8116-4886-9c40-ea6df8adf14b",
   "metadata": {},
   "source": []
  },
  {
   "cell_type": "markdown",
   "id": "e10f86ce-a0f5-4b7c-9297-b881f889648a",
   "metadata": {},
   "source": [
    "Train-Test Split"
   ]
  },
  {
   "cell_type": "code",
   "execution_count": 4,
   "id": "acfd33d0-8be6-4b2c-83be-b93469620cdb",
   "metadata": {},
   "outputs": [
    {
     "name": "stdout",
     "output_type": "stream",
     "text": [
      "Downloading data from https://storage.googleapis.com/tensorflow/tf-keras-datasets/mnist.npz\n",
      "11490434/11490434 [==============================] - 2s 0us/step\n"
     ]
    }
   ],
   "source": [
    "(x_train_full, y_train_full), (x_test, y_test) = data.load_data()"
   ]
  },
  {
   "cell_type": "code",
   "execution_count": 5,
   "id": "55d7b2a1-69e3-4052-aaca-9b0990de7d40",
   "metadata": {},
   "outputs": [
    {
     "name": "stdout",
     "output_type": "stream",
     "text": [
      "The number of output lables of training data is 10\n"
     ]
    }
   ],
   "source": [
    "print('The number of output lables of training data is', len(y_train_full[:10]))"
   ]
  },
  {
   "cell_type": "code",
   "execution_count": 6,
   "id": "a3c33392-e80e-495f-9217-efab98211f9d",
   "metadata": {},
   "outputs": [],
   "source": [
    "x_train_full = x_train_full.astype('float32')\n",
    "x_test = x_test.astype('float32')"
   ]
  },
  {
   "cell_type": "code",
   "execution_count": 7,
   "id": "3f01370b-f262-4ef1-8a60-1c504451d3b0",
   "metadata": {},
   "outputs": [],
   "source": [
    "## Splitting the data into training, validation and test data and also scaling the input data\n",
    "## Each of the pixel value ranges from 0 to 255. So we can divide the input features of the training, validation, and test data by 255 in order to scale it down between 0 and 1.\n",
    "x_valid, x_train = x_train_full[:5000]/255, x_train_full[5000:]/255\n",
    "y_valid, y_train = y_train_full[:5000], y_train_full[5000:]\n",
    "\n",
    "x_test = x_test/255"
   ]
  },
  {
   "cell_type": "code",
   "execution_count": 8,
   "id": "64d865f2-4b52-4bf6-845c-5645b625215b",
   "metadata": {},
   "outputs": [
    {
     "data": {
      "image/png": "[encoded data removed]",
      "text/plain": [
       "<Figure size 2000x2000 with 6 Axes>"
      ]
     },
     "metadata": {},
     "output_type": "display_data"
    }
   ],
   "source": [
    "## Visualizing the first six images of the training data\n",
    "fig = plt.figure(figsize=(20,20))\n",
    "for i in range(6):\n",
    "    ax = fig.add_subplot(1,6,i+1, xticks=[], yticks=[])\n",
    "    ax.imshow(x_train[i], cmap='gray')\n",
    "    ax.set_title(str(y_train[i]))"
   ]
  },
  {
   "cell_type": "code",
   "execution_count": 9,
   "id": "f574d7e2-7b26-4f74-9a1a-59e288b62afa",
   "metadata": {},
   "outputs": [
    {
     "name": "stdout",
     "output_type": "stream",
     "text": [
      "Number of training samples : 55000\n",
      "Number of validation samples : 5000\n",
      "Number of test samples : 10000\n"
     ]
    }
   ],
   "source": [
    "print('Number of training samples :', len(x_train))\n",
    "print('Number of validation samples :', len(x_valid))\n",
    "print('Number of test samples :', len(x_test))"
   ]
  },
  {
   "cell_type": "code",
   "execution_count": 10,
   "id": "8b043d6f-0cb4-4141-97be-f1102923d261",
   "metadata": {},
   "outputs": [
    {
     "name": "stdout",
     "output_type": "stream",
     "text": [
      "Shape of the image (55000, 28, 28)\n",
      "Shape of the training image (55000, 28, 28, 1)\n",
      "Shape of the validation image (5000, 28, 28, 1)\n",
      "Shape of the test image (10000, 28, 28, 1)\n"
     ]
    }
   ],
   "source": [
    "## Reshaping the images\n",
    "\n",
    "print('Shape of the image', x_train.shape) ## Original shape\n",
    "x_train = x_train.reshape(x_train.shape[0], 28, 28, 1) \n",
    "print('Shape of the training image', x_train.shape)\n",
    "\n",
    "x_valid = x_valid.reshape(x_valid.shape[0], 28, 28, 1) \n",
    "print('Shape of the validation image', x_valid.shape)\n",
    "\n",
    "x_test = x_test.reshape(x_test.shape[0], 28, 28, 1) \n",
    "print('Shape of the test image', x_test.shape)"
   ]
  },
  {
   "cell_type": "markdown",
   "id": "eeef4e5d-7d14-4e72-8637-886abe3c65ae",
   "metadata": {},
   "source": [
    "So we have converted the images from 3D into 4D (number of samples * height * width * color depth). Since it is a gray-scale image, the colour depth is 1."
   ]
  },
  {
   "cell_type": "markdown",
   "id": "ba8fdc0b-24fc-44c8-96b4-e228521e42b7",
   "metadata": {},
   "source": []
  },
  {
   "cell_type": "markdown",
   "id": "3919b1d9-201e-43a9-9aaf-ce9d5d97abfa",
   "metadata": {},
   "source": [
    "Model Building"
   ]
  },
  {
   "cell_type": "code",
   "execution_count": 11,
   "id": "96c7b3c3-5c2e-45eb-ad47-95c7b8810ea6",
   "metadata": {},
   "outputs": [
    {
     "name": "stdout",
     "output_type": "stream",
     "text": [
      "Model: \"sequential\"\n",
      "_________________________________________________________________\n",
      " Layer (type)                Output Shape              Param #   \n",
      "=================================================================\n",
      " conv2d (Conv2D)             (None, 28, 28, 32)        320       \n",
      "                                                                 \n",
      " max_pooling2d (MaxPooling2  (None, 14, 14, 32)        0         \n",
      " D)                                                              \n",
      "                                                                 \n",
      " conv2d_1 (Conv2D)           (None, 14, 14, 64)        18496     \n",
      "                                                                 \n",
      " max_pooling2d_1 (MaxPoolin  (None, 7, 7, 64)          0         \n",
      " g2D)                                                            \n",
      "                                                                 \n",
      " flatten (Flatten)           (None, 3136)              0         \n",
      "                                                                 \n",
      " dense (Dense)               (None, 64)                200768    \n",
      "                                                                 \n",
      " dense_1 (Dense)             (None, 10)                650       \n",
      "                                                                 \n",
      "=================================================================\n",
      "Total params: 220234 (860.29 KB)\n",
      "Trainable params: 220234 (860.29 KB)\n",
      "Non-trainable params: 0 (0.00 Byte)\n",
      "_________________________________________________________________\n"
     ]
    }
   ],
   "source": [
    "from tensorflow.keras.models import Sequential \n",
    "from tensorflow.keras.layers import Conv2D, MaxPooling2D, Flatten, Dense, Dropout, GlobalAveragePooling2D\n",
    "\n",
    "model = Sequential()\n",
    "\n",
    "## First layer of convolusion\n",
    "model.add(Conv2D(32, kernel_size=(3,3), padding='same', activation='relu', input_shape=(28,28,1)))\n",
    "model.add(MaxPooling2D(pool_size=(2,2)))\n",
    "\n",
    "## Second layer of convolusion\n",
    "model.add(Conv2D(64, kernel_size=(3,3), padding='same', activation='relu'))\n",
    "model.add(MaxPooling2D(pool_size=(2,2)))\n",
    "\n",
    "model.add(Flatten())  ## flattning the image to convert the final features into a 1D array\n",
    "          \n",
    "model.add(Dense(64, activation='relu'))  ## dense layers\n",
    "\n",
    "tf.keras.layers.Dropout(0.2)\n",
    "\n",
    "tf.keras.layers.BatchNormalization()\n",
    "          \n",
    "model.add(Dense(10, activation='softmax')) ## Final output layer\n",
    "          \n",
    "model.summary()"
   ]
  },
  {
   "cell_type": "markdown",
   "id": "ebeb226c-2ae3-4e3b-aad5-dccc7aab6c00",
   "metadata": {},
   "source": []
  },
  {
   "cell_type": "markdown",
   "id": "39a7afed-7643-4f40-a6df-e0cafd99ced7",
   "metadata": {},
   "source": [
    "CallBack Functions"
   ]
  },
  {
   "cell_type": "code",
   "execution_count": 12,
   "id": "3dc230dd-677e-4988-96b7-e3f521c25e9d",
   "metadata": {},
   "outputs": [],
   "source": [
    "early_stopping_callback = tf.keras.callbacks.EarlyStopping(patience=5, min_delta=0.01, restore_best_weights=True)"
   ]
  },
  {
   "cell_type": "code",
   "execution_count": 13,
   "id": "5db22318-6023-4f63-a5e6-36e28f1983f8",
   "metadata": {},
   "outputs": [],
   "source": [
    "checkpoint_path = 'Model_Ckeckpoint.h5'\n",
    "checkpoint_callback = tf.keras.callbacks.ModelCheckpoint(checkpoint_path, save_best_only=True)"
   ]
  },
  {
   "cell_type": "markdown",
   "id": "d080bd78-374c-4a05-8f4d-a003a0284c05",
   "metadata": {},
   "source": []
  },
  {
   "cell_type": "markdown",
   "id": "e9424c17-3fb8-4bf4-9c25-cbbd410618e3",
   "metadata": {},
   "source": [
    "Model Training"
   ]
  },
  {
   "cell_type": "code",
   "execution_count": 14,
   "id": "89ea9d05-011f-4e96-8788-13bca91d0253",
   "metadata": {},
   "outputs": [],
   "source": [
    "model.compile(loss='sparse_categorical_crossentropy', optimizer='rmsprop', metrics=['accuracy'])"
   ]
  },
  {
   "cell_type": "code",
   "execution_count": 18,
   "id": "651b30c6-b5ae-48ba-acae-f11f1853fa21",
   "metadata": {},
   "outputs": [
    {
     "name": "stdout",
     "output_type": "stream",
     "text": [
      "Epoch 1/10\n",
      "860/860 - 9s - loss: 0.0093 - accuracy: 0.9969 - val_loss: 0.0352 - val_accuracy: 0.9916 - 9s/epoch - 11ms/step\n",
      "Epoch 2/10\n",
      "860/860 - 9s - loss: 0.0065 - accuracy: 0.9981 - val_loss: 0.0418 - val_accuracy: 0.9906 - 9s/epoch - 10ms/step\n",
      "Epoch 3/10\n",
      "860/860 - 9s - loss: 0.0062 - accuracy: 0.9981 - val_loss: 0.0419 - val_accuracy: 0.9904 - 9s/epoch - 10ms/step\n",
      "Epoch 4/10\n",
      "860/860 - 9s - loss: 0.0049 - accuracy: 0.9986 - val_loss: 0.0435 - val_accuracy: 0.9908 - 9s/epoch - 10ms/step\n",
      "Epoch 5/10\n",
      "860/860 - 9s - loss: 0.0034 - accuracy: 0.9990 - val_loss: 0.0445 - val_accuracy: 0.9912 - 9s/epoch - 11ms/step\n",
      "Epoch 6/10\n",
      "860/860 - 9s - loss: 0.0024 - accuracy: 0.9994 - val_loss: 0.0461 - val_accuracy: 0.9920 - 9s/epoch - 11ms/step\n"
     ]
    }
   ],
   "source": [
    "history = model.fit(x_train, y_train, batch_size=64,  epochs=10, validation_data=(x_valid, y_valid), callbacks=[early_stopping_callback, checkpoint_callback], verbose=2, shuffle=True)"
   ]
  },
  {
   "cell_type": "markdown",
   "id": "7e948edd-c938-42d9-af3d-fb962e237388",
   "metadata": {},
   "source": [
    "So we have saved our best model which was at the 6th epoch as it has the minimum validation loss and the corresponding validation_accuracy of 99.20%. Now we would train our neural network using the best model."
   ]
  },
  {
   "cell_type": "markdown",
   "id": "0e0df6b2-b4b1-4483-b2de-0d2581116042",
   "metadata": {},
   "source": []
  },
  {
   "cell_type": "code",
   "execution_count": 19,
   "id": "d3902a4a-395d-42ad-9fe2-e6d60f8b90e3",
   "metadata": {},
   "outputs": [
    {
     "data": {
      "text/html": [
       "<div>\n",
       "<style scoped>\n",
       "    .dataframe tbody tr th:only-of-type {\n",
       "        vertical-align: middle;\n",
       "    }\n",
       "\n",
       "    .dataframe tbody tr th {\n",
       "        vertical-align: top;\n",
       "    }\n",
       "\n",
       "    .dataframe thead th {\n",
       "        text-align: right;\n",
       "    }\n",
       "</style>\n",
       "<table border=\"1\" class=\"dataframe\">\n",
       "  <thead>\n",
       "    <tr style=\"text-align: right;\">\n",
       "      <th></th>\n",
       "      <th>loss</th>\n",
       "      <th>accuracy</th>\n",
       "      <th>val_loss</th>\n",
       "      <th>val_accuracy</th>\n",
       "    </tr>\n",
       "  </thead>\n",
       "  <tbody>\n",
       "    <tr>\n",
       "      <th>0</th>\n",
       "      <td>0.009323</td>\n",
       "      <td>0.996945</td>\n",
       "      <td>0.035219</td>\n",
       "      <td>0.9916</td>\n",
       "    </tr>\n",
       "    <tr>\n",
       "      <th>1</th>\n",
       "      <td>0.006516</td>\n",
       "      <td>0.998127</td>\n",
       "      <td>0.041789</td>\n",
       "      <td>0.9906</td>\n",
       "    </tr>\n",
       "    <tr>\n",
       "      <th>2</th>\n",
       "      <td>0.006191</td>\n",
       "      <td>0.998073</td>\n",
       "      <td>0.041927</td>\n",
       "      <td>0.9904</td>\n",
       "    </tr>\n",
       "    <tr>\n",
       "      <th>3</th>\n",
       "      <td>0.004875</td>\n",
       "      <td>0.998618</td>\n",
       "      <td>0.043496</td>\n",
       "      <td>0.9908</td>\n",
       "    </tr>\n",
       "    <tr>\n",
       "      <th>4</th>\n",
       "      <td>0.003427</td>\n",
       "      <td>0.999000</td>\n",
       "      <td>0.044461</td>\n",
       "      <td>0.9912</td>\n",
       "    </tr>\n",
       "    <tr>\n",
       "      <th>5</th>\n",
       "      <td>0.002372</td>\n",
       "      <td>0.999382</td>\n",
       "      <td>0.046075</td>\n",
       "      <td>0.9920</td>\n",
       "    </tr>\n",
       "  </tbody>\n",
       "</table>\n",
       "</div>"
      ],
      "text/plain": [
       "       loss  accuracy  val_loss  val_accuracy\n",
       "0  0.009323  0.996945  0.035219        0.9916\n",
       "1  0.006516  0.998127  0.041789        0.9906\n",
       "2  0.006191  0.998073  0.041927        0.9904\n",
       "3  0.004875  0.998618  0.043496        0.9908\n",
       "4  0.003427  0.999000  0.044461        0.9912\n",
       "5  0.002372  0.999382  0.046075        0.9920"
      ]
     },
     "execution_count": 19,
     "metadata": {},
     "output_type": "execute_result"
    }
   ],
   "source": [
    "pd.DataFrame(history.history)"
   ]
  },
  {
   "cell_type": "code",
   "execution_count": 20,
   "id": "c4dc1f85-4a6e-4b79-a876-cd0293babab2",
   "metadata": {},
   "outputs": [
    {
     "data": {
      "text/plain": [
       "<AxesSubplot: >"
      ]
     },
     "execution_count": 20,
     "metadata": {},
     "output_type": "execute_result"
    },
    {
     "data": {
      "image/png": "[encoded data removed]",
      "text/plain": [
       "<Figure size 640x480 with 1 Axes>"
      ]
     },
     "metadata": {},
     "output_type": "display_data"
    }
   ],
   "source": [
    "pd.DataFrame(history.history).plot()"
   ]
  },
  {
   "cell_type": "markdown",
   "id": "823cd7b2-75b6-4b40-959e-8c2ce1ccb773",
   "metadata": {},
   "source": []
  },
  {
   "cell_type": "markdown",
   "id": "ecbe9778-e624-41ef-8e3b-a083a719de66",
   "metadata": {},
   "source": [
    "Loading Checkpoint Model"
   ]
  },
  {
   "cell_type": "code",
   "execution_count": 21,
   "id": "dfc03ba5-be84-4bbf-a744-2ee196ad9ba7",
   "metadata": {},
   "outputs": [],
   "source": [
    "checkpoint_model = tf.keras.models.load_model(checkpoint_path)"
   ]
  },
  {
   "cell_type": "code",
   "execution_count": 22,
   "id": "e6b64349-2016-4af6-8d16-fd63ef8ca10f",
   "metadata": {},
   "outputs": [
    {
     "name": "stdout",
     "output_type": "stream",
     "text": [
      "313/313 [==============================] - 1s 3ms/step - loss: 0.0313 - accuracy: 0.9920\n"
     ]
    }
   ],
   "source": [
    "score = checkpoint_model.evaluate(x_test, y_test)"
   ]
  },
  {
   "cell_type": "code",
   "execution_count": 23,
   "id": "aa69a8f4-cbca-4e1c-8108-82732faed6fa",
   "metadata": {},
   "outputs": [
    {
     "name": "stdout",
     "output_type": "stream",
     "text": [
      "model accuracy = 99.19999837875366\n"
     ]
    }
   ],
   "source": [
    "print('model accuracy =', score[1]*100)"
   ]
  },
  {
   "cell_type": "markdown",
   "id": "c9f1de32-b050-453e-8c17-fd498dc18208",
   "metadata": {},
   "source": []
  },
  {
   "cell_type": "code",
   "execution_count": 27,
   "id": "f5f4e426-152c-432c-9bef-ee73c2be8bde",
   "metadata": {},
   "outputs": [],
   "source": [
    "x_unknown = x_test[:10]"
   ]
  },
  {
   "cell_type": "code",
   "execution_count": 28,
   "id": "db90ba66-2a19-4737-a08b-e41a89c123bd",
   "metadata": {},
   "outputs": [],
   "source": [
    "actual = y_test[:10]"
   ]
  },
  {
   "cell_type": "code",
   "execution_count": 29,
   "id": "2a49e57b-c630-475f-83a2-a8212fda08b9",
   "metadata": {},
   "outputs": [
    {
     "name": "stdout",
     "output_type": "stream",
     "text": [
      "1/1 [==============================] - 0s 27ms/step\n"
     ]
    },
    {
     "data": {
      "text/plain": [
       "array([[0.  , 0.  , 0.  , 0.  , 0.  , 0.  , 0.  , 1.  , 0.  , 0.  ],\n",
       "       [0.  , 0.  , 1.  , 0.  , 0.  , 0.  , 0.  , 0.  , 0.  , 0.  ],\n",
       "       [0.  , 1.  , 0.  , 0.  , 0.  , 0.  , 0.  , 0.  , 0.  , 0.  ],\n",
       "       [1.  , 0.  , 0.  , 0.  , 0.  , 0.  , 0.  , 0.  , 0.  , 0.  ],\n",
       "       [0.  , 0.  , 0.  , 0.  , 1.  , 0.  , 0.  , 0.  , 0.  , 0.  ],\n",
       "       [0.  , 1.  , 0.  , 0.  , 0.  , 0.  , 0.  , 0.  , 0.  , 0.  ],\n",
       "       [0.  , 0.  , 0.  , 0.  , 1.  , 0.  , 0.  , 0.  , 0.  , 0.  ],\n",
       "       [0.  , 0.  , 0.  , 0.  , 0.  , 0.  , 0.  , 0.  , 0.  , 1.  ],\n",
       "       [0.  , 0.  , 0.  , 0.  , 0.  , 0.75, 0.18, 0.  , 0.07, 0.  ],\n",
       "       [0.  , 0.  , 0.  , 0.  , 0.  , 0.  , 0.  , 0.  , 0.  , 1.  ]],\n",
       "      dtype=float32)"
      ]
     },
     "execution_count": 29,
     "metadata": {},
     "output_type": "execute_result"
    }
   ],
   "source": [
    "y_prob = checkpoint_model.predict(x_unknown)\n",
    "y_prob.round(2) ## Rounding-off the probability to two digits"
   ]
  },
  {
   "cell_type": "code",
   "execution_count": 30,
   "id": "89d12ac5-faae-4beb-a01f-17890a45ac69",
   "metadata": {},
   "outputs": [
    {
     "data": {
      "text/plain": [
       "array([[8.06196748e-16, 2.51257500e-12, 1.71735515e-10, 5.59269020e-11,\n",
       "        6.59525629e-11, 1.19982027e-13, 3.96699949e-22, 9.99999940e-01,\n",
       "        8.16802595e-15, 1.98483363e-08],\n",
       "       [4.35169900e-10, 1.62483069e-10, 9.99999940e-01, 1.45283377e-15,\n",
       "        9.12370316e-16, 2.06317828e-21, 1.31609723e-09, 1.58470695e-15,\n",
       "        6.91989174e-12, 8.34206751e-15],\n",
       "       [2.01244251e-12, 9.99999225e-01, 3.86461002e-12, 3.71665487e-14,\n",
       "        4.31938588e-07, 9.87885381e-12, 1.28482155e-10, 1.17125936e-07,\n",
       "        9.54938102e-08, 5.51233192e-09],\n",
       "       [9.99999940e-01, 1.09090214e-16, 3.80635454e-11, 3.59984395e-13,\n",
       "        5.35400505e-15, 1.75249572e-11, 1.72242753e-09, 2.61929339e-10,\n",
       "        3.49834779e-11, 1.85394611e-09],\n",
       "       [1.06710203e-12, 5.98580566e-14, 6.47427329e-14, 5.49627397e-16,\n",
       "        9.99999940e-01, 5.37564524e-12, 8.52336051e-15, 1.11645979e-11,\n",
       "        4.16627774e-11, 3.49012872e-08],\n",
       "       [8.14123888e-13, 9.99998391e-01, 1.44049443e-12, 1.38280511e-15,\n",
       "        7.53910172e-07, 2.45921939e-14, 3.40445944e-12, 7.73056399e-07,\n",
       "        1.99180104e-08, 5.02103461e-08],\n",
       "       [1.72750699e-17, 2.08104489e-11, 5.45013238e-16, 3.23509800e-18,\n",
       "        9.99999940e-01, 2.26630455e-13, 1.77323796e-15, 8.13699441e-10,\n",
       "        2.54742503e-08, 9.06756270e-09],\n",
       "       [1.02992549e-16, 9.74368372e-13, 4.33946871e-11, 2.01999667e-11,\n",
       "        5.39545567e-07, 4.09550518e-12, 2.42796204e-18, 1.46806384e-12,\n",
       "        4.25098285e-08, 9.99999344e-01],\n",
       "       [2.15389900e-06, 9.32686952e-14, 1.07852856e-08, 1.66844460e-09,\n",
       "        1.20191851e-06, 7.50943840e-01, 1.76540092e-01, 1.49740997e-10,\n",
       "        7.22924992e-02, 2.20290283e-04],\n",
       "       [6.79947592e-18, 1.50221210e-18, 1.57787696e-17, 3.31346372e-15,\n",
       "        1.06567484e-07, 1.40147890e-15, 1.26776593e-20, 2.87365964e-10,\n",
       "        8.93697338e-11, 9.99999881e-01]], dtype=float32)"
      ]
     },
     "execution_count": 30,
     "metadata": {},
     "output_type": "execute_result"
    }
   ],
   "source": [
    "y_prob"
   ]
  },
  {
   "cell_type": "code",
   "execution_count": 31,
   "id": "ceb52d94-037c-4fa9-8b12-73fc6bff2356",
   "metadata": {},
   "outputs": [],
   "source": [
    "y_predict = np.argmax(y_prob, axis=-1)"
   ]
  },
  {
   "cell_type": "code",
   "execution_count": 32,
   "id": "9290ccee-0d1d-4db3-9ab6-24e0188616dc",
   "metadata": {},
   "outputs": [
    {
     "data": {
      "text/plain": [
       "array([7, 2, 1, 0, 4, 1, 4, 9, 5, 9])"
      ]
     },
     "execution_count": 32,
     "metadata": {},
     "output_type": "execute_result"
    }
   ],
   "source": [
    "y_predict"
   ]
  },
  {
   "cell_type": "code",
   "execution_count": 33,
   "id": "376c2cfe-e89b-484b-ac6b-de01049fce6f",
   "metadata": {},
   "outputs": [
    {
     "data": {
      "text/plain": [
       "array([7, 2, 1, 0, 4, 1, 4, 9, 5, 9], dtype=uint8)"
      ]
     },
     "execution_count": 33,
     "metadata": {},
     "output_type": "execute_result"
    }
   ],
   "source": [
    "y_test[:10]"
   ]
  },
  {
   "cell_type": "markdown",
   "id": "ecfd4028",
   "metadata": {},
   "source": [
    "So we can see that for the first 10 test images, the model has done accurate predictions. Hence we can say that it is a good model. "
   ]
  }
 ],
 "metadata": {
  "kernelspec": {
   "display_name": "Python 3 (ipykernel)",
   "language": "python",
   "name": "python3"
  },
  "language_info": {
   "codemirror_mode": {
    "name": "ipython",
    "version": 3
   },
   "file_extension": ".py",
   "mimetype": "text/x-python",
   "name": "python",
   "nbconvert_exporter": "python",
   "pygments_lexer": "ipython3",
   "version": "3.10.8"
  }
 },
 "nbformat": 4,
 "nbformat_minor": 5
}
