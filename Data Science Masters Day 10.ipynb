{
 "cells": [
  {
   "cell_type": "markdown",
   "id": "8db2cae9-5242-4579-aba4-d774c06ecd80",
   "metadata": {},
   "source": [
    "### Concatination opertion"
   ]
  },
  {
   "cell_type": "code",
   "execution_count": 52,
   "id": "7bc43482-10e6-4c9c-a4fc-a4549600496d",
   "metadata": {},
   "outputs": [],
   "source": [
    "list1=['PW', 'skills', 1, 2]"
   ]
  },
  {
   "cell_type": "code",
   "execution_count": 53,
   "id": "425cde82-6ba7-4a84-8877-471212548d5f",
   "metadata": {},
   "outputs": [
    {
     "data": {
      "text/plain": [
       "['PW', 'skills', 1, 2]"
      ]
     },
     "execution_count": 53,
     "metadata": {},
     "output_type": "execute_result"
    }
   ],
   "source": [
    "list1"
   ]
  },
  {
   "cell_type": "code",
   "execution_count": 54,
   "id": "57a52cda-fe3b-49d0-afee-ad1ad2d4255f",
   "metadata": {},
   "outputs": [
    {
     "data": {
      "text/plain": [
       "['PW', 'skills', 1, 2, 'data', 'science']"
      ]
     },
     "execution_count": 54,
     "metadata": {},
     "output_type": "execute_result"
    }
   ],
   "source": [
    "list1+['data', 'science']"
   ]
  },
  {
   "cell_type": "code",
   "execution_count": 57,
   "id": "421a165a-4142-44f6-a77b-cc80ae31a272",
   "metadata": {},
   "outputs": [
    {
     "data": {
      "text/plain": [
       "['PW', 'skills', 1, 2]"
      ]
     },
     "execution_count": 57,
     "metadata": {},
     "output_type": "execute_result"
    }
   ],
   "source": [
    "# list1 will not get updated\n",
    "\n",
    "list1"
   ]
  },
  {
   "cell_type": "code",
   "execution_count": 6,
   "id": "87a3891c-d64d-4de8-8c62-d5dd0bf991e3",
   "metadata": {},
   "outputs": [],
   "source": [
    "list3=list1+[[3,4,'masters']]"
   ]
  },
  {
   "cell_type": "code",
   "execution_count": 7,
   "id": "fb1e9647-ee8e-422f-88be-ef730f9b5784",
   "metadata": {},
   "outputs": [
    {
     "data": {
      "text/plain": [
       "['PW', 'skills', 1, 2, [3, 4, 'masters']]"
      ]
     },
     "execution_count": 7,
     "metadata": {},
     "output_type": "execute_result"
    }
   ],
   "source": [
    "list3"
   ]
  },
  {
   "cell_type": "code",
   "execution_count": 8,
   "id": "31d07251-e0c3-4eaa-ad8c-fb7db6dac4bc",
   "metadata": {},
   "outputs": [
    {
     "data": {
      "text/plain": [
       "[3, 4, 'masters']"
      ]
     },
     "execution_count": 8,
     "metadata": {},
     "output_type": "execute_result"
    }
   ],
   "source": [
    "list3[4]"
   ]
  },
  {
   "cell_type": "code",
   "execution_count": 9,
   "id": "8a7f6edd-3b74-40a2-a4b7-bc80bec79d18",
   "metadata": {},
   "outputs": [
    {
     "data": {
      "text/plain": [
       "'masters'"
      ]
     },
     "execution_count": 9,
     "metadata": {},
     "output_type": "execute_result"
    }
   ],
   "source": [
    "list3[4][2]"
   ]
  },
  {
   "cell_type": "code",
   "execution_count": 10,
   "id": "5239336e-d88b-44bf-846b-0399a6e881f0",
   "metadata": {},
   "outputs": [],
   "source": [
    "list4=list1*3"
   ]
  },
  {
   "cell_type": "code",
   "execution_count": 11,
   "id": "89b1c6ba-1702-4bcb-aece-f69222beed3d",
   "metadata": {},
   "outputs": [
    {
     "data": {
      "text/plain": [
       "['PW', 'skills', 1, 2, 'PW', 'skills', 1, 2, 'PW', 'skills', 1, 2]"
      ]
     },
     "execution_count": 11,
     "metadata": {},
     "output_type": "execute_result"
    }
   ],
   "source": [
    "list4"
   ]
  },
  {
   "cell_type": "code",
   "execution_count": 12,
   "id": "f6511fce-622c-4bb3-ad06-6e5d81969e6a",
   "metadata": {},
   "outputs": [],
   "source": [
    "list1=list1*3"
   ]
  },
  {
   "cell_type": "code",
   "execution_count": 13,
   "id": "119a9021-6096-4289-add1-a7565e483235",
   "metadata": {},
   "outputs": [
    {
     "data": {
      "text/plain": [
       "['PW', 'skills', 1, 2, 'PW', 'skills', 1, 2, 'PW', 'skills', 1, 2]"
      ]
     },
     "execution_count": 13,
     "metadata": {},
     "output_type": "execute_result"
    }
   ],
   "source": [
    "list1"
   ]
  },
  {
   "cell_type": "code",
   "execution_count": 14,
   "id": "b5ea6ece-73a8-41b7-9de7-bc664c2b7756",
   "metadata": {},
   "outputs": [],
   "source": [
    "list1=['PW', 'skills', 1, 2]"
   ]
  },
  {
   "cell_type": "code",
   "execution_count": 15,
   "id": "39e0b5c5-15ec-4543-bfa4-68631704397a",
   "metadata": {},
   "outputs": [
    {
     "data": {
      "text/plain": [
       "['PW', 'skills', 1, 2]"
      ]
     },
     "execution_count": 15,
     "metadata": {},
     "output_type": "execute_result"
    }
   ],
   "source": [
    "list1"
   ]
  },
  {
   "cell_type": "code",
   "execution_count": 16,
   "id": "56bef056-6562-4b59-8293-7501a275929d",
   "metadata": {},
   "outputs": [],
   "source": [
    "## check whether 'skills' is present in list1"
   ]
  },
  {
   "cell_type": "code",
   "execution_count": 17,
   "id": "71712376-9b16-4683-a53b-91cc7e44c87e",
   "metadata": {},
   "outputs": [
    {
     "name": "stdout",
     "output_type": "stream",
     "text": [
      "present\n"
     ]
    }
   ],
   "source": [
    "if 'skills' in list1:\n",
    "    print('present')"
   ]
  },
  {
   "cell_type": "code",
   "execution_count": 25,
   "id": "1e336996-5276-4d7e-8540-57e28fb3366b",
   "metadata": {},
   "outputs": [],
   "source": [
    "# alternate method"
   ]
  },
  {
   "cell_type": "code",
   "execution_count": 22,
   "id": "e7927c0b-caab-48d8-8317-6cd87fbb00c5",
   "metadata": {},
   "outputs": [
    {
     "data": {
      "text/plain": [
       "True"
      ]
     },
     "execution_count": 22,
     "metadata": {},
     "output_type": "execute_result"
    }
   ],
   "source": [
    "'skills' in list1"
   ]
  },
  {
   "cell_type": "code",
   "execution_count": 23,
   "id": "571315f0-1163-4f15-bb51-6beef1e26628",
   "metadata": {},
   "outputs": [],
   "source": [
    "# alternate method"
   ]
  },
  {
   "cell_type": "code",
   "execution_count": 24,
   "id": "b48d8c73-f943-493b-a706-c2eb2d4d87ee",
   "metadata": {},
   "outputs": [
    {
     "name": "stdout",
     "output_type": "stream",
     "text": [
      "present\n"
     ]
    }
   ],
   "source": [
    "for i in list1:\n",
    "    if i=='skills':\n",
    "        print('present')"
   ]
  },
  {
   "cell_type": "code",
   "execution_count": 58,
   "id": "9dcc7673-ae0d-481f-afcd-585e9c47fc25",
   "metadata": {},
   "outputs": [],
   "source": [
    "list1=['PW','Skills','Data','Masters']"
   ]
  },
  {
   "cell_type": "code",
   "execution_count": 59,
   "id": "11577d2e-370f-4758-aa9e-3d0e1721a364",
   "metadata": {},
   "outputs": [
    {
     "data": {
      "text/plain": [
       "['PW', 'Skills', 'Data', 'Masters']"
      ]
     },
     "execution_count": 59,
     "metadata": {},
     "output_type": "execute_result"
    }
   ],
   "source": [
    "list1"
   ]
  },
  {
   "cell_type": "code",
   "execution_count": 60,
   "id": "292448ba-b1c5-4981-9747-fd749eeddac5",
   "metadata": {},
   "outputs": [
    {
     "name": "stdout",
     "output_type": "stream",
     "text": [
      "Skills\n"
     ]
    }
   ],
   "source": [
    "print(max(list1))\n",
    "\n",
    "# prints the element with the largest ascii value"
   ]
  },
  {
   "cell_type": "code",
   "execution_count": 61,
   "id": "f11fec94-8f33-4710-945a-088cb6dc81dc",
   "metadata": {},
   "outputs": [],
   "source": [
    "list2=[1,2,3,4,5]"
   ]
  },
  {
   "cell_type": "code",
   "execution_count": 62,
   "id": "2dfd2b63-842d-4167-b8ce-ffd736cd3ca4",
   "metadata": {},
   "outputs": [
    {
     "data": {
      "text/plain": [
       "[1, 2, 3, 4, 5]"
      ]
     },
     "execution_count": 62,
     "metadata": {},
     "output_type": "execute_result"
    }
   ],
   "source": [
    "list2"
   ]
  },
  {
   "cell_type": "code",
   "execution_count": 63,
   "id": "00369d10-8213-4535-ab21-b4fc58827636",
   "metadata": {},
   "outputs": [
    {
     "name": "stdout",
     "output_type": "stream",
     "text": [
      "5\n"
     ]
    }
   ],
   "source": [
    "print(max(list2))"
   ]
  },
  {
   "cell_type": "code",
   "execution_count": 64,
   "id": "227e09d3-5afc-4404-9bfd-506b8540d2d8",
   "metadata": {},
   "outputs": [
    {
     "name": "stdout",
     "output_type": "stream",
     "text": [
      "Data\n"
     ]
    }
   ],
   "source": [
    "print(min(list1))\n",
    "\n",
    "# prints the element with the smallest ascii value"
   ]
  },
  {
   "cell_type": "code",
   "execution_count": 68,
   "id": "37719468-806a-44b7-ab47-01d48ff0b639",
   "metadata": {},
   "outputs": [],
   "source": [
    "list1=['PW','Skills','Data','Masters']"
   ]
  },
  {
   "cell_type": "code",
   "execution_count": 69,
   "id": "f1974714-38c0-433c-a063-b2266a499290",
   "metadata": {},
   "outputs": [],
   "source": [
    "# in order to update a list\n",
    "\n",
    "list1.append('Science')"
   ]
  },
  {
   "cell_type": "code",
   "execution_count": 70,
   "id": "62573707-253f-4b00-ade7-c82afb1b3aaf",
   "metadata": {},
   "outputs": [
    {
     "data": {
      "text/plain": [
       "['PW', 'Skills', 'Data', 'Masters', 'Science']"
      ]
     },
     "execution_count": 70,
     "metadata": {},
     "output_type": "execute_result"
    }
   ],
   "source": [
    "list1"
   ]
  },
  {
   "cell_type": "code",
   "execution_count": 71,
   "id": "cac08243-b7a6-4672-adda-f8d555924e44",
   "metadata": {},
   "outputs": [],
   "source": [
    "list1.append(['AI','ML','DL'])"
   ]
  },
  {
   "cell_type": "code",
   "execution_count": 72,
   "id": "393b9d1a-2555-4abe-8068-05c5c5ff72ba",
   "metadata": {},
   "outputs": [
    {
     "data": {
      "text/plain": [
       "['PW', 'Skills', 'Data', 'Masters', 'Science', ['AI', 'ML', 'DL']]"
      ]
     },
     "execution_count": 72,
     "metadata": {},
     "output_type": "execute_result"
    }
   ],
   "source": [
    "list1"
   ]
  },
  {
   "cell_type": "code",
   "execution_count": 73,
   "id": "1870f656-f53e-47c1-8efc-e1b962f014df",
   "metadata": {},
   "outputs": [
    {
     "data": {
      "text/plain": [
       "['AI', 'ML', 'DL']"
      ]
     },
     "execution_count": 73,
     "metadata": {},
     "output_type": "execute_result"
    }
   ],
   "source": [
    "# in order to remove an element from the list, by default it removes the last element\n",
    "list1.pop()"
   ]
  },
  {
   "cell_type": "code",
   "execution_count": 74,
   "id": "cca4bb91-7e08-44fc-ad53-e4cafad81f27",
   "metadata": {},
   "outputs": [
    {
     "data": {
      "text/plain": [
       "['PW', 'Skills', 'Data', 'Masters', 'Science']"
      ]
     },
     "execution_count": 74,
     "metadata": {},
     "output_type": "execute_result"
    }
   ],
   "source": [
    "list1"
   ]
  },
  {
   "cell_type": "code",
   "execution_count": 76,
   "id": "a1555e8a-a343-47fe-b933-f0364ea4eb13",
   "metadata": {},
   "outputs": [
    {
     "data": {
      "text/plain": [
       "'Data'"
      ]
     },
     "execution_count": 76,
     "metadata": {},
     "output_type": "execute_result"
    }
   ],
   "source": [
    "list1.pop(2)"
   ]
  },
  {
   "cell_type": "code",
   "execution_count": 33,
   "id": "c36fc5fe-9f73-46fd-a683-7f0c356537cb",
   "metadata": {},
   "outputs": [],
   "source": [
    "list1=['PW','Skills','Data','Masters']"
   ]
  },
  {
   "cell_type": "code",
   "execution_count": 34,
   "id": "33dab8df-e7b9-4db1-b1d8-b6735bdca2f7",
   "metadata": {},
   "outputs": [],
   "source": [
    "list1.reverse()"
   ]
  },
  {
   "cell_type": "code",
   "execution_count": 35,
   "id": "f5b10f71-e90c-4688-823d-b92d2de16df8",
   "metadata": {},
   "outputs": [
    {
     "data": {
      "text/plain": [
       "['Masters', 'Data', 'Skills', 'PW']"
      ]
     },
     "execution_count": 35,
     "metadata": {},
     "output_type": "execute_result"
    }
   ],
   "source": [
    "list1"
   ]
  },
  {
   "cell_type": "code",
   "execution_count": 36,
   "id": "3ca5b7e0-cadf-4b81-a284-a5e2d83065ab",
   "metadata": {},
   "outputs": [],
   "source": [
    "list1.sort()\n",
    "\n",
    "# by default sorts in ascending order"
   ]
  },
  {
   "cell_type": "code",
   "execution_count": 37,
   "id": "c1e1b8bb-7765-4f38-a710-9b81105ad000",
   "metadata": {},
   "outputs": [
    {
     "data": {
      "text/plain": [
       "['Data', 'Masters', 'PW', 'Skills']"
      ]
     },
     "execution_count": 37,
     "metadata": {},
     "output_type": "execute_result"
    }
   ],
   "source": [
    "list1"
   ]
  },
  {
   "cell_type": "code",
   "execution_count": 38,
   "id": "fc16219e-5ba2-48ca-88f8-c777859b5e0d",
   "metadata": {},
   "outputs": [],
   "source": [
    "# to arrange a list in descending order\n",
    "list1.sort(reverse=True)"
   ]
  },
  {
   "cell_type": "code",
   "execution_count": 39,
   "id": "77ebc63e-b741-4aaf-ad80-64100b21bb77",
   "metadata": {},
   "outputs": [
    {
     "data": {
      "text/plain": [
       "['Skills', 'PW', 'Masters', 'Data']"
      ]
     },
     "execution_count": 39,
     "metadata": {},
     "output_type": "execute_result"
    }
   ],
   "source": [
    "list1"
   ]
  },
  {
   "cell_type": "code",
   "execution_count": 40,
   "id": "86a42f48-201e-4453-b593-55ac214ecea2",
   "metadata": {},
   "outputs": [],
   "source": [
    "list1=[2,5,3,1,4]"
   ]
  },
  {
   "cell_type": "code",
   "execution_count": 41,
   "id": "40a9b302-6db9-4873-9d7d-5bb3b905f03e",
   "metadata": {},
   "outputs": [
    {
     "data": {
      "text/plain": [
       "[2, 5, 3, 1, 4]"
      ]
     },
     "execution_count": 41,
     "metadata": {},
     "output_type": "execute_result"
    }
   ],
   "source": [
    "list1"
   ]
  },
  {
   "cell_type": "code",
   "execution_count": 42,
   "id": "1c3ef6c4-81ee-4d6c-881f-9a40b7c5a309",
   "metadata": {},
   "outputs": [],
   "source": [
    "list1.sort()"
   ]
  },
  {
   "cell_type": "code",
   "execution_count": 26,
   "id": "0682c899-4702-4ae1-942d-01dbb07e49ff",
   "metadata": {},
   "outputs": [
    {
     "data": {
      "text/plain": [
       "[1, 2, 3, 4, 5]"
      ]
     },
     "execution_count": 26,
     "metadata": {},
     "output_type": "execute_result"
    }
   ],
   "source": [
    "list1"
   ]
  },
  {
   "cell_type": "code",
   "execution_count": 43,
   "id": "929d64b5-969b-4f2c-bf42-c30560a184d6",
   "metadata": {},
   "outputs": [],
   "source": [
    "list1.sort(reverse=True)"
   ]
  },
  {
   "cell_type": "code",
   "execution_count": 44,
   "id": "f2f90ea4-8b94-4fd9-b3fd-2930a34a1672",
   "metadata": {},
   "outputs": [
    {
     "data": {
      "text/plain": [
       "[5, 4, 3, 2, 1]"
      ]
     },
     "execution_count": 44,
     "metadata": {},
     "output_type": "execute_result"
    }
   ],
   "source": [
    "list1"
   ]
  },
  {
   "cell_type": "code",
   "execution_count": 1,
   "id": "5b50a882-a4f7-411e-ab28-f2eff90b862a",
   "metadata": {},
   "outputs": [],
   "source": [
    "lst=[1,2,3,4,5]"
   ]
  },
  {
   "cell_type": "code",
   "execution_count": 2,
   "id": "c77460a3-51b6-4390-a0de-f4f0616d5683",
   "metadata": {},
   "outputs": [
    {
     "data": {
      "text/plain": [
       "[1, 2, 3, 4, 5]"
      ]
     },
     "execution_count": 2,
     "metadata": {},
     "output_type": "execute_result"
    }
   ],
   "source": [
    "lst"
   ]
  },
  {
   "cell_type": "code",
   "execution_count": 5,
   "id": "a3447eec-8d74-4f4a-984a-f24d75d2e45a",
   "metadata": {},
   "outputs": [],
   "source": [
    "lst.append(6)"
   ]
  },
  {
   "cell_type": "code",
   "execution_count": 7,
   "id": "add0dd05-3fa9-4709-978c-cd9d8c625d38",
   "metadata": {},
   "outputs": [
    {
     "data": {
      "text/plain": [
       "[1, 2, 3, 4, 5, 6]"
      ]
     },
     "execution_count": 7,
     "metadata": {},
     "output_type": "execute_result"
    }
   ],
   "source": [
    "lst"
   ]
  },
  {
   "cell_type": "code",
   "execution_count": 8,
   "id": "0f05a225-34f7-4af4-94e2-2e01bd15a68e",
   "metadata": {},
   "outputs": [],
   "source": [
    "# in order to add more than one argument in a list"
   ]
  },
  {
   "cell_type": "code",
   "execution_count": 12,
   "id": "413f4ea7-3753-42c3-967f-ec39ff5a2dae",
   "metadata": {},
   "outputs": [],
   "source": [
    "a=[7,8,9]\n",
    "lst.extend(a)"
   ]
  },
  {
   "cell_type": "code",
   "execution_count": 13,
   "id": "76115f45-03cb-4742-9f6c-98bf7576b753",
   "metadata": {},
   "outputs": [
    {
     "data": {
      "text/plain": [
       "[1, 2, 3, 4, 5, 6, 7, 8, 9]"
      ]
     },
     "execution_count": 13,
     "metadata": {},
     "output_type": "execute_result"
    }
   ],
   "source": [
    "lst"
   ]
  },
  {
   "cell_type": "code",
   "execution_count": 14,
   "id": "9b0c9fe2-97b2-43c1-8a17-e1694e992353",
   "metadata": {},
   "outputs": [],
   "source": [
    "a=[7,8,9]\n",
    "lst.append(a)"
   ]
  },
  {
   "cell_type": "code",
   "execution_count": 15,
   "id": "3b78ae8f-2777-4b72-a1b9-e0af8ac1e5bd",
   "metadata": {},
   "outputs": [
    {
     "data": {
      "text/plain": [
       "[1, 2, 3, 4, 5, 6, 7, 8, 9, [7, 8, 9]]"
      ]
     },
     "execution_count": 15,
     "metadata": {},
     "output_type": "execute_result"
    }
   ],
   "source": [
    "lst"
   ]
  },
  {
   "cell_type": "code",
   "execution_count": 16,
   "id": "fd773c7a-a685-4902-8964-112d735fd6a2",
   "metadata": {},
   "outputs": [],
   "source": [
    "lst=[1,2,3,4,5]"
   ]
  },
  {
   "cell_type": "code",
   "execution_count": 18,
   "id": "22e1ffb0-d3b4-4090-abe4-8952f5cc4521",
   "metadata": {},
   "outputs": [
    {
     "data": {
      "text/plain": [
       "[1, 2, 3, 4, 5]"
      ]
     },
     "execution_count": 18,
     "metadata": {},
     "output_type": "execute_result"
    }
   ],
   "source": [
    "lst"
   ]
  },
  {
   "cell_type": "code",
   "execution_count": null,
   "id": "6c5999cf-32cd-4e70-9a90-83ecd279ecfd",
   "metadata": {},
   "outputs": [],
   "source": [
    "# in order to insert element at any index"
   ]
  },
  {
   "cell_type": "code",
   "execution_count": 21,
   "id": "a2a18993-5040-4994-9a2d-b784682941ad",
   "metadata": {},
   "outputs": [],
   "source": [
    "lst.insert(0,100)"
   ]
  },
  {
   "cell_type": "code",
   "execution_count": 22,
   "id": "de5187f6-bfee-4b61-9d94-cf4ff18e64ae",
   "metadata": {},
   "outputs": [
    {
     "data": {
      "text/plain": [
       "[100, 1, 2, 3, 4, 5]"
      ]
     },
     "execution_count": 22,
     "metadata": {},
     "output_type": "execute_result"
    }
   ],
   "source": [
    "lst"
   ]
  },
  {
   "cell_type": "code",
   "execution_count": 24,
   "id": "20db3303-bd96-451b-bb74-6b0289323d2e",
   "metadata": {},
   "outputs": [],
   "source": [
    "lst.insert(2,500)"
   ]
  },
  {
   "cell_type": "code",
   "execution_count": 26,
   "id": "77d50bde-66ec-43fb-b983-2f36184aae45",
   "metadata": {},
   "outputs": [
    {
     "data": {
      "text/plain": [
       "[100, 1, 500, 2, 3, 4, 5]"
      ]
     },
     "execution_count": 26,
     "metadata": {},
     "output_type": "execute_result"
    }
   ],
   "source": [
    "lst"
   ]
  },
  {
   "cell_type": "code",
   "execution_count": 27,
   "id": "93c0f115-a697-4362-9456-f2bbb8f41732",
   "metadata": {},
   "outputs": [],
   "source": [
    "lst1=[1,2,3]\n",
    "lst2=[4,5,6]\n",
    "lst3=[7,8,9]"
   ]
  },
  {
   "cell_type": "code",
   "execution_count": 28,
   "id": "03e5220b-47d4-41ce-93c1-bd3f74c937d2",
   "metadata": {},
   "outputs": [],
   "source": [
    "matrix=[lst1,lst2,lst3]"
   ]
  },
  {
   "cell_type": "code",
   "execution_count": 29,
   "id": "afaab019-d831-4158-9c2e-fb7b4caf1a52",
   "metadata": {},
   "outputs": [
    {
     "data": {
      "text/plain": [
       "[[1, 2, 3], [4, 5, 6], [7, 8, 9]]"
      ]
     },
     "execution_count": 29,
     "metadata": {},
     "output_type": "execute_result"
    }
   ],
   "source": [
    "matrix"
   ]
  },
  {
   "cell_type": "markdown",
   "id": "64d5b3b0-3fe0-48f6-87f2-4594452e9db0",
   "metadata": {},
   "source": [
    "### List comprehension"
   ]
  },
  {
   "cell_type": "code",
   "execution_count": 1,
   "id": "8a238848-db9a-4454-b110-cc5b00b3f353",
   "metadata": {},
   "outputs": [
    {
     "data": {
      "text/plain": [
       "[0, 1, 2, 3, 4, 5, 6, 7, 8, 9, 10, 11, 12, 13, 14, 15, 16, 17, 18, 19]"
      ]
     },
     "execution_count": 1,
     "metadata": {},
     "output_type": "execute_result"
    }
   ],
   "source": [
    "#print a list with elements 0 to 19\n",
    "[i for i in range(20)]"
   ]
  },
  {
   "cell_type": "code",
   "execution_count": 2,
   "id": "330d8f38-c53a-48d5-aa98-eceba58fe91d",
   "metadata": {},
   "outputs": [
    {
     "data": {
      "text/plain": [
       "[0, '', 2, '', 4, '', 6, '', 8, '', 10, '', 12, '', 14, '', 16, '', 18, '']"
      ]
     },
     "execution_count": 2,
     "metadata": {},
     "output_type": "execute_result"
    }
   ],
   "source": [
    "#print a list with only even numbers ranging from 0 to 19\n",
    "\n",
    "[i if i%2==0 else '' for i in range(20)]"
   ]
  },
  {
   "cell_type": "code",
   "execution_count": 3,
   "id": "04e3bc88-b6c5-41fe-b886-193354251342",
   "metadata": {},
   "outputs": [
    {
     "data": {
      "text/plain": [
       "['', 1, '', 3, '', 5, '', 7, '', 9, '', 11, '', 13, '', 15, '', 17, '', 19]"
      ]
     },
     "execution_count": 3,
     "metadata": {},
     "output_type": "execute_result"
    }
   ],
   "source": [
    "#print a list with only odd numbers ranging from 0 to 19\n",
    "\n",
    "[i if i%2==1 else '' for i in range(20)]"
   ]
  },
  {
   "cell_type": "code",
   "execution_count": 4,
   "id": "7a1df200-1f9b-499b-b251-8836162b746f",
   "metadata": {},
   "outputs": [],
   "source": [
    "# Alternate method "
   ]
  },
  {
   "cell_type": "code",
   "execution_count": 5,
   "id": "a249bfaa-4ba1-4779-9794-3abad1980aef",
   "metadata": {},
   "outputs": [
    {
     "data": {
      "text/plain": [
       "[0, 2, 4, 6, 8, 10, 12, 14, 16, 18]"
      ]
     },
     "execution_count": 5,
     "metadata": {},
     "output_type": "execute_result"
    }
   ],
   "source": [
    "[i for i in range(20) if i%2==0]"
   ]
  },
  {
   "cell_type": "code",
   "execution_count": 6,
   "id": "58e4658d-68df-4355-b0b4-a730f050ea2b",
   "metadata": {},
   "outputs": [
    {
     "data": {
      "text/plain": [
       "[1, 3, 5, 7, 9, 11, 13, 15, 17, 19]"
      ]
     },
     "execution_count": 6,
     "metadata": {},
     "output_type": "execute_result"
    }
   ],
   "source": [
    "[i for i in range(20) if i%2==1]"
   ]
  },
  {
   "cell_type": "code",
   "execution_count": 8,
   "id": "0dbe93dc-9079-49b3-8035-2ae6dc06f76b",
   "metadata": {},
   "outputs": [],
   "source": [
    "list1=[i for i in range(20)]"
   ]
  },
  {
   "cell_type": "code",
   "execution_count": 9,
   "id": "a9cdb833-ea3a-426a-9b58-43df61d967be",
   "metadata": {},
   "outputs": [
    {
     "data": {
      "text/plain": [
       "[0, 1, 2, 3, 4, 5, 6, 7, 8, 9, 10, 11, 12, 13, 14, 15, 16, 17, 18, 19]"
      ]
     },
     "execution_count": 9,
     "metadata": {},
     "output_type": "execute_result"
    }
   ],
   "source": [
    "list1"
   ]
  },
  {
   "cell_type": "code",
   "execution_count": 10,
   "id": "83bb36cc-d719-4242-b8fd-0c41c3c59624",
   "metadata": {},
   "outputs": [
    {
     "data": {
      "text/plain": [
       "90"
      ]
     },
     "execution_count": 10,
     "metadata": {},
     "output_type": "execute_result"
    }
   ],
   "source": [
    "# to get the sum of all even elements in list1\n",
    "\n",
    "sum([i for i in list1 if i%2==0])"
   ]
  },
  {
   "cell_type": "code",
   "execution_count": 11,
   "id": "df4ec3df-729a-4431-b7b2-d03b721163ee",
   "metadata": {},
   "outputs": [
    {
     "data": {
      "text/plain": [
       "100"
      ]
     },
     "execution_count": 11,
     "metadata": {},
     "output_type": "execute_result"
    }
   ],
   "source": [
    "# to get the sum of all odd elements in list1\n",
    "\n",
    "sum([i for i in list1 if i%2==1])"
   ]
  },
  {
   "cell_type": "code",
   "execution_count": 14,
   "id": "f55ad3a5-bb44-498f-9074-2df33f347525",
   "metadata": {},
   "outputs": [],
   "source": [
    "# to get the squares of all elements in list1\n",
    "\n",
    "list2=[i*i for i in list1]"
   ]
  },
  {
   "cell_type": "code",
   "execution_count": 15,
   "id": "1f8e6d95-3c38-4ef8-91f9-5d558b61ca6e",
   "metadata": {},
   "outputs": [
    {
     "data": {
      "text/plain": [
       "[0,\n",
       " 1,\n",
       " 4,\n",
       " 9,\n",
       " 16,\n",
       " 25,\n",
       " 36,\n",
       " 49,\n",
       " 64,\n",
       " 81,\n",
       " 100,\n",
       " 121,\n",
       " 144,\n",
       " 169,\n",
       " 196,\n",
       " 225,\n",
       " 256,\n",
       " 289,\n",
       " 324,\n",
       " 361]"
      ]
     },
     "execution_count": 15,
     "metadata": {},
     "output_type": "execute_result"
    }
   ],
   "source": [
    "list2"
   ]
  },
  {
   "cell_type": "code",
   "execution_count": 23,
   "id": "185db9e6-0d08-4eac-b513-8f1f7ce1a564",
   "metadata": {},
   "outputs": [],
   "source": [
    "# to get the square root of all elements in list1\n",
    "\n",
    "list3=[i**0.5 for i in list2]"
   ]
  },
  {
   "cell_type": "code",
   "execution_count": 24,
   "id": "942c3667-5d45-4e9b-a027-4e4b96a4d7e7",
   "metadata": {},
   "outputs": [
    {
     "data": {
      "text/plain": [
       "[0.0,\n",
       " 1.0,\n",
       " 2.0,\n",
       " 3.0,\n",
       " 4.0,\n",
       " 5.0,\n",
       " 6.0,\n",
       " 7.0,\n",
       " 8.0,\n",
       " 9.0,\n",
       " 10.0,\n",
       " 11.0,\n",
       " 12.0,\n",
       " 13.0,\n",
       " 14.0,\n",
       " 15.0,\n",
       " 16.0,\n",
       " 17.0,\n",
       " 18.0,\n",
       " 19.0]"
      ]
     },
     "execution_count": 24,
     "metadata": {},
     "output_type": "execute_result"
    }
   ],
   "source": [
    "list3"
   ]
  },
  {
   "cell_type": "code",
   "execution_count": 25,
   "id": "a8197784-3e3d-465c-a3ba-127d484cf8e2",
   "metadata": {},
   "outputs": [],
   "source": [
    "list=[-2,-1,0,1,2]"
   ]
  },
  {
   "cell_type": "code",
   "execution_count": 26,
   "id": "c1fa3352-f091-4275-9572-5dc870d729f7",
   "metadata": {},
   "outputs": [
    {
     "data": {
      "text/plain": [
       "[-2, -1, 0, 1, 2]"
      ]
     },
     "execution_count": 26,
     "metadata": {},
     "output_type": "execute_result"
    }
   ],
   "source": [
    "list"
   ]
  },
  {
   "cell_type": "code",
   "execution_count": 31,
   "id": "b3222b12-cf99-4c46-96da-0aed5a1f8e61",
   "metadata": {},
   "outputs": [
    {
     "data": {
      "text/plain": [
       "[1, 2]"
      ]
     },
     "execution_count": 31,
     "metadata": {},
     "output_type": "execute_result"
    }
   ],
   "source": [
    "# to get only the positive numbers from 'list'\n",
    "\n",
    "[i for i in list if i>0]"
   ]
  },
  {
   "cell_type": "code",
   "execution_count": 32,
   "id": "659b223f-2e45-44cb-98f0-4f7cfa69acbb",
   "metadata": {},
   "outputs": [],
   "source": [
    "list=['apple','banana','mango','cherry']"
   ]
  },
  {
   "cell_type": "code",
   "execution_count": 33,
   "id": "7d595750-fd07-437d-af3f-75ec2e1e1a12",
   "metadata": {},
   "outputs": [
    {
     "data": {
      "text/plain": [
       "['apple', 'banana', 'mango', 'cherry']"
      ]
     },
     "execution_count": 33,
     "metadata": {},
     "output_type": "execute_result"
    }
   ],
   "source": [
    "list"
   ]
  },
  {
   "cell_type": "code",
   "execution_count": 36,
   "id": "95e50fab-ded5-49af-8c40-4d456b85ce16",
   "metadata": {},
   "outputs": [
    {
     "data": {
      "text/plain": [
       "['a', 'b', 'm', 'c']"
      ]
     },
     "execution_count": 36,
     "metadata": {},
     "output_type": "execute_result"
    }
   ],
   "source": [
    "# prepare a new list with only the first letter of every element in 'list'\n",
    "\n",
    "[i[0] for i in list]"
   ]
  },
  {
   "cell_type": "code",
   "execution_count": 37,
   "id": "4d89283a-78e1-4844-a030-395ec121a00e",
   "metadata": {},
   "outputs": [],
   "source": [
    "temp_in_celsius=[0,10,20,30,40]"
   ]
  },
  {
   "cell_type": "code",
   "execution_count": 40,
   "id": "df027013-dfd7-4b60-8fc0-0ab7a9e7f4bf",
   "metadata": {},
   "outputs": [
    {
     "data": {
      "text/plain": [
       "[0, 10, 20, 30, 40]"
      ]
     },
     "execution_count": 40,
     "metadata": {},
     "output_type": "execute_result"
    }
   ],
   "source": [
    "temp_in_celsius"
   ]
  },
  {
   "cell_type": "code",
   "execution_count": 38,
   "id": "191fd3b5-5d38-4bd4-8e08-61fc370aaaff",
   "metadata": {},
   "outputs": [],
   "source": [
    "# convert the temperatures in fahrenheit\n",
    "\n",
    "temp_in_fahrenheit=[i*(9/5)+32 for i in temp_in_celsius]"
   ]
  },
  {
   "cell_type": "code",
   "execution_count": 39,
   "id": "ddd40e84-15b0-446e-ad25-de19dcc3396b",
   "metadata": {},
   "outputs": [
    {
     "data": {
      "text/plain": [
       "[32.0, 50.0, 68.0, 86.0, 104.0]"
      ]
     },
     "execution_count": 39,
     "metadata": {},
     "output_type": "execute_result"
    }
   ],
   "source": [
    "temp_in_fahrenheit"
   ]
  },
  {
   "cell_type": "code",
   "execution_count": 2,
   "id": "cfa04188-5d76-49ab-a6ca-575e86c7dbc6",
   "metadata": {},
   "outputs": [],
   "source": [
    "LIST=[[1,2,3],[4,5,6],[7,8,9]]"
   ]
  },
  {
   "cell_type": "code",
   "execution_count": 3,
   "id": "d36450ad-d9bd-41bc-a616-501e7219b2b0",
   "metadata": {},
   "outputs": [
    {
     "data": {
      "text/plain": [
       "[[1, 2, 3], [4, 5, 6], [7, 8, 9]]"
      ]
     },
     "execution_count": 3,
     "metadata": {},
     "output_type": "execute_result"
    }
   ],
   "source": [
    "LIST"
   ]
  },
  {
   "cell_type": "code",
   "execution_count": 4,
   "id": "b1b243da-fe84-4755-a1d1-f1686f7017cc",
   "metadata": {},
   "outputs": [],
   "source": [
    "# convert the multinested list 'LIST' into a single list\n",
    "\n",
    "list=[i[j] for i in LIST for j in range(3)]"
   ]
  },
  {
   "cell_type": "code",
   "execution_count": 5,
   "id": "d767360a-798e-4755-9442-671450708a59",
   "metadata": {},
   "outputs": [
    {
     "data": {
      "text/plain": [
       "[1, 2, 3, 4, 5, 6, 7, 8, 9]"
      ]
     },
     "execution_count": 5,
     "metadata": {},
     "output_type": "execute_result"
    }
   ],
   "source": [
    "list"
   ]
  },
  {
   "cell_type": "code",
   "execution_count": 6,
   "id": "26fb6410-45a8-4e5d-8511-4d348dbe0b92",
   "metadata": {},
   "outputs": [],
   "source": [
    "# alternate method\n",
    "\n",
    "list=[j for i in LIST for j in i]"
   ]
  },
  {
   "cell_type": "code",
   "execution_count": 7,
   "id": "8eb10031-22bc-4087-b565-2df321b2c4c6",
   "metadata": {},
   "outputs": [
    {
     "data": {
      "text/plain": [
       "[1, 2, 3, 4, 5, 6, 7, 8, 9]"
      ]
     },
     "execution_count": 7,
     "metadata": {},
     "output_type": "execute_result"
    }
   ],
   "source": [
    "list"
   ]
  }
 ],
 "metadata": {
  "kernelspec": {
   "display_name": "Python 3 (ipykernel)",
   "language": "python",
   "name": "python3"
  },
  "language_info": {
   "codemirror_mode": {
    "name": "ipython",
    "version": 3
   },
   "file_extension": ".py",
   "mimetype": "text/x-python",
   "name": "python",
   "nbconvert_exporter": "python",
   "pygments_lexer": "ipython3",
   "version": "3.10.8"
  }
 },
 "nbformat": 4,
 "nbformat_minor": 5
}
