{
 "cells": [
  {
   "cell_type": "markdown",
   "id": "8db2cae9-5242-4579-aba4-d774c06ecd80",
   "metadata": {},
   "source": [
    "### Concatination opertion"
   ]
  },
  {
   "cell_type": "code",
   "execution_count": 52,
   "id": "7bc43482-10e6-4c9c-a4fc-a4549600496d",
   "metadata": {},
   "outputs": [],
   "source": [
    "list1=['PW', 'skills', 1, 2]"
   ]
  },
  {
   "cell_type": "code",
   "execution_count": 53,
   "id": "425cde82-6ba7-4a84-8877-471212548d5f",
   "metadata": {},
   "outputs": [
    {
     "data": {
      "text/plain": [
       "['PW', 'skills', 1, 2]"
      ]
     },
     "execution_count": 53,
     "metadata": {},
     "output_type": "execute_result"
    }
   ],
   "source": [
    "list1"
   ]
  },
  {
   "cell_type": "code",
   "execution_count": 54,
   "id": "57a52cda-fe3b-49d0-afee-ad1ad2d4255f",
   "metadata": {},
   "outputs": [
    {
     "data": {
      "text/plain": [
       "['PW', 'skills', 1, 2, 'data', 'science']"
      ]
     },
     "execution_count": 54,
     "metadata": {},
     "output_type": "execute_result"
    }
   ],
   "source": [
    "list1+['data', 'science']"
   ]
  },
  {
   "cell_type": "code",
   "execution_count": 57,
   "id": "421a165a-4142-44f6-a77b-cc80ae31a272",
   "metadata": {},
   "outputs": [
    {
     "data": {
      "text/plain": [
       "['PW', 'skills', 1, 2]"
      ]
     },
     "execution_count": 57,
     "metadata": {},
     "output_type": "execute_result"
    }
   ],
   "source": [
    "# list1 will not get updated\n",
    "\n",
    "list1"
   ]
  },
  {
   "cell_type": "code",
   "execution_count": 6,
   "id": "87a3891c-d64d-4de8-8c62-d5dd0bf991e3",
   "metadata": {},
   "outputs": [],
   "source": [
    "list3=list1+[[3,4,'masters']]"
   ]
  },
  {
   "cell_type": "code",
   "execution_count": 7,
   "id": "fb1e9647-ee8e-422f-88be-ef730f9b5784",
   "metadata": {},
   "outputs": [
    {
     "data": {
      "text/plain": [
       "['PW', 'skills', 1, 2, [3, 4, 'masters']]"
      ]
     },
     "execution_count": 7,
     "metadata": {},
     "output_type": "execute_result"
    }
   ],
   "source": [
    "list3"
   ]
  },
  {
   "cell_type": "code",
   "execution_count": 8,
   "id": "31d07251-e0c3-4eaa-ad8c-fb7db6dac4bc",
   "metadata": {},
   "outputs": [
    {
     "data": {
      "text/plain": [
       "[3, 4, 'masters']"
      ]
     },
     "execution_count": 8,
     "metadata": {},
     "output_type": "execute_result"
    }
   ],
   "source": [
    "list3[4]"
   ]
  },
  {
   "cell_type": "code",
   "execution_count": 9,
   "id": "8a7f6edd-3b74-40a2-a4b7-bc80bec79d18",
   "metadata": {},
   "outputs": [
    {
     "data": {
      "text/plain": [
       "'masters'"
      ]
     },
     "execution_count": 9,
     "metadata": {},
     "output_type": "execute_result"
    }
   ],
   "source": [
    "list3[4][2]"
   ]
  },
  {
   "cell_type": "code",
   "execution_count": 10,
   "id": "5239336e-d88b-44bf-846b-0399a6e881f0",
   "metadata": {},
   "outputs": [],
   "source": [
    "list4=list1*3"
   ]
  },
  {
   "cell_type": "code",
   "execution_count": 11,
   "id": "89b1c6ba-1702-4bcb-aece-f69222beed3d",
   "metadata": {},
   "outputs": [
    {
     "data": {
      "text/plain": [
       "['PW', 'skills', 1, 2, 'PW', 'skills', 1, 2, 'PW', 'skills', 1, 2]"
      ]
     },
     "execution_count": 11,
     "metadata": {},
     "output_type": "execute_result"
    }
   ],
   "source": [
    "list4"
   ]
  },
  {
   "cell_type": "code",
   "execution_count": 12,
   "id": "f6511fce-622c-4bb3-ad06-6e5d81969e6a",
   "metadata": {},
   "outputs": [],
   "source": [
    "list1=list1*3"
   ]
  },
  {
   "cell_type": "code",
   "execution_count": 13,
   "id": "119a9021-6096-4289-add1-a7565e483235",
   "metadata": {},
   "outputs": [
    {
     "data": {
      "text/plain": [
       "['PW', 'skills', 1, 2, 'PW', 'skills', 1, 2, 'PW', 'skills', 1, 2]"
      ]
     },
     "execution_count": 13,
     "metadata": {},
     "output_type": "execute_result"
    }
   ],
   "source": [
    "list1"
   ]
  },
  {
   "cell_type": "code",
   "execution_count": 14,
   "id": "b5ea6ece-73a8-41b7-9de7-bc664c2b7756",
   "metadata": {},
   "outputs": [],
   "source": [
    "list1=['PW', 'skills', 1, 2]"
   ]
  },
  {
   "cell_type": "code",
   "execution_count": 15,
   "id": "39e0b5c5-15ec-4543-bfa4-68631704397a",
   "metadata": {},
   "outputs": [
    {
     "data": {
      "text/plain": [
       "['PW', 'skills', 1, 2]"
      ]
     },
     "execution_count": 15,
     "metadata": {},
     "output_type": "execute_result"
    }
   ],
   "source": [
    "list1"
   ]
  },
  {
   "cell_type": "code",
   "execution_count": 16,
   "id": "56bef056-6562-4b59-8293-7501a275929d",
   "metadata": {},
   "outputs": [],
   "source": [
    "## check whether 'skills' is present in list1"
   ]
  },
  {
   "cell_type": "code",
   "execution_count": 17,
   "id": "71712376-9b16-4683-a53b-91cc7e44c87e",
   "metadata": {},
   "outputs": [
    {
     "name": "stdout",
     "output_type": "stream",
     "text": [
      "present\n"
     ]
    }
   ],
   "source": [
    "if 'skills' in list1:\n",
    "    print('present')"
   ]
  },
  {
   "cell_type": "code",
   "execution_count": 25,
   "id": "1e336996-5276-4d7e-8540-57e28fb3366b",
   "metadata": {},
   "outputs": [],
   "source": [
    "# alternate method"
   ]
  },
  {
   "cell_type": "code",
   "execution_count": 22,
   "id": "e7927c0b-caab-48d8-8317-6cd87fbb00c5",
   "metadata": {},
   "outputs": [
    {
     "data": {
      "text/plain": [
       "True"
      ]
     },
     "execution_count": 22,
     "metadata": {},
     "output_type": "execute_result"
    }
   ],
   "source": [
    "'skills' in list1"
   ]
  },
  {
   "cell_type": "code",
   "execution_count": 23,
   "id": "571315f0-1163-4f15-bb51-6beef1e26628",
   "metadata": {},
   "outputs": [],
   "source": [
    "# alternate method"
   ]
  },
  {
   "cell_type": "code",
   "execution_count": 24,
   "id": "b48d8c73-f943-493b-a706-c2eb2d4d87ee",
   "metadata": {},
   "outputs": [
    {
     "name": "stdout",
     "output_type": "stream",
     "text": [
      "present\n"
     ]
    }
   ],
   "source": [
    "for i in list1:\n",
    "    if i=='skills':\n",
    "        print('present')"
   ]
  },
  {
   "cell_type": "code",
   "execution_count": 58,
   "id": "9dcc7673-ae0d-481f-afcd-585e9c47fc25",
   "metadata": {},
   "outputs": [],
   "source": [
    "list1=['PW','Skills','Data','Masters']"
   ]
  },
  {
   "cell_type": "code",
   "execution_count": 59,
   "id": "11577d2e-370f-4758-aa9e-3d0e1721a364",
   "metadata": {},
   "outputs": [
    {
     "data": {
      "text/plain": [
       "['PW', 'Skills', 'Data', 'Masters']"
      ]
     },
     "execution_count": 59,
     "metadata": {},
     "output_type": "execute_result"
    }
   ],
   "source": [
    "list1"
   ]
  },
  {
   "cell_type": "code",
   "execution_count": 60,
   "id": "292448ba-b1c5-4981-9747-fd749eeddac5",
   "metadata": {},
   "outputs": [
    {
     "name": "stdout",
     "output_type": "stream",
     "text": [
      "Skills\n"
     ]
    }
   ],
   "source": [
    "print(max(list1))\n",
    "\n",
    "# prints the element with the largest ascii value"
   ]
  },
  {
   "cell_type": "code",
   "execution_count": 61,
   "id": "f11fec94-8f33-4710-945a-088cb6dc81dc",
   "metadata": {},
   "outputs": [],
   "source": [
    "list2=[1,2,3,4,5]"
   ]
  },
  {
   "cell_type": "code",
   "execution_count": 62,
   "id": "2dfd2b63-842d-4167-b8ce-ffd736cd3ca4",
   "metadata": {},
   "outputs": [
    {
     "data": {
      "text/plain": [
       "[1, 2, 3, 4, 5]"
      ]
     },
     "execution_count": 62,
     "metadata": {},
     "output_type": "execute_result"
    }
   ],
   "source": [
    "list2"
   ]
  },
  {
   "cell_type": "code",
   "execution_count": 63,
   "id": "00369d10-8213-4535-ab21-b4fc58827636",
   "metadata": {},
   "outputs": [
    {
     "name": "stdout",
     "output_type": "stream",
     "text": [
      "5\n"
     ]
    }
   ],
   "source": [
    "print(max(list2))"
   ]
  },
  {
   "cell_type": "code",
   "execution_count": 64,
   "id": "227e09d3-5afc-4404-9bfd-506b8540d2d8",
   "metadata": {},
   "outputs": [
    {
     "name": "stdout",
     "output_type": "stream",
     "text": [
      "Data\n"
     ]
    }
   ],
   "source": [
    "print(min(list1))\n",
    "\n",
    "# prints the element with the smallest ascii value"
   ]
  },
  {
   "cell_type": "code",
   "execution_count": 68,
   "id": "37719468-806a-44b7-ab47-01d48ff0b639",
   "metadata": {},
   "outputs": [],
   "source": [
    "list1=['PW','Skills','Data','Masters']"
   ]
  },
  {
   "cell_type": "code",
   "execution_count": 69,
   "id": "f1974714-38c0-433c-a063-b2266a499290",
   "metadata": {},
   "outputs": [],
   "source": [
    "# in order to update a list\n",
    "\n",
    "list1.append('Science')"
   ]
  },
  {
   "cell_type": "code",
   "execution_count": 70,
   "id": "62573707-253f-4b00-ade7-c82afb1b3aaf",
   "metadata": {},
   "outputs": [
    {
     "data": {
      "text/plain": [
       "['PW', 'Skills', 'Data', 'Masters', 'Science']"
      ]
     },
     "execution_count": 70,
     "metadata": {},
     "output_type": "execute_result"
    }
   ],
   "source": [
    "list1"
   ]
  },
  {
   "cell_type": "code",
   "execution_count": 71,
   "id": "cac08243-b7a6-4672-adda-f8d555924e44",
   "metadata": {},
   "outputs": [],
   "source": [
    "list1.append(['AI','ML','DL'])"
   ]
  },
  {
   "cell_type": "code",
   "execution_count": 72,
   "id": "393b9d1a-2555-4abe-8068-05c5c5ff72ba",
   "metadata": {},
   "outputs": [
    {
     "data": {
      "text/plain": [
       "['PW', 'Skills', 'Data', 'Masters', 'Science', ['AI', 'ML', 'DL']]"
      ]
     },
     "execution_count": 72,
     "metadata": {},
     "output_type": "execute_result"
    }
   ],
   "source": [
    "list1"
   ]
  },
  {
   "cell_type": "code",
   "execution_count": 73,
   "id": "1870f656-f53e-47c1-8efc-e1b962f014df",
   "metadata": {},
   "outputs": [
    {
     "data": {
      "text/plain": [
       "['AI', 'ML', 'DL']"
      ]
     },
     "execution_count": 73,
     "metadata": {},
     "output_type": "execute_result"
    }
   ],
   "source": [
    "# in order to remove an element from the list, by default it removes the last element\n",
    "list1.pop()"
   ]
  },
  {
   "cell_type": "code",
   "execution_count": 74,
   "id": "cca4bb91-7e08-44fc-ad53-e4cafad81f27",
   "metadata": {},
   "outputs": [
    {
     "data": {
      "text/plain": [
       "['PW', 'Skills', 'Data', 'Masters', 'Science']"
      ]
     },
     "execution_count": 74,
     "metadata": {},
     "output_type": "execute_result"
    }
   ],
   "source": [
    "list1"
   ]
  },
  {
   "cell_type": "code",
   "execution_count": 76,
   "id": "a1555e8a-a343-47fe-b933-f0364ea4eb13",
   "metadata": {},
   "outputs": [
    {
     "data": {
      "text/plain": [
       "'Data'"
      ]
     },
     "execution_count": 76,
     "metadata": {},
     "output_type": "execute_result"
    }
   ],
   "source": [
    "list1.pop(2)"
   ]
  },
  {
   "cell_type": "code",
   "execution_count": 77,
   "id": "c36fc5fe-9f73-46fd-a683-7f0c356537cb",
   "metadata": {},
   "outputs": [
    {
     "data": {
      "text/plain": [
       "['PW', 'Skills', 'Masters', 'Science']"
      ]
     },
     "execution_count": 77,
     "metadata": {},
     "output_type": "execute_result"
    }
   ],
   "source": [
    "list1"
   ]
  },
  {
   "cell_type": "code",
   "execution_count": null,
   "id": "33dab8df-e7b9-4db1-b1d8-b6735bdca2f7",
   "metadata": {},
   "outputs": [],
   "source": []
  }
 ],
 "metadata": {
  "kernelspec": {
   "display_name": "Python 3 (ipykernel)",
   "language": "python",
   "name": "python3"
  },
  "language_info": {
   "codemirror_mode": {
    "name": "ipython",
    "version": 3
   },
   "file_extension": ".py",
   "mimetype": "text/x-python",
   "name": "python",
   "nbconvert_exporter": "python",
   "pygments_lexer": "ipython3",
   "version": "3.10.8"
  }
 },
 "nbformat": 4,
 "nbformat_minor": 5
}
