{
 "cells": [
  {
   "cell_type": "code",
   "execution_count": 3,
   "id": "49a7ec81-ca42-465b-871e-ea1e03c55596",
   "metadata": {},
   "outputs": [],
   "source": [
    "## Equality operators\n",
    "\n",
    "# Is\n",
    "# Is not\n",
    "# Double Equal to (==)\n",
    "# Not equal to (!=)"
   ]
  },
  {
   "cell_type": "code",
   "execution_count": 18,
   "id": "6b2f92f9-05bc-4275-a815-e3a96bcf6ce1",
   "metadata": {},
   "outputs": [],
   "source": [
    "# Is operator (Checks if the variables have the same ID number, if yes then returns TRUE otherwise returns FLASE)"
   ]
  },
  {
   "cell_type": "code",
   "execution_count": 5,
   "id": "df6a096a-1821-4338-b456-7ccc7c4c1e2a",
   "metadata": {},
   "outputs": [
    {
     "name": "stdout",
     "output_type": "stream",
     "text": [
      "[1, 2, 3, 4]\n",
      "[1, 2, 3, 4]\n"
     ]
    }
   ],
   "source": [
    "list1=[1,2,3,4]\n",
    "list2=[1,2,3,4]\n",
    "\n",
    "print(list1)\n",
    "print(list2)"
   ]
  },
  {
   "cell_type": "code",
   "execution_count": 6,
   "id": "c1f7c380-e27c-4a52-b64a-58c86a0df94f",
   "metadata": {},
   "outputs": [
    {
     "name": "stdout",
     "output_type": "stream",
     "text": [
      "140160425129664\n",
      "140160425128960\n"
     ]
    }
   ],
   "source": [
    "print(id(list1))\n",
    "print(id(list2))"
   ]
  },
  {
   "cell_type": "code",
   "execution_count": 7,
   "id": "9a454b51-b370-4685-ab72-5a12926fbaad",
   "metadata": {},
   "outputs": [
    {
     "data": {
      "text/plain": [
       "False"
      ]
     },
     "execution_count": 7,
     "metadata": {},
     "output_type": "execute_result"
    }
   ],
   "source": [
    "list1 is list2"
   ]
  },
  {
   "cell_type": "code",
   "execution_count": 10,
   "id": "ff0d0282-834c-438d-9ea5-53cf53fe0962",
   "metadata": {},
   "outputs": [],
   "source": [
    "list1 = [1,2,3,4]\n",
    "list1 = list2"
   ]
  },
  {
   "cell_type": "code",
   "execution_count": 11,
   "id": "459c1b89-1f48-4cd4-b8dc-18071227196c",
   "metadata": {},
   "outputs": [
    {
     "name": "stdout",
     "output_type": "stream",
     "text": [
      "140160425128960\n",
      "140160425128960\n"
     ]
    }
   ],
   "source": [
    "print(id(list1))\n",
    "print(id(list2))"
   ]
  },
  {
   "cell_type": "code",
   "execution_count": 12,
   "id": "b149ed8c-f0c6-4bdf-9bf2-e03739424382",
   "metadata": {},
   "outputs": [
    {
     "data": {
      "text/plain": [
       "True"
      ]
     },
     "execution_count": 12,
     "metadata": {},
     "output_type": "execute_result"
    }
   ],
   "source": [
    "list1 is list2"
   ]
  },
  {
   "cell_type": "code",
   "execution_count": 13,
   "id": "7ec66a0f-836c-4a8f-8dd3-3d6b76ab7fa6",
   "metadata": {},
   "outputs": [],
   "source": [
    "# Is not operator"
   ]
  },
  {
   "cell_type": "code",
   "execution_count": 14,
   "id": "85778375-b4cd-4f9d-b6cf-4f41bd0b3103",
   "metadata": {},
   "outputs": [
    {
     "name": "stdout",
     "output_type": "stream",
     "text": [
      "[1, 2, 3, 4]\n",
      "[1, 2, 3, 4]\n"
     ]
    }
   ],
   "source": [
    "list1=[1,2,3,4]\n",
    "list2=[1,2,3,4]\n",
    "\n",
    "print(list1)\n",
    "print(list2)"
   ]
  },
  {
   "cell_type": "code",
   "execution_count": 15,
   "id": "b0fbc3e3-4eb8-48ae-ad19-a0d115442b5a",
   "metadata": {},
   "outputs": [
    {
     "data": {
      "text/plain": [
       "True"
      ]
     },
     "execution_count": 15,
     "metadata": {},
     "output_type": "execute_result"
    }
   ],
   "source": [
    "list1 is not list2"
   ]
  },
  {
   "cell_type": "code",
   "execution_count": 16,
   "id": "7e8b5bb8-98d3-4440-a92e-1c76c6d0fa17",
   "metadata": {},
   "outputs": [],
   "source": [
    "list1 = [1,2,3,4]\n",
    "list1 = list2"
   ]
  },
  {
   "cell_type": "code",
   "execution_count": 17,
   "id": "63a0d2cd-1c36-4dad-ae04-b4f813c1f7f9",
   "metadata": {},
   "outputs": [
    {
     "data": {
      "text/plain": [
       "False"
      ]
     },
     "execution_count": 17,
     "metadata": {},
     "output_type": "execute_result"
    }
   ],
   "source": [
    "list1 is not list2"
   ]
  },
  {
   "cell_type": "code",
   "execution_count": 26,
   "id": "30883211-87dc-4a0a-be8d-a34621245900",
   "metadata": {},
   "outputs": [],
   "source": [
    "# Double equal to (Check where the variable has the same values inside it and in the same order. If yes then returns TRUE otherwise returns FLASE)"
   ]
  },
  {
   "cell_type": "code",
   "execution_count": 20,
   "id": "08b48953-4b01-4fce-b50d-584729c3554a",
   "metadata": {},
   "outputs": [
    {
     "name": "stdout",
     "output_type": "stream",
     "text": [
      "[1, 2, 3, 4]\n",
      "[1, 2, 3, 4]\n"
     ]
    }
   ],
   "source": [
    "list1=[1,2,3,4]\n",
    "list2=[1,2,3,4]\n",
    "\n",
    "print(list1)\n",
    "print(list2)"
   ]
  },
  {
   "cell_type": "code",
   "execution_count": 21,
   "id": "4838ce3c-e5b4-4a67-8a79-970ae3dc583e",
   "metadata": {},
   "outputs": [
    {
     "data": {
      "text/plain": [
       "True"
      ]
     },
     "execution_count": 21,
     "metadata": {},
     "output_type": "execute_result"
    }
   ],
   "source": [
    "list1==list2"
   ]
  },
  {
   "cell_type": "code",
   "execution_count": 22,
   "id": "d320af18-ff89-41f5-8e74-7310db5244f9",
   "metadata": {},
   "outputs": [
    {
     "name": "stdout",
     "output_type": "stream",
     "text": [
      "[1, 2, 3, 4]\n",
      "[2, 4, 3, 1]\n"
     ]
    }
   ],
   "source": [
    "list1=[1,2,3,4]\n",
    "list2=[2,4,3,1]\n",
    "\n",
    "print(list1)\n",
    "print(list2)"
   ]
  },
  {
   "cell_type": "code",
   "execution_count": 23,
   "id": "33be167d-bb98-4c0b-b3ad-289f6160aada",
   "metadata": {},
   "outputs": [
    {
     "data": {
      "text/plain": [
       "False"
      ]
     },
     "execution_count": 23,
     "metadata": {},
     "output_type": "execute_result"
    }
   ],
   "source": [
    "list1==list2"
   ]
  },
  {
   "cell_type": "code",
   "execution_count": 27,
   "id": "03533fc8-aeab-4eea-874b-e87f91b4e1ec",
   "metadata": {},
   "outputs": [],
   "source": [
    "# Not equal to oprtaror"
   ]
  },
  {
   "cell_type": "code",
   "execution_count": 28,
   "id": "6988625f-8442-4267-b0b7-03d7b45eac1b",
   "metadata": {},
   "outputs": [
    {
     "name": "stdout",
     "output_type": "stream",
     "text": [
      "[1, 2, 3, 4]\n",
      "[1, 2, 3, 4]\n"
     ]
    }
   ],
   "source": [
    "list1=[1,2,3,4]\n",
    "list2=[1,2,3,4]\n",
    "\n",
    "print(list1)\n",
    "print(list2)"
   ]
  },
  {
   "cell_type": "code",
   "execution_count": 29,
   "id": "7fa274d2-7b7d-4ea4-afc9-936d7b389b2a",
   "metadata": {},
   "outputs": [
    {
     "data": {
      "text/plain": [
       "False"
      ]
     },
     "execution_count": 29,
     "metadata": {},
     "output_type": "execute_result"
    }
   ],
   "source": [
    "list1!=list2"
   ]
  },
  {
   "cell_type": "code",
   "execution_count": 30,
   "id": "1ee9a3a2-3a51-4007-ae0d-9399195c5aa9",
   "metadata": {},
   "outputs": [
    {
     "name": "stdout",
     "output_type": "stream",
     "text": [
      "[1, 2, 3, 4]\n",
      "[3, 1, 2, 4]\n"
     ]
    }
   ],
   "source": [
    "list1=[1,2,3,4]\n",
    "list2=[3,1,2,4]\n",
    "\n",
    "print(list1)\n",
    "print(list2)"
   ]
  },
  {
   "cell_type": "code",
   "execution_count": 31,
   "id": "859def88-be5d-4285-a9b3-a4d95f8c20f7",
   "metadata": {},
   "outputs": [
    {
     "data": {
      "text/plain": [
       "True"
      ]
     },
     "execution_count": 31,
     "metadata": {},
     "output_type": "execute_result"
    }
   ],
   "source": [
    "list1!=list2"
   ]
  },
  {
   "cell_type": "code",
   "execution_count": 32,
   "id": "b00d0fcb-c93e-4ce4-bc5c-0c8748978d09",
   "metadata": {},
   "outputs": [],
   "source": [
    "## Strings are immutable while lists are mutable "
   ]
  },
  {
   "cell_type": "code",
   "execution_count": 33,
   "id": "684f98c2-c1a7-46bd-a088-fdf16dba7022",
   "metadata": {},
   "outputs": [
    {
     "name": "stdout",
     "output_type": "stream",
     "text": [
      "[1, 2, 3, 4]\n"
     ]
    }
   ],
   "source": [
    "list1=[1,2,3,4]\n",
    "\n",
    "print(list1)"
   ]
  },
  {
   "cell_type": "code",
   "execution_count": 35,
   "id": "2ca6cf9b-1512-4d7b-b10d-9b0c260ac5d3",
   "metadata": {},
   "outputs": [],
   "source": [
    "list1[2]=5"
   ]
  },
  {
   "cell_type": "code",
   "execution_count": 36,
   "id": "ddf13df4-4fb9-4cfe-9646-790f5d249b7d",
   "metadata": {},
   "outputs": [
    {
     "name": "stdout",
     "output_type": "stream",
     "text": [
      "[1, 2, 5, 4]\n"
     ]
    }
   ],
   "source": [
    "print(list1)"
   ]
  },
  {
   "cell_type": "code",
   "execution_count": 37,
   "id": "94681bb0-2598-439c-921e-350998c1dced",
   "metadata": {},
   "outputs": [
    {
     "name": "stdout",
     "output_type": "stream",
     "text": [
      "souvik\n"
     ]
    }
   ],
   "source": [
    "name='souvik'\n",
    "\n",
    "print(name)"
   ]
  },
  {
   "cell_type": "code",
   "execution_count": 38,
   "id": "b79d0e3d-076f-4300-af4a-6514c72324da",
   "metadata": {},
   "outputs": [
    {
     "data": {
      "text/plain": [
       "['s', 'o', 'u', 'v', 'i', 'k']"
      ]
     },
     "execution_count": 38,
     "metadata": {},
     "output_type": "execute_result"
    }
   ],
   "source": [
    "list(name)"
   ]
  },
  {
   "cell_type": "code",
   "execution_count": 46,
   "id": "4b8addbf-12e8-4205-bfe6-61efc6041cad",
   "metadata": {},
   "outputs": [
    {
     "ename": "TypeError",
     "evalue": "'str' object does not support item assignment",
     "output_type": "error",
     "traceback": [
      "\u001b[0;31m---------------------------------------------------------------------------\u001b[0m",
      "\u001b[0;31mTypeError\u001b[0m                                 Traceback (most recent call last)",
      "Cell \u001b[0;32mIn[46], line 1\u001b[0m\n\u001b[0;32m----> 1\u001b[0m \u001b[43mname\u001b[49m\u001b[43m[\u001b[49m\u001b[38;5;241;43m2\u001b[39;49m\u001b[43m]\u001b[49m\u001b[38;5;241m=\u001b[39m\u001b[38;5;124m'\u001b[39m\u001b[38;5;124mh\u001b[39m\u001b[38;5;124m'\u001b[39m \u001b[38;5;66;03m#won't execute because a character in a string can not be replaced or reassigned\u001b[39;00m\n",
      "\u001b[0;31mTypeError\u001b[0m: 'str' object does not support item assignment"
     ]
    }
   ],
   "source": [
    "name[2]='h' #won't execute because a character in a string can not be replaced or reassigned"
   ]
  },
  {
   "cell_type": "code",
   "execution_count": 42,
   "id": "15aba6f7-5eae-4175-9c0f-8352245c6eb3",
   "metadata": {},
   "outputs": [],
   "source": [
    "name1='souvik'\n",
    "name2='souvik'"
   ]
  },
  {
   "cell_type": "code",
   "execution_count": 43,
   "id": "c75a4f6e-2397-46d3-a708-d537d2968baa",
   "metadata": {},
   "outputs": [
    {
     "name": "stdout",
     "output_type": "stream",
     "text": [
      "140160425166384\n",
      "140160425166384\n"
     ]
    }
   ],
   "source": [
    "print(id(name1))\n",
    "print(id(name2))"
   ]
  },
  {
   "cell_type": "code",
   "execution_count": 44,
   "id": "ec2e9627-7207-4507-827e-35d6a88c2882",
   "metadata": {},
   "outputs": [
    {
     "data": {
      "text/plain": [
       "True"
      ]
     },
     "execution_count": 44,
     "metadata": {},
     "output_type": "execute_result"
    }
   ],
   "source": [
    "name1 is name2"
   ]
  },
  {
   "cell_type": "code",
   "execution_count": null,
   "id": "bb836d0a-b023-4c0e-9395-19a1a4aafe30",
   "metadata": {},
   "outputs": [],
   "source": []
  }
 ],
 "metadata": {
  "kernelspec": {
   "display_name": "Python 3 (ipykernel)",
   "language": "python",
   "name": "python3"
  },
  "language_info": {
   "codemirror_mode": {
    "name": "ipython",
    "version": 3
   },
   "file_extension": ".py",
   "mimetype": "text/x-python",
   "name": "python",
   "nbconvert_exporter": "python",
   "pygments_lexer": "ipython3",
   "version": "3.10.8"
  }
 },
 "nbformat": 4,
 "nbformat_minor": 5
}
