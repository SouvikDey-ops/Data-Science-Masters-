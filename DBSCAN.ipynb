{
 "cells": [
  {
   "cell_type": "markdown",
   "id": "ea82e746-274c-459c-82f5-9bd30b2e2089",
   "metadata": {},
   "source": [
    "## Aglomerative Hierarchical Clustering\n",
    "\n",
    "Working with Mall-Customers dataset. \n",
    "\n",
    "Source - Kaggle \n",
    "\n",
    "We would form clusters based on only two feartures: Annual Income and Spending Score"
   ]
  },
  {
   "cell_type": "code",
   "execution_count": 207,
   "id": "1d4993af-cd84-458e-9ad3-35df961837bc",
   "metadata": {},
   "outputs": [],
   "source": [
    "import pandas as pd\n",
    "import numpy as np\n",
    "import matplotlib.pyplot as plt  \n",
    "import seaborn as sns"
   ]
  },
  {
   "cell_type": "code",
   "execution_count": 208,
   "id": "e844549e-4e06-4b01-bf9c-e845c0abd7a7",
   "metadata": {},
   "outputs": [],
   "source": [
    "data = pd.read_csv('Mall_Customers.csv')"
   ]
  },
  {
   "cell_type": "code",
   "execution_count": 209,
   "id": "68b4a243-49aa-4b05-bb94-3418f65a8c5b",
   "metadata": {},
   "outputs": [
    {
     "data": {
      "text/html": [
       "<div>\n",
       "<style scoped>\n",
       "    .dataframe tbody tr th:only-of-type {\n",
       "        vertical-align: middle;\n",
       "    }\n",
       "\n",
       "    .dataframe tbody tr th {\n",
       "        vertical-align: top;\n",
       "    }\n",
       "\n",
       "    .dataframe thead th {\n",
       "        text-align: right;\n",
       "    }\n",
       "</style>\n",
       "<table border=\"1\" class=\"dataframe\">\n",
       "  <thead>\n",
       "    <tr style=\"text-align: right;\">\n",
       "      <th></th>\n",
       "      <th>CustomerID</th>\n",
       "      <th>Genre</th>\n",
       "      <th>Age</th>\n",
       "      <th>Annual Income (k$)</th>\n",
       "      <th>Spending Score (1-100)</th>\n",
       "    </tr>\n",
       "  </thead>\n",
       "  <tbody>\n",
       "    <tr>\n",
       "      <th>0</th>\n",
       "      <td>1</td>\n",
       "      <td>Male</td>\n",
       "      <td>19</td>\n",
       "      <td>15</td>\n",
       "      <td>39</td>\n",
       "    </tr>\n",
       "    <tr>\n",
       "      <th>1</th>\n",
       "      <td>2</td>\n",
       "      <td>Male</td>\n",
       "      <td>21</td>\n",
       "      <td>15</td>\n",
       "      <td>81</td>\n",
       "    </tr>\n",
       "    <tr>\n",
       "      <th>2</th>\n",
       "      <td>3</td>\n",
       "      <td>Female</td>\n",
       "      <td>20</td>\n",
       "      <td>16</td>\n",
       "      <td>6</td>\n",
       "    </tr>\n",
       "    <tr>\n",
       "      <th>3</th>\n",
       "      <td>4</td>\n",
       "      <td>Female</td>\n",
       "      <td>23</td>\n",
       "      <td>16</td>\n",
       "      <td>77</td>\n",
       "    </tr>\n",
       "    <tr>\n",
       "      <th>4</th>\n",
       "      <td>5</td>\n",
       "      <td>Female</td>\n",
       "      <td>31</td>\n",
       "      <td>17</td>\n",
       "      <td>40</td>\n",
       "    </tr>\n",
       "  </tbody>\n",
       "</table>\n",
       "</div>"
      ],
      "text/plain": [
       "   CustomerID   Genre  Age  Annual Income (k$)  Spending Score (1-100)\n",
       "0           1    Male   19                  15                      39\n",
       "1           2    Male   21                  15                      81\n",
       "2           3  Female   20                  16                       6\n",
       "3           4  Female   23                  16                      77\n",
       "4           5  Female   31                  17                      40"
      ]
     },
     "execution_count": 209,
     "metadata": {},
     "output_type": "execute_result"
    }
   ],
   "source": [
    "data.head()"
   ]
  },
  {
   "cell_type": "code",
   "execution_count": 210,
   "id": "3d16b2cb-3389-48de-9f14-f12b58453e7f",
   "metadata": {},
   "outputs": [],
   "source": [
    "data.rename(columns={'Genre':'Gender'}, inplace=True)"
   ]
  },
  {
   "cell_type": "code",
   "execution_count": 211,
   "id": "6ac168dd-d172-426e-a562-e10531c5a2b7",
   "metadata": {},
   "outputs": [
    {
     "data": {
      "text/html": [
       "<div>\n",
       "<style scoped>\n",
       "    .dataframe tbody tr th:only-of-type {\n",
       "        vertical-align: middle;\n",
       "    }\n",
       "\n",
       "    .dataframe tbody tr th {\n",
       "        vertical-align: top;\n",
       "    }\n",
       "\n",
       "    .dataframe thead th {\n",
       "        text-align: right;\n",
       "    }\n",
       "</style>\n",
       "<table border=\"1\" class=\"dataframe\">\n",
       "  <thead>\n",
       "    <tr style=\"text-align: right;\">\n",
       "      <th></th>\n",
       "      <th>CustomerID</th>\n",
       "      <th>Gender</th>\n",
       "      <th>Age</th>\n",
       "      <th>Annual Income (k$)</th>\n",
       "      <th>Spending Score (1-100)</th>\n",
       "    </tr>\n",
       "  </thead>\n",
       "  <tbody>\n",
       "    <tr>\n",
       "      <th>0</th>\n",
       "      <td>1</td>\n",
       "      <td>Male</td>\n",
       "      <td>19</td>\n",
       "      <td>15</td>\n",
       "      <td>39</td>\n",
       "    </tr>\n",
       "    <tr>\n",
       "      <th>1</th>\n",
       "      <td>2</td>\n",
       "      <td>Male</td>\n",
       "      <td>21</td>\n",
       "      <td>15</td>\n",
       "      <td>81</td>\n",
       "    </tr>\n",
       "    <tr>\n",
       "      <th>2</th>\n",
       "      <td>3</td>\n",
       "      <td>Female</td>\n",
       "      <td>20</td>\n",
       "      <td>16</td>\n",
       "      <td>6</td>\n",
       "    </tr>\n",
       "    <tr>\n",
       "      <th>3</th>\n",
       "      <td>4</td>\n",
       "      <td>Female</td>\n",
       "      <td>23</td>\n",
       "      <td>16</td>\n",
       "      <td>77</td>\n",
       "    </tr>\n",
       "    <tr>\n",
       "      <th>4</th>\n",
       "      <td>5</td>\n",
       "      <td>Female</td>\n",
       "      <td>31</td>\n",
       "      <td>17</td>\n",
       "      <td>40</td>\n",
       "    </tr>\n",
       "  </tbody>\n",
       "</table>\n",
       "</div>"
      ],
      "text/plain": [
       "   CustomerID  Gender  Age  Annual Income (k$)  Spending Score (1-100)\n",
       "0           1    Male   19                  15                      39\n",
       "1           2    Male   21                  15                      81\n",
       "2           3  Female   20                  16                       6\n",
       "3           4  Female   23                  16                      77\n",
       "4           5  Female   31                  17                      40"
      ]
     },
     "execution_count": 211,
     "metadata": {},
     "output_type": "execute_result"
    }
   ],
   "source": [
    "data.head()"
   ]
  },
  {
   "cell_type": "code",
   "execution_count": 212,
   "id": "b0de0809-9680-4298-bf1d-62106e9cb0b0",
   "metadata": {},
   "outputs": [
    {
     "data": {
      "text/plain": [
       "(200, 5)"
      ]
     },
     "execution_count": 212,
     "metadata": {},
     "output_type": "execute_result"
    }
   ],
   "source": [
    "data.shape"
   ]
  },
  {
   "cell_type": "markdown",
   "id": "24afdd96-e609-4624-8990-afbd86732ad7",
   "metadata": {},
   "source": [
    "There are 200 observations and 5 features."
   ]
  },
  {
   "cell_type": "code",
   "execution_count": 213,
   "id": "568ec451-f71c-4e25-ab09-9b594e046b78",
   "metadata": {},
   "outputs": [
    {
     "data": {
      "text/plain": [
       "CustomerID                 int64\n",
       "Gender                    object\n",
       "Age                        int64\n",
       "Annual Income (k$)         int64\n",
       "Spending Score (1-100)     int64\n",
       "dtype: object"
      ]
     },
     "execution_count": 213,
     "metadata": {},
     "output_type": "execute_result"
    }
   ],
   "source": [
    "data.dtypes"
   ]
  },
  {
   "cell_type": "markdown",
   "id": "bb8992de-3cc3-400a-a4bf-8389e472ce37",
   "metadata": {},
   "source": [
    "All the data are numerical in nature."
   ]
  },
  {
   "cell_type": "code",
   "execution_count": 214,
   "id": "0ed7e2b2-ed13-49a8-88d3-21152e9c5a56",
   "metadata": {},
   "outputs": [
    {
     "data": {
      "text/plain": [
       "CustomerID                0\n",
       "Gender                    0\n",
       "Age                       0\n",
       "Annual Income (k$)        0\n",
       "Spending Score (1-100)    0\n",
       "dtype: int64"
      ]
     },
     "execution_count": 214,
     "metadata": {},
     "output_type": "execute_result"
    }
   ],
   "source": [
    "data.isnull().sum()"
   ]
  },
  {
   "cell_type": "markdown",
   "id": "ab9ab9a0-538b-4377-9149-e3d413bfeb98",
   "metadata": {},
   "source": [
    "There are no null values in the dataset."
   ]
  },
  {
   "cell_type": "code",
   "execution_count": 215,
   "id": "cab15466-1d4c-4eef-820f-1c1e092f29ad",
   "metadata": {},
   "outputs": [],
   "source": [
    "## Since we would work only with Annual Income and Spending Score, we would drop all other features.\n",
    "data.drop(['CustomerID', 'Gender', 'Age'], axis=1, inplace=True)"
   ]
  },
  {
   "cell_type": "code",
   "execution_count": 216,
   "id": "b2e58ef1-2e90-4f3e-bb9e-83a86d896f3e",
   "metadata": {},
   "outputs": [
    {
     "data": {
      "text/html": [
       "<div>\n",
       "<style scoped>\n",
       "    .dataframe tbody tr th:only-of-type {\n",
       "        vertical-align: middle;\n",
       "    }\n",
       "\n",
       "    .dataframe tbody tr th {\n",
       "        vertical-align: top;\n",
       "    }\n",
       "\n",
       "    .dataframe thead th {\n",
       "        text-align: right;\n",
       "    }\n",
       "</style>\n",
       "<table border=\"1\" class=\"dataframe\">\n",
       "  <thead>\n",
       "    <tr style=\"text-align: right;\">\n",
       "      <th></th>\n",
       "      <th>Annual Income (k$)</th>\n",
       "      <th>Spending Score (1-100)</th>\n",
       "    </tr>\n",
       "  </thead>\n",
       "  <tbody>\n",
       "    <tr>\n",
       "      <th>0</th>\n",
       "      <td>15</td>\n",
       "      <td>39</td>\n",
       "    </tr>\n",
       "    <tr>\n",
       "      <th>1</th>\n",
       "      <td>15</td>\n",
       "      <td>81</td>\n",
       "    </tr>\n",
       "    <tr>\n",
       "      <th>2</th>\n",
       "      <td>16</td>\n",
       "      <td>6</td>\n",
       "    </tr>\n",
       "    <tr>\n",
       "      <th>3</th>\n",
       "      <td>16</td>\n",
       "      <td>77</td>\n",
       "    </tr>\n",
       "    <tr>\n",
       "      <th>4</th>\n",
       "      <td>17</td>\n",
       "      <td>40</td>\n",
       "    </tr>\n",
       "  </tbody>\n",
       "</table>\n",
       "</div>"
      ],
      "text/plain": [
       "   Annual Income (k$)  Spending Score (1-100)\n",
       "0                  15                      39\n",
       "1                  15                      81\n",
       "2                  16                       6\n",
       "3                  16                      77\n",
       "4                  17                      40"
      ]
     },
     "execution_count": 216,
     "metadata": {},
     "output_type": "execute_result"
    }
   ],
   "source": [
    "data.head()"
   ]
  },
  {
   "cell_type": "markdown",
   "id": "59399cb3-bfae-4648-9338-7e57e5ab99ff",
   "metadata": {},
   "source": [
    "## DBSCAN\n",
    "\n",
    "Choosing the best hyperparameters: eps and min_samples"
   ]
  },
  {
   "cell_type": "code",
   "execution_count": 217,
   "id": "a4679bd3-5f24-45e8-a3fb-07e461ec3deb",
   "metadata": {},
   "outputs": [],
   "source": [
    "## Choosing the best value for 'eps'\n",
    "\n",
    "from sklearn.cluster import DBSCAN\n",
    "from sklearn.neighbors import NearestNeighbors"
   ]
  },
  {
   "cell_type": "code",
   "execution_count": 218,
   "id": "5caa5799-4f02-4e5d-a6db-52276b9180b0",
   "metadata": {},
   "outputs": [],
   "source": [
    "nearest = NearestNeighbors(n_neighbors=2)\n",
    "nibr = nearest.fit(data)\n",
    "distance, indices = nibr.kneighbors(data)"
   ]
  },
  {
   "cell_type": "code",
   "execution_count": 219,
   "id": "f4589007-8a7a-402e-9ddb-2be68e0e3dbf",
   "metadata": {},
   "outputs": [
    {
     "data": {
      "text/plain": [
       "array([[ 0.        ,  2.23606798],\n",
       "       [ 0.        ,  4.12310563],\n",
       "       [ 0.        ,  2.        ],\n",
       "       [ 0.        ,  1.41421356],\n",
       "       [ 0.        ,  2.23606798],\n",
       "       [ 0.        ,  1.41421356],\n",
       "       [ 0.        ,  2.        ],\n",
       "       [ 0.        ,  5.09901951],\n",
       "       [ 0.        ,  3.16227766],\n",
       "       [ 0.        ,  4.47213595],\n",
       "       [ 0.        ,  1.41421356],\n",
       "       [ 0.        ,  4.12310563],\n",
       "       [ 0.        ,  1.41421356],\n",
       "       [ 0.        ,  2.        ],\n",
       "       [ 0.        ,  1.41421356],\n",
       "       [ 0.        ,  2.        ],\n",
       "       [ 0.        ,  3.        ],\n",
       "       [ 0.        ,  6.32455532],\n",
       "       [ 0.        ,  5.83095189],\n",
       "       [ 0.        ,  4.12310563],\n",
       "       [ 0.        ,  3.        ],\n",
       "       [ 0.        ,  1.        ],\n",
       "       [ 0.        ,  5.09901951],\n",
       "       [ 0.        ,  1.        ],\n",
       "       [ 0.        ,  5.        ],\n",
       "       [ 0.        ,  5.09901951],\n",
       "       [ 0.        ,  1.41421356],\n",
       "       [ 0.        ,  8.60232527],\n",
       "       [ 0.        ,  1.41421356],\n",
       "       [ 0.        ,  5.09901951],\n",
       "       [ 0.        ,  3.        ],\n",
       "       [ 0.        ,  4.        ],\n",
       "       [ 0.        ,  3.        ],\n",
       "       [ 0.        ,  5.        ],\n",
       "       [ 0.        ,  3.16227766],\n",
       "       [ 0.        ,  5.09901951],\n",
       "       [ 0.        ,  3.16227766],\n",
       "       [ 0.        ,  3.60555128],\n",
       "       [ 0.        ,  2.82842712],\n",
       "       [ 0.        ,  3.60555128],\n",
       "       [ 0.        ,  1.41421356],\n",
       "       [ 0.        ,  5.        ],\n",
       "       [ 0.        ,  1.41421356],\n",
       "       [ 0.        ,  3.16227766],\n",
       "       [ 0.        ,  2.82842712],\n",
       "       [ 0.        ,  4.        ],\n",
       "       [ 0.        ,  3.16227766],\n",
       "       [ 0.        ,  3.60555128],\n",
       "       [ 0.        ,  0.        ],\n",
       "       [ 0.        ,  0.        ],\n",
       "       [ 0.        ,  2.23606798],\n",
       "       [ 0.        ,  1.        ],\n",
       "       [ 0.        ,  2.23606798],\n",
       "       [ 0.        ,  1.        ],\n",
       "       [ 0.        ,  1.41421356],\n",
       "       [ 0.        ,  3.16227766],\n",
       "       [ 0.        ,  2.23606798],\n",
       "       [ 0.        ,  1.41421356],\n",
       "       [ 0.        ,  1.41421356],\n",
       "       [ 0.        ,  2.        ],\n",
       "       [ 0.        ,  1.        ],\n",
       "       [ 0.        ,  1.        ],\n",
       "       [ 0.        ,  1.41421356],\n",
       "       [ 0.        ,  1.        ],\n",
       "       [ 0.        ,  1.        ],\n",
       "       [ 0.        ,  0.        ],\n",
       "       [ 0.        ,  1.        ],\n",
       "       [ 0.        ,  1.        ],\n",
       "       [ 0.        ,  0.        ],\n",
       "       [ 0.        ,  1.        ],\n",
       "       [ 0.        ,  1.41421356],\n",
       "       [ 0.        ,  5.        ],\n",
       "       [ 0.        ,  2.23606798],\n",
       "       [ 0.        ,  1.41421356],\n",
       "       [ 0.        ,  1.        ],\n",
       "       [ 0.        ,  1.        ],\n",
       "       [ 0.        ,  1.        ],\n",
       "       [ 0.        ,  1.        ],\n",
       "       [ 0.        ,  1.        ],\n",
       "       [ 0.        ,  1.        ],\n",
       "       [ 0.        ,  1.        ],\n",
       "       [ 0.        ,  1.        ],\n",
       "       [ 0.        ,  1.        ],\n",
       "       [ 0.        ,  2.        ],\n",
       "       [ 0.        ,  2.        ],\n",
       "       [ 0.        ,  1.        ],\n",
       "       [ 0.        ,  2.23606798],\n",
       "       [ 0.        ,  2.        ],\n",
       "       [ 0.        ,  2.23606798],\n",
       "       [ 0.        ,  2.23606798],\n",
       "       [ 0.        ,  2.        ],\n",
       "       [ 0.        ,  1.41421356],\n",
       "       [ 0.        ,  1.        ],\n",
       "       [ 0.        ,  1.41421356],\n",
       "       [ 0.        ,  1.        ],\n",
       "       [ 0.        ,  2.        ],\n",
       "       [ 0.        ,  2.        ],\n",
       "       [ 0.        ,  1.        ],\n",
       "       [ 0.        ,  1.        ],\n",
       "       [ 0.        ,  1.        ],\n",
       "       [ 0.        ,  1.        ],\n",
       "       [ 0.        ,  1.        ],\n",
       "       [ 0.        ,  3.        ],\n",
       "       [ 0.        ,  1.        ],\n",
       "       [ 0.        ,  1.        ],\n",
       "       [ 0.        ,  1.        ],\n",
       "       [ 0.        ,  2.        ],\n",
       "       [ 0.        ,  1.        ],\n",
       "       [ 0.        ,  1.41421356],\n",
       "       [ 0.        ,  1.        ],\n",
       "       [ 0.        ,  2.        ],\n",
       "       [ 0.        ,  1.41421356],\n",
       "       [ 0.        ,  1.41421356],\n",
       "       [ 0.        ,  1.        ],\n",
       "       [ 0.        ,  2.        ],\n",
       "       [ 0.        ,  2.        ],\n",
       "       [ 0.        ,  1.41421356],\n",
       "       [ 0.        ,  2.82842712],\n",
       "       [ 0.        ,  2.        ],\n",
       "       [ 0.        ,  1.        ],\n",
       "       [ 0.        ,  1.        ],\n",
       "       [ 0.        ,  3.        ],\n",
       "       [ 0.        ,  2.23606798],\n",
       "       [ 0.        ,  4.47213595],\n",
       "       [ 0.        ,  5.38516481],\n",
       "       [ 0.        ,  2.23606798],\n",
       "       [ 0.        ,  1.41421356],\n",
       "       [ 0.        ,  4.47213595],\n",
       "       [ 0.        ,  2.        ],\n",
       "       [ 0.        ,  0.        ],\n",
       "       [ 0.        ,  2.        ],\n",
       "       [ 0.        ,  0.        ],\n",
       "       [ 0.        ,  1.41421356],\n",
       "       [ 0.        ,  2.23606798],\n",
       "       [ 0.        ,  2.        ],\n",
       "       [ 0.        ,  3.16227766],\n",
       "       [ 0.        ,  2.        ],\n",
       "       [ 0.        ,  1.41421356],\n",
       "       [ 0.        ,  3.16227766],\n",
       "       [ 0.        ,  1.41421356],\n",
       "       [ 0.        ,  2.        ],\n",
       "       [ 0.        ,  4.24264069],\n",
       "       [ 0.        ,  4.12310563],\n",
       "       [ 0.        ,  2.23606798],\n",
       "       [ 0.        ,  3.60555128],\n",
       "       [ 0.        ,  4.47213595],\n",
       "       [ 0.        ,  2.23606798],\n",
       "       [ 0.        ,  1.41421356],\n",
       "       [ 0.        ,  2.        ],\n",
       "       [ 0.        ,  1.        ],\n",
       "       [ 0.        ,  1.        ],\n",
       "       [ 0.        ,  1.        ],\n",
       "       [ 0.        ,  2.        ],\n",
       "       [ 0.        ,  2.        ],\n",
       "       [ 0.        ,  1.        ],\n",
       "       [ 0.        ,  1.        ],\n",
       "       [ 0.        ,  0.        ],\n",
       "       [ 0.        ,  2.        ],\n",
       "       [ 0.        ,  0.        ],\n",
       "       [ 0.        ,  1.41421356],\n",
       "       [ 0.        ,  2.23606798],\n",
       "       [ 0.        ,  5.        ],\n",
       "       [ 0.        ,  5.        ],\n",
       "       [ 0.        ,  4.24264069],\n",
       "       [ 0.        ,  2.23606798],\n",
       "       [ 0.        ,  2.        ],\n",
       "       [ 0.        ,  5.38516481],\n",
       "       [ 0.        ,  3.16227766],\n",
       "       [ 0.        ,  2.23606798],\n",
       "       [ 0.        ,  6.08276253],\n",
       "       [ 0.        ,  1.        ],\n",
       "       [ 0.        ,  2.        ],\n",
       "       [ 0.        ,  3.        ],\n",
       "       [ 0.        ,  3.16227766],\n",
       "       [ 0.        ,  1.        ],\n",
       "       [ 0.        ,  6.08276253],\n",
       "       [ 0.        ,  2.        ],\n",
       "       [ 0.        ,  6.08276253],\n",
       "       [ 0.        ,  5.09901951],\n",
       "       [ 0.        ,  5.38516481],\n",
       "       [ 0.        ,  7.28010989],\n",
       "       [ 0.        ,  2.23606798],\n",
       "       [ 0.        ,  5.09901951],\n",
       "       [ 0.        ,  2.23606798],\n",
       "       [ 0.        ,  7.28010989],\n",
       "       [ 0.        ,  9.05538514],\n",
       "       [ 0.        ,  2.23606798],\n",
       "       [ 0.        ,  2.23606798],\n",
       "       [ 0.        ,  5.38516481],\n",
       "       [ 0.        ,  5.83095189],\n",
       "       [ 0.        ,  2.23606798],\n",
       "       [ 0.        ,  2.23606798],\n",
       "       [ 0.        , 10.63014581],\n",
       "       [ 0.        , 11.66190379],\n",
       "       [ 0.        , 10.63014581],\n",
       "       [ 0.        ,  7.81024968],\n",
       "       [ 0.        , 13.41640786],\n",
       "       [ 0.        ,  7.81024968],\n",
       "       [ 0.        , 14.86606875],\n",
       "       [ 0.        , 14.2126704 ]])"
      ]
     },
     "execution_count": 219,
     "metadata": {},
     "output_type": "execute_result"
    }
   ],
   "source": [
    "distance"
   ]
  },
  {
   "cell_type": "markdown",
   "id": "112f3c0d-f5cf-4e33-9a17-570ec7745137",
   "metadata": {},
   "source": [
    "It shows the distance between each pair of datapoints."
   ]
  },
  {
   "cell_type": "code",
   "execution_count": 220,
   "id": "8cb7e7f5-2fc0-47bf-a964-de6d2dbd4ffb",
   "metadata": {},
   "outputs": [
    {
     "data": {
      "text/plain": [
       "array([[  0,   4],\n",
       "       [  1,   3],\n",
       "       [  2,   6],\n",
       "       [  3,   5],\n",
       "       [  4,   0],\n",
       "       [  5,   3],\n",
       "       [  6,   2],\n",
       "       [  7,  11],\n",
       "       [  8,   6],\n",
       "       [  9,   5],\n",
       "       [ 10,  12],\n",
       "       [ 11,  19],\n",
       "       [ 12,  10],\n",
       "       [ 13,  15],\n",
       "       [ 14,  10],\n",
       "       [ 15,  13],\n",
       "       [ 16,  20],\n",
       "       [ 17,   9],\n",
       "       [ 18,  26],\n",
       "       [ 19,  11],\n",
       "       [ 20,  16],\n",
       "       [ 21,  23],\n",
       "       [ 22,  30],\n",
       "       [ 23,  21],\n",
       "       [ 24,  34],\n",
       "       [ 25,  29],\n",
       "       [ 26,  28],\n",
       "       [ 27,  17],\n",
       "       [ 28,  26],\n",
       "       [ 29,  25],\n",
       "       [ 30,  32],\n",
       "       [ 31,  37],\n",
       "       [ 32,  30],\n",
       "       [ 33,  41],\n",
       "       [ 34,  36],\n",
       "       [ 35,  25],\n",
       "       [ 36,  34],\n",
       "       [ 37,  39],\n",
       "       [ 38,  44],\n",
       "       [ 39,  37],\n",
       "       [ 40,  42],\n",
       "       [ 41,  33],\n",
       "       [ 42,  40],\n",
       "       [ 43,  51],\n",
       "       [ 44,  38],\n",
       "       [ 45,  43],\n",
       "       [ 46,  52],\n",
       "       [ 47,  54],\n",
       "       [ 48,  49],\n",
       "       [ 48,  49],\n",
       "       [ 50,  52],\n",
       "       [ 51,  53],\n",
       "       [ 52,  50],\n",
       "       [ 53,  51],\n",
       "       [ 54,  57],\n",
       "       [ 55,  49],\n",
       "       [ 56,  58],\n",
       "       [ 57,  54],\n",
       "       [ 58,  62],\n",
       "       [ 59,  57],\n",
       "       [ 60,  61],\n",
       "       [ 61,  60],\n",
       "       [ 62,  64],\n",
       "       [ 63,  65],\n",
       "       [ 64,  66],\n",
       "       [ 68,  65],\n",
       "       [ 66,  64],\n",
       "       [ 67,  69],\n",
       "       [ 68,  65],\n",
       "       [ 69,  67],\n",
       "       [ 70,  73],\n",
       "       [ 71,  79],\n",
       "       [ 72,  67],\n",
       "       [ 73,  70],\n",
       "       [ 74,  77],\n",
       "       [ 75,  76],\n",
       "       [ 76,  75],\n",
       "       [ 77,  74],\n",
       "       [ 78,  80],\n",
       "       [ 79,  82],\n",
       "       [ 80,  78],\n",
       "       [ 81,  75],\n",
       "       [ 82,  79],\n",
       "       [ 83,  85],\n",
       "       [ 84,  81],\n",
       "       [ 85,  74],\n",
       "       [ 86,  88],\n",
       "       [ 87,  90],\n",
       "       [ 88,  86],\n",
       "       [ 89,  96],\n",
       "       [ 90,  87],\n",
       "       [ 91,  94],\n",
       "       [ 92,  99],\n",
       "       [ 93,  91],\n",
       "       [ 94,  98],\n",
       "       [ 95,  97],\n",
       "       [ 96,  92],\n",
       "       [ 97,  92],\n",
       "       [ 98,  94],\n",
       "       [ 99,  92],\n",
       "       [100, 105],\n",
       "       [101, 109],\n",
       "       [102, 104],\n",
       "       [103, 104],\n",
       "       [104, 103],\n",
       "       [105, 100],\n",
       "       [106, 115],\n",
       "       [107, 113],\n",
       "       [108, 105],\n",
       "       [109, 101],\n",
       "       [110, 106],\n",
       "       [111, 103],\n",
       "       [112, 108],\n",
       "       [113, 107],\n",
       "       [114, 109],\n",
       "       [115, 106],\n",
       "       [116, 112],\n",
       "       [117, 119],\n",
       "       [118, 116],\n",
       "       [119, 120],\n",
       "       [120, 119],\n",
       "       [121, 118],\n",
       "       [122, 119],\n",
       "       [123, 127],\n",
       "       [124, 132],\n",
       "       [125, 129],\n",
       "       [126, 132],\n",
       "       [127, 123],\n",
       "       [128, 130],\n",
       "       [131, 129],\n",
       "       [130, 128],\n",
       "       [131, 129],\n",
       "       [132, 126],\n",
       "       [133, 137],\n",
       "       [134, 136],\n",
       "       [135, 143],\n",
       "       [136, 134],\n",
       "       [137, 139],\n",
       "       [138, 128],\n",
       "       [139, 137],\n",
       "       [140, 134],\n",
       "       [141, 149],\n",
       "       [142, 146],\n",
       "       [143, 151],\n",
       "       [144, 138],\n",
       "       [145, 141],\n",
       "       [146, 160],\n",
       "       [147, 159],\n",
       "       [148, 152],\n",
       "       [149, 155],\n",
       "       [150, 154],\n",
       "       [151, 155],\n",
       "       [152, 148],\n",
       "       [153, 157],\n",
       "       [154, 150],\n",
       "       [155, 151],\n",
       "       [156, 158],\n",
       "       [157, 153],\n",
       "       [156, 158],\n",
       "       [159, 147],\n",
       "       [160, 146],\n",
       "       [161, 143],\n",
       "       [162, 158],\n",
       "       [163, 149],\n",
       "       [164, 168],\n",
       "       [165, 171],\n",
       "       [166, 176],\n",
       "       [167, 173],\n",
       "       [168, 164],\n",
       "       [169, 177],\n",
       "       [170, 174],\n",
       "       [171, 165],\n",
       "       [172, 170],\n",
       "       [173, 167],\n",
       "       [174, 170],\n",
       "       [175, 173],\n",
       "       [176, 174],\n",
       "       [177, 169],\n",
       "       [178, 182],\n",
       "       [179, 183],\n",
       "       [180, 184],\n",
       "       [181, 183],\n",
       "       [182, 178],\n",
       "       [183, 181],\n",
       "       [184, 180],\n",
       "       [185, 183],\n",
       "       [186, 190],\n",
       "       [187, 191],\n",
       "       [188, 182],\n",
       "       [189, 183],\n",
       "       [190, 186],\n",
       "       [191, 187],\n",
       "       [192, 194],\n",
       "       [193, 189],\n",
       "       [194, 192],\n",
       "       [195, 197],\n",
       "       [196, 194],\n",
       "       [197, 195],\n",
       "       [198, 196],\n",
       "       [199, 197]])"
      ]
     },
     "execution_count": 220,
     "metadata": {},
     "output_type": "execute_result"
    }
   ],
   "source": [
    "indices"
   ]
  },
  {
   "cell_type": "markdown",
   "id": "e5399646-123d-467d-a544-529f6e3d8513",
   "metadata": {},
   "source": [
    "It shows the pair of datapoints for which the distances have been calculated. "
   ]
  },
  {
   "cell_type": "code",
   "execution_count": 221,
   "id": "a56dfe0a-622e-402d-bbbb-425f4a0227fc",
   "metadata": {},
   "outputs": [
    {
     "data": {
      "text/plain": [
       "[<matplotlib.lines.Line2D at 0x7f2dac4c8850>]"
      ]
     },
     "execution_count": 221,
     "metadata": {},
     "output_type": "execute_result"
    },
    {
     "data": {
      "image/png": "[encoded data removed]",
      "text/plain": [
       "<Figure size 640x480 with 1 Axes>"
      ]
     },
     "metadata": {},
     "output_type": "display_data"
    }
   ],
   "source": [
    "## Plotting the above distances on the graph after sorting them\n",
    "\n",
    "distance = np.sort(distance, axis=1)\n",
    "distance = distance[:,1]\n",
    "plt.plot(distance)"
   ]
  },
  {
   "cell_type": "markdown",
   "id": "59324e23-fb32-4a8b-8ed2-9441c18e5859",
   "metadata": {},
   "source": [
    "It can be seen that out of all the 200 datapoints, maximum distances lie below 9. So we can take eps=9. "
   ]
  },
  {
   "cell_type": "code",
   "execution_count": 222,
   "id": "9d9e891a-b6a2-4277-9dc3-0deca8fdef69",
   "metadata": {},
   "outputs": [
    {
     "data": {
      "text/html": [
       "<style>#sk-container-id-30 {color: black;background-color: white;}#sk-container-id-30 pre{padding: 0;}#sk-container-id-30 div.sk-toggleable {background-color: white;}#sk-container-id-30 label.sk-toggleable__label {cursor: pointer;display: block;width: 100%;margin-bottom: 0;padding: 0.3em;box-sizing: border-box;text-align: center;}#sk-container-id-30 label.sk-toggleable__label-arrow:before {content: \"▸\";float: left;margin-right: 0.25em;color: #696969;}#sk-container-id-30 label.sk-toggleable__label-arrow:hover:before {color: black;}#sk-container-id-30 div.sk-estimator:hover label.sk-toggleable__label-arrow:before {color: black;}#sk-container-id-30 div.sk-toggleable__content {max-height: 0;max-width: 0;overflow: hidden;text-align: left;background-color: #f0f8ff;}#sk-container-id-30 div.sk-toggleable__content pre {margin: 0.2em;color: black;border-radius: 0.25em;background-color: #f0f8ff;}#sk-container-id-30 input.sk-toggleable__control:checked~div.sk-toggleable__content {max-height: 200px;max-width: 100%;overflow: auto;}#sk-container-id-30 input.sk-toggleable__control:checked~label.sk-toggleable__label-arrow:before {content: \"▾\";}#sk-container-id-30 div.sk-estimator input.sk-toggleable__control:checked~label.sk-toggleable__label {background-color: #d4ebff;}#sk-container-id-30 div.sk-label input.sk-toggleable__control:checked~label.sk-toggleable__label {background-color: #d4ebff;}#sk-container-id-30 input.sk-hidden--visually {border: 0;clip: rect(1px 1px 1px 1px);clip: rect(1px, 1px, 1px, 1px);height: 1px;margin: -1px;overflow: hidden;padding: 0;position: absolute;width: 1px;}#sk-container-id-30 div.sk-estimator {font-family: monospace;background-color: #f0f8ff;border: 1px dotted black;border-radius: 0.25em;box-sizing: border-box;margin-bottom: 0.5em;}#sk-container-id-30 div.sk-estimator:hover {background-color: #d4ebff;}#sk-container-id-30 div.sk-parallel-item::after {content: \"\";width: 100%;border-bottom: 1px solid gray;flex-grow: 1;}#sk-container-id-30 div.sk-label:hover label.sk-toggleable__label {background-color: #d4ebff;}#sk-container-id-30 div.sk-serial::before {content: \"\";position: absolute;border-left: 1px solid gray;box-sizing: border-box;top: 0;bottom: 0;left: 50%;z-index: 0;}#sk-container-id-30 div.sk-serial {display: flex;flex-direction: column;align-items: center;background-color: white;padding-right: 0.2em;padding-left: 0.2em;position: relative;}#sk-container-id-30 div.sk-item {position: relative;z-index: 1;}#sk-container-id-30 div.sk-parallel {display: flex;align-items: stretch;justify-content: center;background-color: white;position: relative;}#sk-container-id-30 div.sk-item::before, #sk-container-id-30 div.sk-parallel-item::before {content: \"\";position: absolute;border-left: 1px solid gray;box-sizing: border-box;top: 0;bottom: 0;left: 50%;z-index: -1;}#sk-container-id-30 div.sk-parallel-item {display: flex;flex-direction: column;z-index: 1;position: relative;background-color: white;}#sk-container-id-30 div.sk-parallel-item:first-child::after {align-self: flex-end;width: 50%;}#sk-container-id-30 div.sk-parallel-item:last-child::after {align-self: flex-start;width: 50%;}#sk-container-id-30 div.sk-parallel-item:only-child::after {width: 0;}#sk-container-id-30 div.sk-dashed-wrapped {border: 1px dashed gray;margin: 0 0.4em 0.5em 0.4em;box-sizing: border-box;padding-bottom: 0.4em;background-color: white;}#sk-container-id-30 div.sk-label label {font-family: monospace;font-weight: bold;display: inline-block;line-height: 1.2em;}#sk-container-id-30 div.sk-label-container {text-align: center;}#sk-container-id-30 div.sk-container {/* jupyter's `normalize.less` sets `[hidden] { display: none; }` but bootstrap.min.css set `[hidden] { display: none !important; }` so we also need the `!important` here to be able to override the default hidden behavior on the sphinx rendered scikit-learn.org. See: https://github.com/scikit-learn/scikit-learn/issues/21755 */display: inline-block !important;position: relative;}#sk-container-id-30 div.sk-text-repr-fallback {display: none;}</style><div id=\"sk-container-id-30\" class=\"sk-top-container\"><div class=\"sk-text-repr-fallback\"><pre>DBSCAN(eps=9)</pre><b>In a Jupyter environment, please rerun this cell to show the HTML representation or trust the notebook. <br />On GitHub, the HTML representation is unable to render, please try loading this page with nbviewer.org.</b></div><div class=\"sk-container\" hidden><div class=\"sk-item\"><div class=\"sk-estimator sk-toggleable\"><input class=\"sk-toggleable__control sk-hidden--visually\" id=\"sk-estimator-id-30\" type=\"checkbox\" checked><label for=\"sk-estimator-id-30\" class=\"sk-toggleable__label sk-toggleable__label-arrow\">DBSCAN</label><div class=\"sk-toggleable__content\"><pre>DBSCAN(eps=9)</pre></div></div></div></div></div>"
      ],
      "text/plain": [
       "DBSCAN(eps=9)"
      ]
     },
     "execution_count": 222,
     "metadata": {},
     "output_type": "execute_result"
    }
   ],
   "source": [
    "model = DBSCAN(eps=9)\n",
    "model.fit(data)"
   ]
  },
  {
   "cell_type": "code",
   "execution_count": 223,
   "id": "1b62b825-d551-412f-a2b1-fe1038f4398f",
   "metadata": {},
   "outputs": [],
   "source": [
    "Cluster = model.labels_"
   ]
  },
  {
   "cell_type": "code",
   "execution_count": 224,
   "id": "230a5c35-f653-4f84-95eb-402ad86bf4a0",
   "metadata": {},
   "outputs": [
    {
     "data": {
      "text/plain": [
       "array([ 2,  0,  1,  0,  2,  0,  1, -1,  1,  0,  1, -1,  1,  0,  1,  0,  2,\n",
       "        0,  2, -1,  2,  0,  1,  0,  1,  0,  2,  0,  2,  0,  1,  0,  1, -1,\n",
       "        1,  0,  1,  0, -1,  0,  3, -1,  3,  3,  3,  3,  3,  3,  3,  3,  3,\n",
       "        3,  3,  3,  3,  3,  3,  3,  3,  3,  3,  3,  3,  3,  3,  3,  3,  3,\n",
       "        3,  3,  3,  3,  3,  3,  3,  3,  3,  3,  3,  3,  3,  3,  3,  3,  3,\n",
       "        3,  3,  3,  3,  3,  3,  3,  3,  3,  3,  3,  3,  3,  3,  3,  3,  3,\n",
       "        3,  3,  3,  3,  3,  3,  3,  3,  3,  3,  3,  3,  3,  3,  3,  3,  3,\n",
       "        3,  3,  3,  3,  4,  3,  4,  3,  4,  5,  4,  5,  4,  3,  4,  5,  4,\n",
       "        5,  4,  5,  4,  5,  4,  3,  4,  5,  4,  3,  4,  5,  4,  5,  4,  5,\n",
       "        4,  5,  4,  5,  4,  5,  4,  3,  4,  5,  4,  5,  4,  5,  4,  5, -1,\n",
       "        5,  4,  5,  4,  5,  4,  5,  4,  5,  4, -1,  4,  5,  4, -1, -1, -1,\n",
       "       -1, -1,  4, -1, -1, -1, -1, -1, -1, -1, -1, -1, -1])"
      ]
     },
     "execution_count": 224,
     "metadata": {},
     "output_type": "execute_result"
    }
   ],
   "source": [
    "Cluster"
   ]
  },
  {
   "cell_type": "code",
   "execution_count": 225,
   "id": "a17c5039-9cfd-4150-9869-92594d021b7c",
   "metadata": {},
   "outputs": [
    {
     "data": {
      "text/plain": [
       "0.43598431858196485"
      ]
     },
     "execution_count": 225,
     "metadata": {},
     "output_type": "execute_result"
    }
   ],
   "source": [
    "from sklearn.metrics import silhouette_score\n",
    "score = silhouette_score(data, Cluster)\n",
    "score"
   ]
  },
  {
   "cell_type": "code",
   "execution_count": 226,
   "id": "3e241e05-6b02-4361-a602-c9c50aae5ade",
   "metadata": {},
   "outputs": [
    {
     "data": {
      "text/html": [
       "<style>#sk-container-id-31 {color: black;background-color: white;}#sk-container-id-31 pre{padding: 0;}#sk-container-id-31 div.sk-toggleable {background-color: white;}#sk-container-id-31 label.sk-toggleable__label {cursor: pointer;display: block;width: 100%;margin-bottom: 0;padding: 0.3em;box-sizing: border-box;text-align: center;}#sk-container-id-31 label.sk-toggleable__label-arrow:before {content: \"▸\";float: left;margin-right: 0.25em;color: #696969;}#sk-container-id-31 label.sk-toggleable__label-arrow:hover:before {color: black;}#sk-container-id-31 div.sk-estimator:hover label.sk-toggleable__label-arrow:before {color: black;}#sk-container-id-31 div.sk-toggleable__content {max-height: 0;max-width: 0;overflow: hidden;text-align: left;background-color: #f0f8ff;}#sk-container-id-31 div.sk-toggleable__content pre {margin: 0.2em;color: black;border-radius: 0.25em;background-color: #f0f8ff;}#sk-container-id-31 input.sk-toggleable__control:checked~div.sk-toggleable__content {max-height: 200px;max-width: 100%;overflow: auto;}#sk-container-id-31 input.sk-toggleable__control:checked~label.sk-toggleable__label-arrow:before {content: \"▾\";}#sk-container-id-31 div.sk-estimator input.sk-toggleable__control:checked~label.sk-toggleable__label {background-color: #d4ebff;}#sk-container-id-31 div.sk-label input.sk-toggleable__control:checked~label.sk-toggleable__label {background-color: #d4ebff;}#sk-container-id-31 input.sk-hidden--visually {border: 0;clip: rect(1px 1px 1px 1px);clip: rect(1px, 1px, 1px, 1px);height: 1px;margin: -1px;overflow: hidden;padding: 0;position: absolute;width: 1px;}#sk-container-id-31 div.sk-estimator {font-family: monospace;background-color: #f0f8ff;border: 1px dotted black;border-radius: 0.25em;box-sizing: border-box;margin-bottom: 0.5em;}#sk-container-id-31 div.sk-estimator:hover {background-color: #d4ebff;}#sk-container-id-31 div.sk-parallel-item::after {content: \"\";width: 100%;border-bottom: 1px solid gray;flex-grow: 1;}#sk-container-id-31 div.sk-label:hover label.sk-toggleable__label {background-color: #d4ebff;}#sk-container-id-31 div.sk-serial::before {content: \"\";position: absolute;border-left: 1px solid gray;box-sizing: border-box;top: 0;bottom: 0;left: 50%;z-index: 0;}#sk-container-id-31 div.sk-serial {display: flex;flex-direction: column;align-items: center;background-color: white;padding-right: 0.2em;padding-left: 0.2em;position: relative;}#sk-container-id-31 div.sk-item {position: relative;z-index: 1;}#sk-container-id-31 div.sk-parallel {display: flex;align-items: stretch;justify-content: center;background-color: white;position: relative;}#sk-container-id-31 div.sk-item::before, #sk-container-id-31 div.sk-parallel-item::before {content: \"\";position: absolute;border-left: 1px solid gray;box-sizing: border-box;top: 0;bottom: 0;left: 50%;z-index: -1;}#sk-container-id-31 div.sk-parallel-item {display: flex;flex-direction: column;z-index: 1;position: relative;background-color: white;}#sk-container-id-31 div.sk-parallel-item:first-child::after {align-self: flex-end;width: 50%;}#sk-container-id-31 div.sk-parallel-item:last-child::after {align-self: flex-start;width: 50%;}#sk-container-id-31 div.sk-parallel-item:only-child::after {width: 0;}#sk-container-id-31 div.sk-dashed-wrapped {border: 1px dashed gray;margin: 0 0.4em 0.5em 0.4em;box-sizing: border-box;padding-bottom: 0.4em;background-color: white;}#sk-container-id-31 div.sk-label label {font-family: monospace;font-weight: bold;display: inline-block;line-height: 1.2em;}#sk-container-id-31 div.sk-label-container {text-align: center;}#sk-container-id-31 div.sk-container {/* jupyter's `normalize.less` sets `[hidden] { display: none; }` but bootstrap.min.css set `[hidden] { display: none !important; }` so we also need the `!important` here to be able to override the default hidden behavior on the sphinx rendered scikit-learn.org. See: https://github.com/scikit-learn/scikit-learn/issues/21755 */display: inline-block !important;position: relative;}#sk-container-id-31 div.sk-text-repr-fallback {display: none;}</style><div id=\"sk-container-id-31\" class=\"sk-top-container\"><div class=\"sk-text-repr-fallback\"><pre>DBSCAN(eps=10)</pre><b>In a Jupyter environment, please rerun this cell to show the HTML representation or trust the notebook. <br />On GitHub, the HTML representation is unable to render, please try loading this page with nbviewer.org.</b></div><div class=\"sk-container\" hidden><div class=\"sk-item\"><div class=\"sk-estimator sk-toggleable\"><input class=\"sk-toggleable__control sk-hidden--visually\" id=\"sk-estimator-id-31\" type=\"checkbox\" checked><label for=\"sk-estimator-id-31\" class=\"sk-toggleable__label sk-toggleable__label-arrow\">DBSCAN</label><div class=\"sk-toggleable__content\"><pre>DBSCAN(eps=10)</pre></div></div></div></div></div>"
      ],
      "text/plain": [
       "DBSCAN(eps=10)"
      ]
     },
     "execution_count": 226,
     "metadata": {},
     "output_type": "execute_result"
    }
   ],
   "source": [
    "## Checking the Silhouette Score for eps=8 and eps=9 to compare with the Silhouette Score for eps=9\n",
    "\n",
    "model = DBSCAN(eps=10)\n",
    "model.fit(data)"
   ]
  },
  {
   "cell_type": "code",
   "execution_count": 227,
   "id": "df322755-3f82-46c3-a510-cd081692fe0b",
   "metadata": {},
   "outputs": [],
   "source": [
    "Cluster = model.labels_"
   ]
  },
  {
   "cell_type": "code",
   "execution_count": 228,
   "id": "7c5996b1-8042-4605-ac35-47837ba5a9ed",
   "metadata": {},
   "outputs": [
    {
     "data": {
      "text/plain": [
       "array([ 0,  0,  1,  0,  0,  0,  1, -1,  1,  0,  1, -1,  1,  0,  1,  0,  0,\n",
       "        0,  0, -1,  0,  0,  1,  0,  1,  0,  0,  0,  0,  0,  1,  0,  1, -1,\n",
       "        1,  0,  0,  0,  0,  0,  0, -1,  0,  0,  0,  0,  0,  0,  0,  0,  0,\n",
       "        0,  0,  0,  0,  0,  0,  0,  0,  0,  0,  0,  0,  0,  0,  0,  0,  0,\n",
       "        0,  0,  0,  0,  0,  0,  0,  0,  0,  0,  0,  0,  0,  0,  0,  0,  0,\n",
       "        0,  0,  0,  0,  0,  0,  0,  0,  0,  0,  0,  0,  0,  0,  0,  0,  0,\n",
       "        0,  0,  0,  0,  0,  0,  0,  0,  0,  0,  0,  0,  0,  0,  0,  0,  0,\n",
       "        0,  0,  0,  0,  2,  0,  2,  0,  2,  3,  2,  3,  2,  0,  2,  3,  2,\n",
       "        3,  2,  3,  2,  3,  2,  0,  2,  3,  2,  0,  2,  3,  2,  3,  2,  3,\n",
       "        2,  3,  2,  3,  2,  3,  2,  0,  2,  3,  2,  3,  2,  3,  2,  3, -1,\n",
       "        3,  2,  3,  2,  3,  2,  3,  2,  3,  2,  3,  2,  3,  2, -1,  2,  3,\n",
       "       -1,  3,  2,  3, -1, -1, -1, -1, -1, -1, -1, -1, -1])"
      ]
     },
     "execution_count": 228,
     "metadata": {},
     "output_type": "execute_result"
    }
   ],
   "source": [
    "Cluster"
   ]
  },
  {
   "cell_type": "code",
   "execution_count": 229,
   "id": "35f390ce-42b3-4ebe-974b-540003c2f89a",
   "metadata": {},
   "outputs": [
    {
     "data": {
      "text/plain": [
       "0.41249187303464097"
      ]
     },
     "execution_count": 229,
     "metadata": {},
     "output_type": "execute_result"
    }
   ],
   "source": [
    "score = silhouette_score(data, Cluster)\n",
    "score"
   ]
  },
  {
   "cell_type": "code",
   "execution_count": 230,
   "id": "0ca32e4e-a377-450c-9867-6b61b3a9250a",
   "metadata": {},
   "outputs": [
    {
     "data": {
      "text/html": [
       "<style>#sk-container-id-32 {color: black;background-color: white;}#sk-container-id-32 pre{padding: 0;}#sk-container-id-32 div.sk-toggleable {background-color: white;}#sk-container-id-32 label.sk-toggleable__label {cursor: pointer;display: block;width: 100%;margin-bottom: 0;padding: 0.3em;box-sizing: border-box;text-align: center;}#sk-container-id-32 label.sk-toggleable__label-arrow:before {content: \"▸\";float: left;margin-right: 0.25em;color: #696969;}#sk-container-id-32 label.sk-toggleable__label-arrow:hover:before {color: black;}#sk-container-id-32 div.sk-estimator:hover label.sk-toggleable__label-arrow:before {color: black;}#sk-container-id-32 div.sk-toggleable__content {max-height: 0;max-width: 0;overflow: hidden;text-align: left;background-color: #f0f8ff;}#sk-container-id-32 div.sk-toggleable__content pre {margin: 0.2em;color: black;border-radius: 0.25em;background-color: #f0f8ff;}#sk-container-id-32 input.sk-toggleable__control:checked~div.sk-toggleable__content {max-height: 200px;max-width: 100%;overflow: auto;}#sk-container-id-32 input.sk-toggleable__control:checked~label.sk-toggleable__label-arrow:before {content: \"▾\";}#sk-container-id-32 div.sk-estimator input.sk-toggleable__control:checked~label.sk-toggleable__label {background-color: #d4ebff;}#sk-container-id-32 div.sk-label input.sk-toggleable__control:checked~label.sk-toggleable__label {background-color: #d4ebff;}#sk-container-id-32 input.sk-hidden--visually {border: 0;clip: rect(1px 1px 1px 1px);clip: rect(1px, 1px, 1px, 1px);height: 1px;margin: -1px;overflow: hidden;padding: 0;position: absolute;width: 1px;}#sk-container-id-32 div.sk-estimator {font-family: monospace;background-color: #f0f8ff;border: 1px dotted black;border-radius: 0.25em;box-sizing: border-box;margin-bottom: 0.5em;}#sk-container-id-32 div.sk-estimator:hover {background-color: #d4ebff;}#sk-container-id-32 div.sk-parallel-item::after {content: \"\";width: 100%;border-bottom: 1px solid gray;flex-grow: 1;}#sk-container-id-32 div.sk-label:hover label.sk-toggleable__label {background-color: #d4ebff;}#sk-container-id-32 div.sk-serial::before {content: \"\";position: absolute;border-left: 1px solid gray;box-sizing: border-box;top: 0;bottom: 0;left: 50%;z-index: 0;}#sk-container-id-32 div.sk-serial {display: flex;flex-direction: column;align-items: center;background-color: white;padding-right: 0.2em;padding-left: 0.2em;position: relative;}#sk-container-id-32 div.sk-item {position: relative;z-index: 1;}#sk-container-id-32 div.sk-parallel {display: flex;align-items: stretch;justify-content: center;background-color: white;position: relative;}#sk-container-id-32 div.sk-item::before, #sk-container-id-32 div.sk-parallel-item::before {content: \"\";position: absolute;border-left: 1px solid gray;box-sizing: border-box;top: 0;bottom: 0;left: 50%;z-index: -1;}#sk-container-id-32 div.sk-parallel-item {display: flex;flex-direction: column;z-index: 1;position: relative;background-color: white;}#sk-container-id-32 div.sk-parallel-item:first-child::after {align-self: flex-end;width: 50%;}#sk-container-id-32 div.sk-parallel-item:last-child::after {align-self: flex-start;width: 50%;}#sk-container-id-32 div.sk-parallel-item:only-child::after {width: 0;}#sk-container-id-32 div.sk-dashed-wrapped {border: 1px dashed gray;margin: 0 0.4em 0.5em 0.4em;box-sizing: border-box;padding-bottom: 0.4em;background-color: white;}#sk-container-id-32 div.sk-label label {font-family: monospace;font-weight: bold;display: inline-block;line-height: 1.2em;}#sk-container-id-32 div.sk-label-container {text-align: center;}#sk-container-id-32 div.sk-container {/* jupyter's `normalize.less` sets `[hidden] { display: none; }` but bootstrap.min.css set `[hidden] { display: none !important; }` so we also need the `!important` here to be able to override the default hidden behavior on the sphinx rendered scikit-learn.org. See: https://github.com/scikit-learn/scikit-learn/issues/21755 */display: inline-block !important;position: relative;}#sk-container-id-32 div.sk-text-repr-fallback {display: none;}</style><div id=\"sk-container-id-32\" class=\"sk-top-container\"><div class=\"sk-text-repr-fallback\"><pre>DBSCAN(eps=8)</pre><b>In a Jupyter environment, please rerun this cell to show the HTML representation or trust the notebook. <br />On GitHub, the HTML representation is unable to render, please try loading this page with nbviewer.org.</b></div><div class=\"sk-container\" hidden><div class=\"sk-item\"><div class=\"sk-estimator sk-toggleable\"><input class=\"sk-toggleable__control sk-hidden--visually\" id=\"sk-estimator-id-32\" type=\"checkbox\" checked><label for=\"sk-estimator-id-32\" class=\"sk-toggleable__label sk-toggleable__label-arrow\">DBSCAN</label><div class=\"sk-toggleable__content\"><pre>DBSCAN(eps=8)</pre></div></div></div></div></div>"
      ],
      "text/plain": [
       "DBSCAN(eps=8)"
      ]
     },
     "execution_count": 230,
     "metadata": {},
     "output_type": "execute_result"
    }
   ],
   "source": [
    "model = DBSCAN(eps=8)\n",
    "model.fit(data)"
   ]
  },
  {
   "cell_type": "code",
   "execution_count": 231,
   "id": "a93fbc47-0d2f-4c17-ab69-26a069e4a6c2",
   "metadata": {},
   "outputs": [],
   "source": [
    "Cluster = model.labels_"
   ]
  },
  {
   "cell_type": "code",
   "execution_count": 232,
   "id": "87b0e09f-03ea-428c-8f96-2a098e936b0b",
   "metadata": {},
   "outputs": [
    {
     "data": {
      "text/plain": [
       "array([ 2,  0,  1,  0,  2,  0,  1, -1,  1,  0, -1, -1, -1,  0,  1,  0,  2,\n",
       "        0,  2, -1,  2,  0,  1,  0, -1, -1,  2, -1,  2, -1, -1,  0, -1, -1,\n",
       "       -1, -1, -1,  0, -1,  0,  3, -1,  3,  3,  3,  3,  3,  3,  3,  3,  3,\n",
       "        3,  3,  3,  3,  3,  3,  3,  3,  3,  3,  3,  3,  3,  3,  3,  3,  3,\n",
       "        3,  3,  3,  3,  3,  3,  3,  3,  3,  3,  3,  3,  3,  3,  3,  3,  3,\n",
       "        3,  3,  3,  3,  3,  3,  3,  3,  3,  3,  3,  3,  3,  3,  3,  3,  3,\n",
       "        3,  3,  3,  3,  3,  3,  3,  3,  3,  3,  3,  3,  3,  3,  3,  3,  3,\n",
       "        3,  3,  3,  3,  4,  3,  4,  3,  4,  5,  4,  5,  4,  3,  4,  5,  4,\n",
       "        5,  4,  5,  4,  5,  4,  3,  4,  5,  4,  3,  4,  5,  4,  5,  4,  5,\n",
       "        4,  5,  4,  5,  4,  5,  4,  3,  4,  5,  4,  5,  4,  5,  4,  5, -1,\n",
       "        5,  4,  5,  4,  5,  4,  5,  4,  5,  4, -1,  4,  5,  4, -1, -1, -1,\n",
       "       -1, -1, -1, -1, -1, -1, -1, -1, -1, -1, -1, -1, -1])"
      ]
     },
     "execution_count": 232,
     "metadata": {},
     "output_type": "execute_result"
    }
   ],
   "source": [
    "Cluster"
   ]
  },
  {
   "cell_type": "code",
   "execution_count": 233,
   "id": "3e03ff17-e650-422c-be2d-4151751fed52",
   "metadata": {},
   "outputs": [
    {
     "data": {
      "text/plain": [
       "0.3550982050619174"
      ]
     },
     "execution_count": 233,
     "metadata": {},
     "output_type": "execute_result"
    }
   ],
   "source": [
    "score = silhouette_score(data, Cluster)\n",
    "score"
   ]
  },
  {
   "cell_type": "markdown",
   "id": "557b3dee-bab5-4b02-8870-9f6ef8d7d990",
   "metadata": {},
   "source": [
    "So it can be seen that the Silhouette Score is more for eps=9 than for eps=8,10. So we take eps=9 for our model."
   ]
  },
  {
   "cell_type": "code",
   "execution_count": 234,
   "id": "48bc126d-fd09-4eda-8fb8-b6b31d0a3c33",
   "metadata": {},
   "outputs": [],
   "source": [
    "## Choosong the best value for 'min_samples' considering eps=9\n",
    "\n",
    "Silhouette_Score = []\n",
    "\n",
    "for i in range(2,20):\n",
    "    model = DBSCAN(eps=9, min_samples=i)\n",
    "    model.fit(data)\n",
    "    Cluster = model.labels_\n",
    "    score = silhouette_score(data, Cluster)\n",
    "    Silhouette_Score.append(score)"
   ]
  },
  {
   "cell_type": "code",
   "execution_count": 235,
   "id": "44a195ac-fd63-4e65-b625-8c8108e6e651",
   "metadata": {},
   "outputs": [
    {
     "data": {
      "text/plain": [
       "[0.4437895954843984,\n",
       " 0.475053701963407,\n",
       " 0.4259680122384905,\n",
       " 0.43598431858196485,\n",
       " 0.35166437164696535,\n",
       " 0.2928486499658635,\n",
       " 0.2935222061383018,\n",
       " 0.20760239612573833,\n",
       " 0.1651313393319419,\n",
       " 0.09822413942936498,\n",
       " 0.1015704250377753,\n",
       " 0.15213852157178065,\n",
       " 0.15213852157178065,\n",
       " 0.15213852157178065,\n",
       " 0.14719249423007474,\n",
       " 0.14719249423007474,\n",
       " 0.14719249423007474,\n",
       " 0.14070598762588007]"
      ]
     },
     "execution_count": 235,
     "metadata": {},
     "output_type": "execute_result"
    }
   ],
   "source": [
    "Silhouette_Score"
   ]
  },
  {
   "cell_type": "markdown",
   "id": "9eb22a53-1914-449a-b950-42f7ee79739c",
   "metadata": {},
   "source": [
    "It can be seen that the maximum Silhouette Score is for 'max_samples'=3. So we take max_samples=3 for our model. "
   ]
  },
  {
   "cell_type": "code",
   "execution_count": 236,
   "id": "8b05f50f-cc9e-4fc6-b091-9126699da2da",
   "metadata": {},
   "outputs": [
    {
     "data": {
      "text/html": [
       "<style>#sk-container-id-33 {color: black;background-color: white;}#sk-container-id-33 pre{padding: 0;}#sk-container-id-33 div.sk-toggleable {background-color: white;}#sk-container-id-33 label.sk-toggleable__label {cursor: pointer;display: block;width: 100%;margin-bottom: 0;padding: 0.3em;box-sizing: border-box;text-align: center;}#sk-container-id-33 label.sk-toggleable__label-arrow:before {content: \"▸\";float: left;margin-right: 0.25em;color: #696969;}#sk-container-id-33 label.sk-toggleable__label-arrow:hover:before {color: black;}#sk-container-id-33 div.sk-estimator:hover label.sk-toggleable__label-arrow:before {color: black;}#sk-container-id-33 div.sk-toggleable__content {max-height: 0;max-width: 0;overflow: hidden;text-align: left;background-color: #f0f8ff;}#sk-container-id-33 div.sk-toggleable__content pre {margin: 0.2em;color: black;border-radius: 0.25em;background-color: #f0f8ff;}#sk-container-id-33 input.sk-toggleable__control:checked~div.sk-toggleable__content {max-height: 200px;max-width: 100%;overflow: auto;}#sk-container-id-33 input.sk-toggleable__control:checked~label.sk-toggleable__label-arrow:before {content: \"▾\";}#sk-container-id-33 div.sk-estimator input.sk-toggleable__control:checked~label.sk-toggleable__label {background-color: #d4ebff;}#sk-container-id-33 div.sk-label input.sk-toggleable__control:checked~label.sk-toggleable__label {background-color: #d4ebff;}#sk-container-id-33 input.sk-hidden--visually {border: 0;clip: rect(1px 1px 1px 1px);clip: rect(1px, 1px, 1px, 1px);height: 1px;margin: -1px;overflow: hidden;padding: 0;position: absolute;width: 1px;}#sk-container-id-33 div.sk-estimator {font-family: monospace;background-color: #f0f8ff;border: 1px dotted black;border-radius: 0.25em;box-sizing: border-box;margin-bottom: 0.5em;}#sk-container-id-33 div.sk-estimator:hover {background-color: #d4ebff;}#sk-container-id-33 div.sk-parallel-item::after {content: \"\";width: 100%;border-bottom: 1px solid gray;flex-grow: 1;}#sk-container-id-33 div.sk-label:hover label.sk-toggleable__label {background-color: #d4ebff;}#sk-container-id-33 div.sk-serial::before {content: \"\";position: absolute;border-left: 1px solid gray;box-sizing: border-box;top: 0;bottom: 0;left: 50%;z-index: 0;}#sk-container-id-33 div.sk-serial {display: flex;flex-direction: column;align-items: center;background-color: white;padding-right: 0.2em;padding-left: 0.2em;position: relative;}#sk-container-id-33 div.sk-item {position: relative;z-index: 1;}#sk-container-id-33 div.sk-parallel {display: flex;align-items: stretch;justify-content: center;background-color: white;position: relative;}#sk-container-id-33 div.sk-item::before, #sk-container-id-33 div.sk-parallel-item::before {content: \"\";position: absolute;border-left: 1px solid gray;box-sizing: border-box;top: 0;bottom: 0;left: 50%;z-index: -1;}#sk-container-id-33 div.sk-parallel-item {display: flex;flex-direction: column;z-index: 1;position: relative;background-color: white;}#sk-container-id-33 div.sk-parallel-item:first-child::after {align-self: flex-end;width: 50%;}#sk-container-id-33 div.sk-parallel-item:last-child::after {align-self: flex-start;width: 50%;}#sk-container-id-33 div.sk-parallel-item:only-child::after {width: 0;}#sk-container-id-33 div.sk-dashed-wrapped {border: 1px dashed gray;margin: 0 0.4em 0.5em 0.4em;box-sizing: border-box;padding-bottom: 0.4em;background-color: white;}#sk-container-id-33 div.sk-label label {font-family: monospace;font-weight: bold;display: inline-block;line-height: 1.2em;}#sk-container-id-33 div.sk-label-container {text-align: center;}#sk-container-id-33 div.sk-container {/* jupyter's `normalize.less` sets `[hidden] { display: none; }` but bootstrap.min.css set `[hidden] { display: none !important; }` so we also need the `!important` here to be able to override the default hidden behavior on the sphinx rendered scikit-learn.org. See: https://github.com/scikit-learn/scikit-learn/issues/21755 */display: inline-block !important;position: relative;}#sk-container-id-33 div.sk-text-repr-fallback {display: none;}</style><div id=\"sk-container-id-33\" class=\"sk-top-container\"><div class=\"sk-text-repr-fallback\"><pre>DBSCAN(eps=9, min_samples=3)</pre><b>In a Jupyter environment, please rerun this cell to show the HTML representation or trust the notebook. <br />On GitHub, the HTML representation is unable to render, please try loading this page with nbviewer.org.</b></div><div class=\"sk-container\" hidden><div class=\"sk-item\"><div class=\"sk-estimator sk-toggleable\"><input class=\"sk-toggleable__control sk-hidden--visually\" id=\"sk-estimator-id-33\" type=\"checkbox\" checked><label for=\"sk-estimator-id-33\" class=\"sk-toggleable__label sk-toggleable__label-arrow\">DBSCAN</label><div class=\"sk-toggleable__content\"><pre>DBSCAN(eps=9, min_samples=3)</pre></div></div></div></div></div>"
      ],
      "text/plain": [
       "DBSCAN(eps=9, min_samples=3)"
      ]
     },
     "execution_count": 236,
     "metadata": {},
     "output_type": "execute_result"
    }
   ],
   "source": [
    "## Model building\n",
    "\n",
    "final_model = DBSCAN(eps=9, min_samples=3)\n",
    "final_model.fit(data)"
   ]
  },
  {
   "cell_type": "code",
   "execution_count": 237,
   "id": "f02ee09e-6a76-4347-888b-69f20e021cd9",
   "metadata": {},
   "outputs": [],
   "source": [
    "Cluster = final_model.labels_"
   ]
  },
  {
   "cell_type": "code",
   "execution_count": 238,
   "id": "5bb15112-8a92-4559-b2e1-e3fef7fc0701",
   "metadata": {},
   "outputs": [
    {
     "data": {
      "text/plain": [
       "array([ 0,  1,  2,  1,  0,  1,  2,  3,  2,  1,  2,  3,  2,  1,  2,  1,  0,\n",
       "        1,  0,  3,  0,  1,  2,  1,  2,  1,  0,  1,  0,  1,  2,  1,  2,  1,\n",
       "        2,  1,  2,  1,  4,  1,  4,  1,  4,  4,  4,  4,  4,  4,  4,  4,  4,\n",
       "        4,  4,  4,  4,  4,  4,  4,  4,  4,  4,  4,  4,  4,  4,  4,  4,  4,\n",
       "        4,  4,  4,  4,  4,  4,  4,  4,  4,  4,  4,  4,  4,  4,  4,  4,  4,\n",
       "        4,  4,  4,  4,  4,  4,  4,  4,  4,  4,  4,  4,  4,  4,  4,  4,  4,\n",
       "        4,  4,  4,  4,  4,  4,  4,  4,  4,  4,  4,  4,  4,  4,  4,  4,  4,\n",
       "        4,  4,  4,  4,  5,  4,  5,  4,  5,  6,  5,  6,  5,  4,  5,  6,  5,\n",
       "        6,  5,  6,  5,  6,  5,  4,  5,  6,  5,  4,  5,  6,  5,  6,  5,  6,\n",
       "        5,  6,  5,  6,  5,  6,  5,  4,  5,  6,  5,  6,  5,  6,  5,  6,  5,\n",
       "        6,  5,  6,  5,  6,  5,  6,  5,  6,  5,  6,  5,  6,  5,  6, -1,  6,\n",
       "       -1,  6,  5,  6, -1, -1, -1, -1, -1, -1, -1, -1, -1])"
      ]
     },
     "execution_count": 238,
     "metadata": {},
     "output_type": "execute_result"
    }
   ],
   "source": [
    "Cluster"
   ]
  },
  {
   "cell_type": "code",
   "execution_count": 239,
   "id": "f5b4ac12-a025-489c-9daf-1b81a8d1cab4",
   "metadata": {},
   "outputs": [],
   "source": [
    "data['Cluster'] = pd.DataFrame(Cluster, columns=['Cluster'])"
   ]
  },
  {
   "cell_type": "code",
   "execution_count": 240,
   "id": "53189779-2821-4b34-bbda-64f253c9b63a",
   "metadata": {},
   "outputs": [
    {
     "data": {
      "text/html": [
       "<div>\n",
       "<style scoped>\n",
       "    .dataframe tbody tr th:only-of-type {\n",
       "        vertical-align: middle;\n",
       "    }\n",
       "\n",
       "    .dataframe tbody tr th {\n",
       "        vertical-align: top;\n",
       "    }\n",
       "\n",
       "    .dataframe thead th {\n",
       "        text-align: right;\n",
       "    }\n",
       "</style>\n",
       "<table border=\"1\" class=\"dataframe\">\n",
       "  <thead>\n",
       "    <tr style=\"text-align: right;\">\n",
       "      <th></th>\n",
       "      <th>Annual Income (k$)</th>\n",
       "      <th>Spending Score (1-100)</th>\n",
       "      <th>Cluster</th>\n",
       "    </tr>\n",
       "  </thead>\n",
       "  <tbody>\n",
       "    <tr>\n",
       "      <th>0</th>\n",
       "      <td>15</td>\n",
       "      <td>39</td>\n",
       "      <td>0</td>\n",
       "    </tr>\n",
       "    <tr>\n",
       "      <th>1</th>\n",
       "      <td>15</td>\n",
       "      <td>81</td>\n",
       "      <td>1</td>\n",
       "    </tr>\n",
       "    <tr>\n",
       "      <th>2</th>\n",
       "      <td>16</td>\n",
       "      <td>6</td>\n",
       "      <td>2</td>\n",
       "    </tr>\n",
       "    <tr>\n",
       "      <th>3</th>\n",
       "      <td>16</td>\n",
       "      <td>77</td>\n",
       "      <td>1</td>\n",
       "    </tr>\n",
       "    <tr>\n",
       "      <th>4</th>\n",
       "      <td>17</td>\n",
       "      <td>40</td>\n",
       "      <td>0</td>\n",
       "    </tr>\n",
       "  </tbody>\n",
       "</table>\n",
       "</div>"
      ],
      "text/plain": [
       "   Annual Income (k$)  Spending Score (1-100)  Cluster\n",
       "0                  15                      39        0\n",
       "1                  15                      81        1\n",
       "2                  16                       6        2\n",
       "3                  16                      77        1\n",
       "4                  17                      40        0"
      ]
     },
     "execution_count": 240,
     "metadata": {},
     "output_type": "execute_result"
    }
   ],
   "source": [
    "data.head()"
   ]
  },
  {
   "cell_type": "markdown",
   "id": "e980492b-3540-420e-b286-cf1c538f54e6",
   "metadata": {},
   "source": [
    "The 'Cluster' column shows the cluster in which each of the observation or each customer in the dataset belongs. The observations which are having the Cluster value as -1 it implies that the DBSCAN model has identified those observations or datapoints as outliers and hence are not part of any of the clusters. "
   ]
  },
  {
   "cell_type": "code",
   "execution_count": 241,
   "id": "9894077f-c4c0-42f6-8cc9-7d69f4c8f8c7",
   "metadata": {},
   "outputs": [
    {
     "data": {
      "text/plain": [
       "<seaborn.axisgrid.FacetGrid at 0x7f2dac328910>"
      ]
     },
     "execution_count": 241,
     "metadata": {},
     "output_type": "execute_result"
    },
    {
     "data": {
      "image/png": "[encoded data removed]",
      "text/plain": [
       "<Figure size 563.75x500 with 1 Axes>"
      ]
     },
     "metadata": {},
     "output_type": "display_data"
    }
   ],
   "source": [
    "# Visualizing the clusters on the graph.\n",
    "sns.lmplot(x='Annual Income (k$)', y='Spending Score (1-100)', data=data, fit_reg=False, hue='Cluster')"
   ]
  },
  {
   "cell_type": "markdown",
   "id": "2eb0cabf-f167-4c77-bdca-53d844a81845",
   "metadata": {},
   "source": [
    "So we can see that there are 6 clusters of mall_customers. "
   ]
  },
  {
   "cell_type": "code",
   "execution_count": 242,
   "id": "86f0ee2e-1cab-49ac-9651-9c0d7eca1a91",
   "metadata": {},
   "outputs": [
    {
     "name": "stdout",
     "output_type": "stream",
     "text": [
      "The silhouette score for our model is : 0.4783262626222251\n"
     ]
    }
   ],
   "source": [
    "score = silhouette_score(data, Cluster)\n",
    "print('The silhouette score for our model is :', score)"
   ]
  },
  {
   "cell_type": "code",
   "execution_count": null,
   "id": "c6982d5a-f452-499a-a5db-910d44254660",
   "metadata": {},
   "outputs": [],
   "source": []
  }
 ],
 "metadata": {
  "kernelspec": {
   "display_name": "Python 3 (ipykernel)",
   "language": "python",
   "name": "python3"
  },
  "language_info": {
   "codemirror_mode": {
    "name": "ipython",
    "version": 3
   },
   "file_extension": ".py",
   "mimetype": "text/x-python",
   "name": "python",
   "nbconvert_exporter": "python",
   "pygments_lexer": "ipython3",
   "version": "3.10.8"
  }
 },
 "nbformat": 4,
 "nbformat_minor": 5
}
