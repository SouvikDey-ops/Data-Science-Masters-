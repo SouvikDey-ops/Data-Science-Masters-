{
 "cells": [
  {
   "cell_type": "code",
   "execution_count": 1,
   "id": "d78b0f47-7913-4203-a817-98138a39540a",
   "metadata": {},
   "outputs": [],
   "source": [
    "## input statement"
   ]
  },
  {
   "cell_type": "code",
   "execution_count": 3,
   "id": "d7bb858f-613b-4949-8a74-9c1f0a09b1e3",
   "metadata": {},
   "outputs": [
    {
     "name": "stdin",
     "output_type": "stream",
     "text": [
      "what is your age?  24\n"
     ]
    }
   ],
   "source": [
    "age = input('what is your age? ')"
   ]
  },
  {
   "cell_type": "code",
   "execution_count": 17,
   "id": "3fbec278-ea7d-4984-be06-990c4e481fdb",
   "metadata": {},
   "outputs": [
    {
     "name": "stdin",
     "output_type": "stream",
     "text": [
      "what is your age?  24\n"
     ]
    },
    {
     "data": {
      "text/plain": [
       "str"
      ]
     },
     "execution_count": 17,
     "metadata": {},
     "output_type": "execute_result"
    }
   ],
   "source": [
    "type(input('what is your age? '))"
   ]
  },
  {
   "cell_type": "code",
   "execution_count": 18,
   "id": "4253147f-0cc6-4318-8eca-3961e327eb2d",
   "metadata": {},
   "outputs": [
    {
     "name": "stdin",
     "output_type": "stream",
     "text": [
      " 24\n"
     ]
    }
   ],
   "source": [
    "age = input()"
   ]
  },
  {
   "cell_type": "code",
   "execution_count": 19,
   "id": "6b1db839-9fd3-4b98-b6bc-182f117c802c",
   "metadata": {},
   "outputs": [
    {
     "name": "stdin",
     "output_type": "stream",
     "text": [
      " 24\n"
     ]
    },
    {
     "data": {
      "text/plain": [
       "str"
      ]
     },
     "execution_count": 19,
     "metadata": {},
     "output_type": "execute_result"
    }
   ],
   "source": [
    "type(input())"
   ]
  },
  {
   "cell_type": "code",
   "execution_count": 4,
   "id": "db1b3241-ac39-4f7c-871c-2a2b8b598f26",
   "metadata": {},
   "outputs": [],
   "source": [
    "## if statement "
   ]
  },
  {
   "cell_type": "code",
   "execution_count": 8,
   "id": "11c7ca7a-7c75-456d-94ca-9b4009863918",
   "metadata": {},
   "outputs": [
    {
     "name": "stdin",
     "output_type": "stream",
     "text": [
      "what is your age?  24\n"
     ]
    },
    {
     "name": "stdout",
     "output_type": "stream",
     "text": [
      "okay! you are eligible to vote\n"
     ]
    }
   ],
   "source": [
    "age = int(input('what is your age? '))\n",
    "\n",
    "if age >= 18:\n",
    "          print('okay! you are eligible to vote')"
   ]
  },
  {
   "cell_type": "code",
   "execution_count": 9,
   "id": "5a45009f-7e4f-4517-ac0e-4866de61ecec",
   "metadata": {},
   "outputs": [],
   "source": [
    "## if else statement "
   ]
  },
  {
   "cell_type": "raw",
   "id": "5d8c54a0-54b5-4aad-9346-994b6e0eb895",
   "metadata": {},
   "source": [
    "age = int(input('what is your age? '))\n",
    "\n",
    "if age >= 18:\n",
    "          print('okay! you are eligible to vote')\n",
    "else:\n",
    "     print('sorry! you are still not eligible to vote')"
   ]
  },
  {
   "cell_type": "code",
   "execution_count": 14,
   "id": "6fd5af5e-7a79-4575-8065-9ec1fd406a39",
   "metadata": {},
   "outputs": [],
   "source": [
    "## exercise: if the price of the product is greater than or equal to 3000 rupees you get a 30% off orelse you get a 20% off. "
   ]
  },
  {
   "cell_type": "code",
   "execution_count": 20,
   "id": "1e693080-8aa9-4f43-8146-ec15d104779f",
   "metadata": {},
   "outputs": [
    {
     "name": "stdin",
     "output_type": "stream",
     "text": [
      "price of the product -  3500\n"
     ]
    },
    {
     "name": "stdout",
     "output_type": "stream",
     "text": [
      "congratulation! you are getting a 30% off on the product. you need to pay only 2450.0\n"
     ]
    }
   ],
   "source": [
    "price = int(input('price of the product - '))\n",
    "if price >= 3000:\n",
    "    print('congratulation! you are getting a 30% off on the product. you need to pay only {}'.format(price*0.7))\n",
    "else:\n",
    "    print('congratulation! you are getting a 20% off on the product. you need to pay only {}'.format(price*0.8))"
   ]
  },
  {
   "cell_type": "code",
   "execution_count": 21,
   "id": "288940a0-63f6-4904-aff4-4f7487c05bd8",
   "metadata": {},
   "outputs": [
    {
     "name": "stdin",
     "output_type": "stream",
     "text": [
      "price of the product -  2000\n"
     ]
    },
    {
     "name": "stdout",
     "output_type": "stream",
     "text": [
      "congratulation! you are getting a 20% off on the product. you need to pay only 1600.0\n"
     ]
    }
   ],
   "source": [
    "price = int(input('price of the product - '))\n",
    "if price >= 3000:\n",
    "    print('congratulation! you are getting a 30% off on the product. you need to pay only {}'.format(price*0.7))\n",
    "else:\n",
    "    print('congratulation! you are getting a 20% off on the product. you need to pay only {}'.format(price*0.8))  "
   ]
  },
  {
   "cell_type": "code",
   "execution_count": 22,
   "id": "e28bf80f-2182-4962-8cfa-51bdc93ba4ec",
   "metadata": {},
   "outputs": [],
   "source": [
    "## if elif statement exercise: \n",
    "## if the price >= 3000 rupees - 30% off\n",
    "## If the price is in between 2000 and 3000 - 20% off \n",
    "## if the price is less than or equal to 2000 - 10% off"
   ]
  },
  {
   "cell_type": "code",
   "execution_count": 24,
   "id": "5ad54766-8071-4082-b5bb-313e2b06fa9f",
   "metadata": {},
   "outputs": [
    {
     "name": "stdin",
     "output_type": "stream",
     "text": [
      "price of the product -  2500\n"
     ]
    },
    {
     "name": "stdout",
     "output_type": "stream",
     "text": [
      "congratulation! you are getting a 20% off on the product. you need to pay only 2000.0\n"
     ]
    }
   ],
   "source": [
    "price = int(input('price of the product - '))\n",
    "if price >= 3000:\n",
    "    print('congratulation! you are getting a 30% off on the product. you need to pay only {}'.format(price*0.7))\n",
    "elif 2000 <= price <= 3000:\n",
    "    print('congratulation! you are getting a 20% off on the product. you need to pay only {}'.format(price*0.8)) \n",
    "else: print('congratulation! you are getting a 10% off on the product. you need to pay only {}'.format(price*0.9))"
   ]
  },
  {
   "cell_type": "code",
   "execution_count": 25,
   "id": "7f0ab22e-055a-4817-8145-d067d04974e8",
   "metadata": {},
   "outputs": [
    {
     "name": "stdin",
     "output_type": "stream",
     "text": [
      "price of the product -  1000\n"
     ]
    },
    {
     "name": "stdout",
     "output_type": "stream",
     "text": [
      "congratulation! you are getting a 10% off on the product. you need to pay only 900.0\n"
     ]
    }
   ],
   "source": [
    "price = int(input('price of the product - '))\n",
    "if price >= 3000:\n",
    "    print('congratulation! you are getting a 30% off on the product. you need to pay only {}'.format(price*0.7))\n",
    "elif 2000 <= price <= 3000:\n",
    "    print('congratulation! you are getting a 20% off on the product. you need to pay only {}'.format(price*0.8)) \n",
    "else: print('congratulation! you are getting a 10% off on the product. you need to pay only {}'.format(price*0.9))"
   ]
  },
  {
   "cell_type": "code",
   "execution_count": 26,
   "id": "5200844b-85be-433c-b6e4-0864a510ee50",
   "metadata": {},
   "outputs": [],
   "source": [
    "## exercise:\n",
    "## if elif statement exercise: \n",
    "## if the price >= 3000 rupees - 30% off\n",
    "## If the price is in between 2000 and 3000 - 20% off \n",
    "## if the price is less than or equal to 2000 - 10% off\n",
    "## if the price = 2200 which is a special price, you get an additional gift "
   ]
  },
  {
   "cell_type": "code",
   "execution_count": 28,
   "id": "e75e0bcd-1a90-4f10-822b-9f166b7ee3eb",
   "metadata": {},
   "outputs": [
    {
     "name": "stdin",
     "output_type": "stream",
     "text": [
      "price of the product -  2200\n"
     ]
    },
    {
     "name": "stdout",
     "output_type": "stream",
     "text": [
      "congratulations! you get an additonal gift\n",
      "congratulation! you are getting a 20% off on the product. you need to pay only 1760.0\n"
     ]
    }
   ],
   "source": [
    "price = int(input('price of the product - '))\n",
    "if price >= 3000:\n",
    "    print('congratulation! you are getting a 30% off on the product. you need to pay only {}'.format(price*0.7))\n",
    "elif 2000 <= price <= 3000:\n",
    "    if price == 2200:\n",
    "        print('congratulations! you get an additonal gift')\n",
    "    print('congratulation! you are getting a 20% off on the product. you need to pay only {}'.format(price*0.8)) \n",
    "else: print('congratulation! you are getting a 10% off on the product. you need to pay only {}'.format(price*0.9))"
   ]
  },
  {
   "cell_type": "code",
   "execution_count": null,
   "id": "b96734b2-27da-4c48-9c3d-1889580636d7",
   "metadata": {},
   "outputs": [],
   "source": []
  }
 ],
 "metadata": {
  "kernelspec": {
   "display_name": "Python 3 (ipykernel)",
   "language": "python",
   "name": "python3"
  },
  "language_info": {
   "codemirror_mode": {
    "name": "ipython",
    "version": 3
   },
   "file_extension": ".py",
   "mimetype": "text/x-python",
   "name": "python",
   "nbconvert_exporter": "python",
   "pygments_lexer": "ipython3",
   "version": "3.10.8"
  }
 },
 "nbformat": 4,
 "nbformat_minor": 5
}
