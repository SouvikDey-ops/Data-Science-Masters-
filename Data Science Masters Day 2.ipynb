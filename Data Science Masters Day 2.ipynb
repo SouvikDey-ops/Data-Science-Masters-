{
 "cells": [
  {
   "cell_type": "code",
   "execution_count": 1,
   "id": "6ce1eb94-d7a1-464f-8e7c-d14fe0e7ebb2",
   "metadata": {},
   "outputs": [],
   "source": [
    "## typecasting"
   ]
  },
  {
   "cell_type": "code",
   "execution_count": 2,
   "id": "5854312c-9a3d-4cc8-b278-3168c76f7d5b",
   "metadata": {},
   "outputs": [
    {
     "data": {
      "text/plain": [
       "int"
      ]
     },
     "execution_count": 2,
     "metadata": {},
     "output_type": "execute_result"
    }
   ],
   "source": [
    "a = 23\n",
    "type(a)"
   ]
  },
  {
   "cell_type": "code",
   "execution_count": 3,
   "id": "21a5ce74-37ca-4cf3-b67d-1f50352d36bc",
   "metadata": {},
   "outputs": [
    {
     "data": {
      "text/plain": [
       "'23'"
      ]
     },
     "execution_count": 3,
     "metadata": {},
     "output_type": "execute_result"
    }
   ],
   "source": [
    "str(a)"
   ]
  },
  {
   "cell_type": "code",
   "execution_count": 4,
   "id": "924e509e-171a-4089-a0d3-90496455e5fb",
   "metadata": {},
   "outputs": [
    {
     "data": {
      "text/plain": [
       "str"
      ]
     },
     "execution_count": 4,
     "metadata": {},
     "output_type": "execute_result"
    }
   ],
   "source": [
    "type(str(a))"
   ]
  },
  {
   "cell_type": "code",
   "execution_count": 5,
   "id": "03d5f18e-4aae-4ee5-a2fa-9deab4eaff72",
   "metadata": {},
   "outputs": [
    {
     "data": {
      "text/plain": [
       "str"
      ]
     },
     "execution_count": 5,
     "metadata": {},
     "output_type": "execute_result"
    }
   ],
   "source": [
    "b = '54'\n",
    "type(b)"
   ]
  },
  {
   "cell_type": "code",
   "execution_count": 6,
   "id": "a2567210-939e-4640-b741-c074bb9e082d",
   "metadata": {},
   "outputs": [
    {
     "data": {
      "text/plain": [
       "54"
      ]
     },
     "execution_count": 6,
     "metadata": {},
     "output_type": "execute_result"
    }
   ],
   "source": [
    "int(b)"
   ]
  },
  {
   "cell_type": "code",
   "execution_count": 7,
   "id": "789da346-2182-4a99-bcfe-e7137967fca4",
   "metadata": {},
   "outputs": [
    {
     "data": {
      "text/plain": [
       "int"
      ]
     },
     "execution_count": 7,
     "metadata": {},
     "output_type": "execute_result"
    }
   ],
   "source": [
    "type(int(b))"
   ]
  },
  {
   "cell_type": "code",
   "execution_count": 8,
   "id": "b12e1f2c-90e5-48f5-a804-e24777fe6b22",
   "metadata": {},
   "outputs": [],
   "source": [
    "## concatination"
   ]
  },
  {
   "cell_type": "code",
   "execution_count": 9,
   "id": "55207445-4607-45ec-93f0-60fb438ce0a0",
   "metadata": {},
   "outputs": [
    {
     "data": {
      "text/plain": [
       "'11'"
      ]
     },
     "execution_count": 9,
     "metadata": {},
     "output_type": "execute_result"
    }
   ],
   "source": [
    "'1' + '1'"
   ]
  },
  {
   "cell_type": "code",
   "execution_count": 10,
   "id": "763db24f-aed1-49b1-8520-7855cd2d8fcf",
   "metadata": {},
   "outputs": [
    {
     "data": {
      "text/plain": [
       "2"
      ]
     },
     "execution_count": 10,
     "metadata": {},
     "output_type": "execute_result"
    }
   ],
   "source": [
    "int('1') + int('1')"
   ]
  },
  {
   "cell_type": "code",
   "execution_count": 11,
   "id": "7e716460-368b-4583-a7d8-ca9bb5b00983",
   "metadata": {},
   "outputs": [
    {
     "data": {
      "text/plain": [
       "'1111111111111111111111111111111111111111111111111111111111111111111111111111111111111111111111111111'"
      ]
     },
     "execution_count": 11,
     "metadata": {},
     "output_type": "execute_result"
    }
   ],
   "source": [
    "'1' * 100"
   ]
  },
  {
   "cell_type": "code",
   "execution_count": 12,
   "id": "c6ac8dd6-dc6a-4133-aa66-ded7a6c49a8b",
   "metadata": {},
   "outputs": [],
   "source": [
    "## exploring more with strings"
   ]
  },
  {
   "cell_type": "code",
   "execution_count": 13,
   "id": "69e58c0d-da81-4b21-b456-76d2f82f62a0",
   "metadata": {},
   "outputs": [
    {
     "name": "stdout",
     "output_type": "stream",
     "text": [
      "24\n"
     ]
    }
   ],
   "source": [
    "age=24\n",
    "print(age)"
   ]
  },
  {
   "cell_type": "code",
   "execution_count": 14,
   "id": "973a84dc-d89c-4213-b257-5050b26d9815",
   "metadata": {},
   "outputs": [
    {
     "name": "stdout",
     "output_type": "stream",
     "text": [
      "my age is 24\n"
     ]
    }
   ],
   "source": [
    "print('my age is',age)"
   ]
  },
  {
   "cell_type": "code",
   "execution_count": 15,
   "id": "11521fc8-803e-495b-ad35-e5439f928d0b",
   "metadata": {},
   "outputs": [
    {
     "name": "stdout",
     "output_type": "stream",
     "text": [
      "my age is 24\n"
     ]
    }
   ],
   "source": [
    "print(f'my age is {age}')"
   ]
  },
  {
   "cell_type": "code",
   "execution_count": 16,
   "id": "e2e633c3-b109-4332-8790-f090ad61bf32",
   "metadata": {},
   "outputs": [
    {
     "name": "stdout",
     "output_type": "stream",
     "text": [
      "my name is souvik and my age is 26\n"
     ]
    }
   ],
   "source": [
    "name = 'souvik'\n",
    "age = 26\n",
    "print('my name is {} and my age is {}'.format(name, age))"
   ]
  },
  {
   "cell_type": "code",
   "execution_count": 17,
   "id": "857e72c5-46bc-404c-a6bb-dae103e8c862",
   "metadata": {},
   "outputs": [
    {
     "name": "stdout",
     "output_type": "stream",
     "text": [
      "my name is souvik and my age is 26\n"
     ]
    }
   ],
   "source": [
    "print('my name is {firstvalue} and my age is {secondvalue}'.format(secondvalue = age, firstvalue = name))"
   ]
  },
  {
   "cell_type": "code",
   "execution_count": 18,
   "id": "69319c15-6fe0-448f-b08a-af6991d4887d",
   "metadata": {},
   "outputs": [],
   "source": [
    "# Print \"Hi I am Saovik. I am 24. I have degree in MSc Economics from the University of Calcutta\""
   ]
  },
  {
   "cell_type": "code",
   "execution_count": 19,
   "id": "e6a7eef8-fded-4e65-bf0a-f7f3bb8be2a2",
   "metadata": {},
   "outputs": [],
   "source": [
    "name = 'souvik'\n",
    "age = 24\n",
    "degree = 'Msc Economics'\n",
    "institute = 'University of Calcutta'"
   ]
  },
  {
   "cell_type": "code",
   "execution_count": 20,
   "id": "4b1ee78f-e22c-4ae7-8617-1c9a2634b13a",
   "metadata": {},
   "outputs": [
    {
     "name": "stdout",
     "output_type": "stream",
     "text": [
      "Hi I am souvik. I am 24. I have degree in Msc Economics from the University of Calcutta\n"
     ]
    }
   ],
   "source": [
    "print('Hi I am {}. I am {}. I have degree in {} from the {}'.format(name, age, degree, institute))"
   ]
  },
  {
   "cell_type": "code",
   "execution_count": null,
   "id": "2357e534-f7ba-475c-b2f4-f59f3bc105a0",
   "metadata": {},
   "outputs": [],
   "source": []
  }
 ],
 "metadata": {
  "kernelspec": {
   "display_name": "Python 3 (ipykernel)",
   "language": "python",
   "name": "python3"
  },
  "language_info": {
   "codemirror_mode": {
    "name": "ipython",
    "version": 3
   },
   "file_extension": ".py",
   "mimetype": "text/x-python",
   "name": "python",
   "nbconvert_exporter": "python",
   "pygments_lexer": "ipython3",
   "version": "3.10.8"
  }
 },
 "nbformat": 4,
 "nbformat_minor": 5
}
