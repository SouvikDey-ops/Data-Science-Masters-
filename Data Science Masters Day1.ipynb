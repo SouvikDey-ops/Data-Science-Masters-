{
 "cells": [
  {
   "cell_type": "code",
   "execution_count": 1,
   "id": "4ac29411-e2b3-418b-beb3-21c7a270ac79",
   "metadata": {},
   "outputs": [],
   "source": [
    "## variabke assignment \n",
    "## Numbers"
   ]
  },
  {
   "cell_type": "code",
   "execution_count": 2,
   "id": "aa9bcd6a-96f0-422e-a138-4a43e32e4d13",
   "metadata": {},
   "outputs": [
    {
     "name": "stdout",
     "output_type": "stream",
     "text": [
      "4\n"
     ]
    }
   ],
   "source": [
    "a = 1+3\n",
    "print(a)"
   ]
  },
  {
   "cell_type": "code",
   "execution_count": 3,
   "id": "25944801-5d5c-40a1-8061-c0ca77831512",
   "metadata": {},
   "outputs": [
    {
     "name": "stdout",
     "output_type": "stream",
     "text": [
      "5\n"
     ]
    }
   ],
   "source": [
    "b = 12-7\n",
    "print(b)"
   ]
  },
  {
   "cell_type": "code",
   "execution_count": 4,
   "id": "7c92d61f-cbf6-47de-b671-f827f92d5911",
   "metadata": {},
   "outputs": [
    {
     "name": "stdout",
     "output_type": "stream",
     "text": [
      "208\n"
     ]
    }
   ],
   "source": [
    "c = 16*13\n",
    "print(c)"
   ]
  },
  {
   "cell_type": "code",
   "execution_count": 5,
   "id": "c7a313f1-bec6-4777-acf5-b966dcc7b128",
   "metadata": {},
   "outputs": [
    {
     "name": "stdout",
     "output_type": "stream",
     "text": [
      "4.0\n"
     ]
    }
   ],
   "source": [
    "d = 20/5\n",
    "print(d)"
   ]
  },
  {
   "cell_type": "code",
   "execution_count": 6,
   "id": "c7b16906-3497-4f87-a032-a4422e7d4199",
   "metadata": {},
   "outputs": [],
   "source": [
    "## Strings"
   ]
  },
  {
   "cell_type": "code",
   "execution_count": 7,
   "id": "41ddaa33-5b71-4c24-8bf7-34de2e72a33c",
   "metadata": {},
   "outputs": [
    {
     "name": "stdout",
     "output_type": "stream",
     "text": [
      "ny name is souvik dey\n"
     ]
    }
   ],
   "source": [
    "a = 'ny name is souvik dey'\n",
    "print(a)"
   ]
  },
  {
   "cell_type": "code",
   "execution_count": 8,
   "id": "11fc720d-7d2e-4990-86aa-c4bebe07bb3f",
   "metadata": {},
   "outputs": [
    {
     "name": "stdout",
     "output_type": "stream",
     "text": [
      "my name is souvik dey \n",
      " i am 24 years old\n"
     ]
    }
   ],
   "source": [
    "## line breaks \n",
    "print('my name is souvik dey \\n i am 24 years old')"
   ]
  },
  {
   "cell_type": "code",
   "execution_count": 9,
   "id": "08175126-2bc3-4018-82eb-79872663a0a1",
   "metadata": {},
   "outputs": [
    {
     "name": "stdout",
     "output_type": "stream",
     "text": [
      "spiderman\n"
     ]
    }
   ],
   "source": [
    "## old values are overridden by new values \n",
    "\n",
    "name = 'spiderman'\n",
    "print (name)"
   ]
  },
  {
   "cell_type": "code",
   "execution_count": 10,
   "id": "0dcdea74-2fe3-42de-b8ee-38a51dd52c31",
   "metadata": {},
   "outputs": [
    {
     "name": "stdout",
     "output_type": "stream",
     "text": [
      "batman\n"
     ]
    }
   ],
   "source": [
    "name = 'batman'\n",
    "print (name)"
   ]
  },
  {
   "cell_type": "code",
   "execution_count": 11,
   "id": "19f07f56-ba66-4fd2-b567-1d444a72b066",
   "metadata": {},
   "outputs": [
    {
     "name": "stdout",
     "output_type": "stream",
     "text": [
      "5\n"
     ]
    }
   ],
   "source": [
    "y = 5\n",
    "print(y)"
   ]
  },
  {
   "cell_type": "code",
   "execution_count": 12,
   "id": "5dbf3cf2-9daa-4b25-9594-c647169712f6",
   "metadata": {},
   "outputs": [
    {
     "name": "stdout",
     "output_type": "stream",
     "text": [
      "10\n"
     ]
    }
   ],
   "source": [
    "y = 10\n",
    "print(y)"
   ]
  },
  {
   "cell_type": "code",
   "execution_count": 13,
   "id": "87d1839d-2f45-45c2-9871-8cb437d1b456",
   "metadata": {},
   "outputs": [
    {
     "name": "stdout",
     "output_type": "stream",
     "text": [
      "souvik\n",
      "rose\n"
     ]
    }
   ],
   "source": [
    "##variables are case sentitive\n",
    "\n",
    "name = 'souvik'\n",
    "Name = 'rose'\n",
    "\n",
    "print(name)\n",
    "print(Name)"
   ]
  },
  {
   "cell_type": "code",
   "execution_count": 14,
   "id": "133be5bf-c549-4585-83b1-257a1385b2d3",
   "metadata": {},
   "outputs": [],
   "source": [
    "## varible types"
   ]
  },
  {
   "cell_type": "code",
   "execution_count": 15,
   "id": "f4562af3-e3a2-48a3-88f9-2bd862c09332",
   "metadata": {},
   "outputs": [
    {
     "data": {
      "text/plain": [
       "int"
      ]
     },
     "execution_count": 15,
     "metadata": {},
     "output_type": "execute_result"
    }
   ],
   "source": [
    "x = 25\n",
    "type(x)"
   ]
  },
  {
   "cell_type": "code",
   "execution_count": 16,
   "id": "b04e25c0-b7b7-4e36-a8c9-6f13d1662da6",
   "metadata": {},
   "outputs": [
    {
     "data": {
      "text/plain": [
       "str"
      ]
     },
     "execution_count": 16,
     "metadata": {},
     "output_type": "execute_result"
    }
   ],
   "source": [
    "y = 'marry'\n",
    "type(y)"
   ]
  },
  {
   "cell_type": "code",
   "execution_count": 17,
   "id": "189b17a1-1713-43c2-9bfc-25acf96000f5",
   "metadata": {},
   "outputs": [
    {
     "data": {
      "text/plain": [
       "float"
      ]
     },
     "execution_count": 17,
     "metadata": {},
     "output_type": "execute_result"
    }
   ],
   "source": [
    "z = 2.5\n",
    "type(z)"
   ]
  },
  {
   "cell_type": "code",
   "execution_count": 18,
   "id": "9b5d86da-bc52-4d5b-b575-9989add1e3b6",
   "metadata": {},
   "outputs": [
    {
     "data": {
      "text/plain": [
       "complex"
      ]
     },
     "execution_count": 18,
     "metadata": {},
     "output_type": "execute_result"
    }
   ],
   "source": [
    "q = 1+2j\n",
    "type(q)"
   ]
  },
  {
   "cell_type": "code",
   "execution_count": 1,
   "id": "2d5fb3cb-e40b-4106-bb8e-5dc2fd5cf1df",
   "metadata": {},
   "outputs": [],
   "source": [
    "a=False"
   ]
  },
  {
   "cell_type": "code",
   "execution_count": 2,
   "id": "203d46c4-1ddd-4fe8-a241-6e8db99343a5",
   "metadata": {},
   "outputs": [
    {
     "name": "stdout",
     "output_type": "stream",
     "text": [
      "False\n"
     ]
    }
   ],
   "source": [
    "print(a)"
   ]
  },
  {
   "cell_type": "code",
   "execution_count": 3,
   "id": "b3f972bf-c4e8-46f3-a9d9-d36d0720f743",
   "metadata": {},
   "outputs": [
    {
     "data": {
      "text/plain": [
       "bool"
      ]
     },
     "execution_count": 3,
     "metadata": {},
     "output_type": "execute_result"
    }
   ],
   "source": [
    "type(a)"
   ]
  },
  {
   "cell_type": "code",
   "execution_count": 8,
   "id": "3aeaa0cc-6e58-4322-94ae-f59bf7da0a84",
   "metadata": {},
   "outputs": [],
   "source": [
    "b=True"
   ]
  },
  {
   "cell_type": "code",
   "execution_count": 9,
   "id": "49c20941-1892-4a87-aea0-58da4ad5e27b",
   "metadata": {},
   "outputs": [
    {
     "name": "stdout",
     "output_type": "stream",
     "text": [
      "True\n"
     ]
    }
   ],
   "source": [
    "print(b)"
   ]
  },
  {
   "cell_type": "code",
   "execution_count": 10,
   "id": "c9d522e7-e4e6-4903-8f8b-73f168ff8abf",
   "metadata": {},
   "outputs": [
    {
     "data": {
      "text/plain": [
       "bool"
      ]
     },
     "execution_count": 10,
     "metadata": {},
     "output_type": "execute_result"
    }
   ],
   "source": [
    "type(b)"
   ]
  },
  {
   "cell_type": "code",
   "execution_count": 11,
   "id": "45ef500a-cb5a-4aed-9dc4-e20c931d13ee",
   "metadata": {},
   "outputs": [],
   "source": [
    "y=[1,2,'apple','banana',4.3]"
   ]
  },
  {
   "cell_type": "code",
   "execution_count": 12,
   "id": "6d72fd4e-6162-4804-8c0c-13c40b6bfded",
   "metadata": {},
   "outputs": [
    {
     "name": "stdout",
     "output_type": "stream",
     "text": [
      "[1, 2, 'apple', 'banana', 4.3]\n"
     ]
    }
   ],
   "source": [
    "print(y)"
   ]
  },
  {
   "cell_type": "code",
   "execution_count": 13,
   "id": "ff9d16b2-4084-4aed-be39-43758c1a2ad0",
   "metadata": {},
   "outputs": [
    {
     "data": {
      "text/plain": [
       "list"
      ]
     },
     "execution_count": 13,
     "metadata": {},
     "output_type": "execute_result"
    }
   ],
   "source": [
    "type(y)"
   ]
  }
 ],
 "metadata": {
  "kernelspec": {
   "display_name": "Python 3 (ipykernel)",
   "language": "python",
   "name": "python3"
  },
  "language_info": {
   "codemirror_mode": {
    "name": "ipython",
    "version": 3
   },
   "file_extension": ".py",
   "mimetype": "text/x-python",
   "name": "python",
   "nbconvert_exporter": "python",
   "pygments_lexer": "ipython3",
   "version": "3.10.8"
  }
 },
 "nbformat": 4,
 "nbformat_minor": 5
}
