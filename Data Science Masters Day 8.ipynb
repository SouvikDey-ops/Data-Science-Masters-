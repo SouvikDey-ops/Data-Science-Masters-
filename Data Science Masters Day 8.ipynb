{
 "cells": [
  {
   "cell_type": "markdown",
   "id": "654a0106-acbe-48d1-b7b1-beacc0878acf",
   "metadata": {},
   "source": [
    "More about Strings "
   ]
  },
  {
   "cell_type": "code",
   "execution_count": 14,
   "id": "4b595c8a-f0cd-4007-9ffd-b1a8e86386a7",
   "metadata": {},
   "outputs": [],
   "source": [
    "## Strings are immutable: We can not change any element present in the string"
   ]
  },
  {
   "cell_type": "code",
   "execution_count": 15,
   "id": "d123a440-e4ee-4e13-8723-37365fd82c1d",
   "metadata": {},
   "outputs": [],
   "source": [
    "a='DataScience'"
   ]
  },
  {
   "cell_type": "code",
   "execution_count": 16,
   "id": "23ba041d-8036-4fda-9a10-f32a929f2781",
   "metadata": {},
   "outputs": [
    {
     "name": "stdout",
     "output_type": "stream",
     "text": [
      "DataScience\n"
     ]
    }
   ],
   "source": [
    "print(a)"
   ]
  },
  {
   "cell_type": "code",
   "execution_count": 17,
   "id": "40e6d91c-ef50-4088-b0e4-2df0b36df812",
   "metadata": {},
   "outputs": [
    {
     "ename": "TypeError",
     "evalue": "'str' object does not support item assignment",
     "output_type": "error",
     "traceback": [
      "\u001b[0;31m---------------------------------------------------------------------------\u001b[0m",
      "\u001b[0;31mTypeError\u001b[0m                                 Traceback (most recent call last)",
      "Cell \u001b[0;32mIn[17], line 1\u001b[0m\n\u001b[0;32m----> 1\u001b[0m \u001b[43ma\u001b[49m\u001b[43m[\u001b[49m\u001b[38;5;241;43m4\u001b[39;49m\u001b[43m]\u001b[49m\u001b[38;5;241m=\u001b[39m\u001b[38;5;124m'\u001b[39m\u001b[38;5;124mb\u001b[39m\u001b[38;5;124m'\u001b[39m\n",
      "\u001b[0;31mTypeError\u001b[0m: 'str' object does not support item assignment"
     ]
    }
   ],
   "source": [
    "a[4]='b'; cannot be executed"
   ]
  },
  {
   "cell_type": "code",
   "execution_count": 18,
   "id": "c1cc805a-e3a6-411d-bd8a-b6280cd92ef7",
   "metadata": {},
   "outputs": [],
   "source": [
    "# A string can be totally replaced with another string "
   ]
  },
  {
   "cell_type": "code",
   "execution_count": 21,
   "id": "47fdb640-0ca3-4542-b5d7-577ea060b84a",
   "metadata": {},
   "outputs": [],
   "source": [
    "b='Hello World'"
   ]
  },
  {
   "cell_type": "code",
   "execution_count": 22,
   "id": "8da465f6-9925-4e34-ba76-b44a54f6a0c1",
   "metadata": {},
   "outputs": [
    {
     "data": {
      "text/plain": [
       "'Hello World'"
      ]
     },
     "execution_count": 22,
     "metadata": {},
     "output_type": "execute_result"
    }
   ],
   "source": [
    "b"
   ]
  },
  {
   "cell_type": "code",
   "execution_count": 24,
   "id": "2d6beffe-8bfb-48a0-8c1e-91c1473c94b6",
   "metadata": {},
   "outputs": [],
   "source": [
    "b='Such a bright sunny day'"
   ]
  },
  {
   "cell_type": "code",
   "execution_count": 25,
   "id": "e1a9d717-24a0-475a-8b50-bfdc5c6c927b",
   "metadata": {},
   "outputs": [
    {
     "data": {
      "text/plain": [
       "'Such a bright sunny day'"
      ]
     },
     "execution_count": 25,
     "metadata": {},
     "output_type": "execute_result"
    }
   ],
   "source": [
    "b"
   ]
  },
  {
   "cell_type": "code",
   "execution_count": 26,
   "id": "cd83369c-33dc-4af3-86af-f0ff9e84f3c3",
   "metadata": {},
   "outputs": [],
   "source": [
    "c='I am from Calcutta'"
   ]
  },
  {
   "cell_type": "code",
   "execution_count": 27,
   "id": "dc0d65e1-39d0-4f8b-825d-777fb23d2402",
   "metadata": {},
   "outputs": [
    {
     "data": {
      "text/plain": [
       "'I am from Calcutta'"
      ]
     },
     "execution_count": 27,
     "metadata": {},
     "output_type": "execute_result"
    }
   ],
   "source": [
    "c"
   ]
  },
  {
   "cell_type": "code",
   "execution_count": 35,
   "id": "8319f8e5-9eff-4db8-a3ca-a14092a0b168",
   "metadata": {},
   "outputs": [
    {
     "data": {
      "text/plain": [
       "'r'"
      ]
     },
     "execution_count": 35,
     "metadata": {},
     "output_type": "execute_result"
    }
   ],
   "source": [
    "c[6] \n",
    "#shows the element whith index 6"
   ]
  },
  {
   "cell_type": "code",
   "execution_count": 48,
   "id": "3ebe391c-f798-44c7-aeb8-44e1dc40c940",
   "metadata": {},
   "outputs": [
    {
     "data": {
      "text/plain": [
       "'a'"
      ]
     },
     "execution_count": 48,
     "metadata": {},
     "output_type": "execute_result"
    }
   ],
   "source": [
    "c[-1]\n",
    "#shows the last element"
   ]
  },
  {
   "cell_type": "code",
   "execution_count": 49,
   "id": "1bc87301-d8dc-40cc-ad29-0bcacbd41a6f",
   "metadata": {},
   "outputs": [
    {
     "data": {
      "text/plain": [
       "'t'"
      ]
     },
     "execution_count": 49,
     "metadata": {},
     "output_type": "execute_result"
    }
   ],
   "source": [
    "c[-2]\n",
    "#shows the second last element"
   ]
  },
  {
   "cell_type": "code",
   "execution_count": 50,
   "id": "b133bdf3-955d-4f0a-986e-6b6e85deb7ef",
   "metadata": {},
   "outputs": [
    {
     "data": {
      "text/plain": [
       "'am fr'"
      ]
     },
     "execution_count": 50,
     "metadata": {},
     "output_type": "execute_result"
    }
   ],
   "source": [
    "c[2:7]\n",
    "#shows all elements from index 2 to index 6"
   ]
  },
  {
   "cell_type": "code",
   "execution_count": 39,
   "id": "022e8a8c-7228-4b4c-bf55-92bb20c9d9b7",
   "metadata": {},
   "outputs": [
    {
     "data": {
      "text/plain": [
       "'m from Calcutta'"
      ]
     },
     "execution_count": 39,
     "metadata": {},
     "output_type": "execute_result"
    }
   ],
   "source": [
    "c[3:]\n",
    "#shows all alements from index 3"
   ]
  },
  {
   "cell_type": "code",
   "execution_count": 45,
   "id": "89bb5d1b-f588-45d0-a5b9-0b89f441de28",
   "metadata": {},
   "outputs": [
    {
     "data": {
      "text/plain": [
       "'I am f'"
      ]
     },
     "execution_count": 45,
     "metadata": {},
     "output_type": "execute_result"
    }
   ],
   "source": [
    "c[:6]\n",
    "#shows all elements till index 5"
   ]
  },
  {
   "cell_type": "code",
   "execution_count": 46,
   "id": "0cc73108-e271-4b54-bb1f-fe7b6b9b329e",
   "metadata": {},
   "outputs": [
    {
     "data": {
      "text/plain": [
       "'I am from Calcutta'"
      ]
     },
     "execution_count": 46,
     "metadata": {},
     "output_type": "execute_result"
    }
   ],
   "source": [
    "c[:]\n",
    "#shows all elements"
   ]
  },
  {
   "cell_type": "code",
   "execution_count": 52,
   "id": "b9391ce9-c445-452c-9806-ec9810bbc0b2",
   "metadata": {},
   "outputs": [
    {
     "data": {
      "text/plain": [
       "'tta'"
      ]
     },
     "execution_count": 52,
     "metadata": {},
     "output_type": "execute_result"
    }
   ],
   "source": [
    "c[-3:]\n",
    "#shows all elements from the third last element"
   ]
  },
  {
   "cell_type": "code",
   "execution_count": 56,
   "id": "665eadeb-c2e8-44db-b1b5-4105a25d00c8",
   "metadata": {},
   "outputs": [
    {
     "data": {
      "text/plain": [
       "'I am from Calcut'"
      ]
     },
     "execution_count": 56,
     "metadata": {},
     "output_type": "execute_result"
    }
   ],
   "source": [
    "c[:-2]\n",
    "#shows all elements till the second last element"
   ]
  },
  {
   "cell_type": "code",
   "execution_count": 58,
   "id": "9d806550-4355-41c4-a3c0-ff1e4e11b6db",
   "metadata": {},
   "outputs": [
    {
     "data": {
      "text/plain": [
       "'attuclaC morf ma I'"
      ]
     },
     "execution_count": 58,
     "metadata": {},
     "output_type": "execute_result"
    }
   ],
   "source": [
    "c[::-1]\n",
    "#shows the entire string in the reverse order"
   ]
  },
  {
   "cell_type": "code",
   "execution_count": 61,
   "id": "7ac4b79a-af43-47dc-8d67-e9738bbbf7d6",
   "metadata": {},
   "outputs": [
    {
     "data": {
      "text/plain": [
       "'atca ofm '"
      ]
     },
     "execution_count": 61,
     "metadata": {},
     "output_type": "execute_result"
    }
   ],
   "source": [
    "c[::-2]\n",
    "#shows the entire string in the reverse order with step size 2"
   ]
  },
  {
   "cell_type": "code",
   "execution_count": 69,
   "id": "641a0083-bd0d-4247-836a-1a74af2f59a7",
   "metadata": {},
   "outputs": [
    {
     "data": {
      "text/plain": [
       "'C morf m'"
      ]
     },
     "execution_count": 69,
     "metadata": {},
     "output_type": "execute_result"
    }
   ],
   "source": [
    "c[10:2:-1]\n",
    "#shows elements from the 10th index to the 3rd index in the reverse order"
   ]
  },
  {
   "cell_type": "code",
   "execution_count": 71,
   "id": "d71e8ea1-949d-4b37-b7d0-b823e92bef6f",
   "metadata": {},
   "outputs": [
    {
     "data": {
      "text/plain": [
       "'a ofm'"
      ]
     },
     "execution_count": 71,
     "metadata": {},
     "output_type": "execute_result"
    }
   ],
   "source": [
    "c[11:2:-2]\n",
    "#shows elements from the 11th index to the 3rd index in the reverse order with step size 2"
   ]
  },
  {
   "cell_type": "code",
   "execution_count": 72,
   "id": "2ecf90c9-656b-4261-9a1c-8151b927fe0e",
   "metadata": {},
   "outputs": [],
   "source": [
    "## Exercise\n",
    "# Display on the word 'Science' from the string Data Science Masters"
   ]
  },
  {
   "cell_type": "code",
   "execution_count": 73,
   "id": "7c6551a4-f6db-4d66-a897-075ffbaafd5b",
   "metadata": {},
   "outputs": [],
   "source": [
    "d='Data Science Masters'"
   ]
  },
  {
   "cell_type": "code",
   "execution_count": 74,
   "id": "e81dbd27-f029-4846-af97-1ab78971fdb9",
   "metadata": {},
   "outputs": [
    {
     "data": {
      "text/plain": [
       "'Data Science Masters'"
      ]
     },
     "execution_count": 74,
     "metadata": {},
     "output_type": "execute_result"
    }
   ],
   "source": [
    "d"
   ]
  },
  {
   "cell_type": "code",
   "execution_count": 75,
   "id": "b3acbb45-af0c-4e52-9c9d-a7280d96697d",
   "metadata": {},
   "outputs": [
    {
     "data": {
      "text/plain": [
       "'Science'"
      ]
     },
     "execution_count": 75,
     "metadata": {},
     "output_type": "execute_result"
    }
   ],
   "source": [
    "d[5:12]"
   ]
  },
  {
   "cell_type": "code",
   "execution_count": 76,
   "id": "85926070-5719-4ba2-9bab-9f3cf1ac2d23",
   "metadata": {},
   "outputs": [],
   "source": [
    "# Display on the word 'Science' from the string Data Science Masters in the reverse order"
   ]
  },
  {
   "cell_type": "code",
   "execution_count": 78,
   "id": "d3393788-7d4d-4146-b14f-b659d0ea4254",
   "metadata": {},
   "outputs": [
    {
     "data": {
      "text/plain": [
       "'ecneicS'"
      ]
     },
     "execution_count": 78,
     "metadata": {},
     "output_type": "execute_result"
    }
   ],
   "source": [
    "d[11:4:-1]"
   ]
  },
  {
   "cell_type": "code",
   "execution_count": 79,
   "id": "c4bc01a0-645b-4eb4-bec2-46462b95baab",
   "metadata": {},
   "outputs": [],
   "source": [
    "## Joining strings"
   ]
  },
  {
   "cell_type": "code",
   "execution_count": 80,
   "id": "ae2bf910-f911-4ad8-857a-d37b15e07878",
   "metadata": {},
   "outputs": [
    {
     "data": {
      "text/plain": [
       "'HelloWorld'"
      ]
     },
     "execution_count": 80,
     "metadata": {},
     "output_type": "execute_result"
    }
   ],
   "source": [
    "'Hello'+'World'"
   ]
  },
  {
   "cell_type": "code",
   "execution_count": 81,
   "id": "6816d89b-fea6-4bef-b977-063d1835c8f4",
   "metadata": {},
   "outputs": [],
   "source": [
    "a='Good'\n",
    "b='Morning'"
   ]
  },
  {
   "cell_type": "code",
   "execution_count": 82,
   "id": "05155edc-0107-4d71-85f5-c0efdce256ae",
   "metadata": {},
   "outputs": [
    {
     "data": {
      "text/plain": [
       "'GoodMorning'"
      ]
     },
     "execution_count": 82,
     "metadata": {},
     "output_type": "execute_result"
    }
   ],
   "source": [
    "a+b"
   ]
  },
  {
   "cell_type": "code",
   "execution_count": 84,
   "id": "d2533812-bbff-4a4a-9ee4-5a4986467f7e",
   "metadata": {},
   "outputs": [],
   "source": [
    "c='birthday'"
   ]
  },
  {
   "cell_type": "code",
   "execution_count": 85,
   "id": "8bd1b61b-43e2-49c0-bdbd-2555d34a2350",
   "metadata": {},
   "outputs": [
    {
     "data": {
      "text/plain": [
       "'birthday'"
      ]
     },
     "execution_count": 85,
     "metadata": {},
     "output_type": "execute_result"
    }
   ],
   "source": [
    "c"
   ]
  },
  {
   "cell_type": "code",
   "execution_count": 86,
   "id": "24d610a0-4c9b-42ad-8d1d-ddc6029f49e6",
   "metadata": {},
   "outputs": [
    {
     "data": {
      "text/plain": [
       "'birthdaybirthdaybirthdaybirthdaybirthday'"
      ]
     },
     "execution_count": 86,
     "metadata": {},
     "output_type": "execute_result"
    }
   ],
   "source": [
    "c*5"
   ]
  },
  {
   "cell_type": "code",
   "execution_count": 87,
   "id": "80a0578d-034b-44ae-9178-ed0703234415",
   "metadata": {},
   "outputs": [],
   "source": [
    "# To get the length of a string"
   ]
  },
  {
   "cell_type": "code",
   "execution_count": 88,
   "id": "985cfe16-8bb3-4fd0-87e9-d87f699abb59",
   "metadata": {},
   "outputs": [],
   "source": [
    "z='We All Love Our Nation'"
   ]
  },
  {
   "cell_type": "code",
   "execution_count": 89,
   "id": "6f180c66-f600-4087-bc57-aba0897e3332",
   "metadata": {},
   "outputs": [
    {
     "data": {
      "text/plain": [
       "'We All Love Our Nation'"
      ]
     },
     "execution_count": 89,
     "metadata": {},
     "output_type": "execute_result"
    }
   ],
   "source": [
    "z"
   ]
  },
  {
   "cell_type": "code",
   "execution_count": 93,
   "id": "cda7fdf9-4972-43c7-b249-92fed3bbf30c",
   "metadata": {},
   "outputs": [
    {
     "data": {
      "text/plain": [
       "22"
      ]
     },
     "execution_count": 93,
     "metadata": {},
     "output_type": "execute_result"
    }
   ],
   "source": [
    "len(z)\n",
    "# gives the length of the string(including the spaces) that is the total number of characters with the spaces"
   ]
  },
  {
   "cell_type": "code",
   "execution_count": 100,
   "id": "0db10cdd-c134-413e-8162-a20fcaf45039",
   "metadata": {},
   "outputs": [
    {
     "data": {
      "text/plain": [
       "1"
      ]
     },
     "execution_count": 100,
     "metadata": {},
     "output_type": "execute_result"
    }
   ],
   "source": [
    "z.find('e')\n",
    "# shows the index of the letter 'e' in the string and it displays the index of the first 'e' appearing in the string"
   ]
  },
  {
   "cell_type": "code",
   "execution_count": 98,
   "id": "004de240-b2db-476e-8b23-6b2e9b21275d",
   "metadata": {},
   "outputs": [
    {
     "data": {
      "text/plain": [
       "8"
      ]
     },
     "execution_count": 98,
     "metadata": {},
     "output_type": "execute_result"
    }
   ],
   "source": [
    "z.find('o')"
   ]
  },
  {
   "cell_type": "code",
   "execution_count": 106,
   "id": "3d422ebf-c920-4c71-a806-092313e1937d",
   "metadata": {},
   "outputs": [
    {
     "data": {
      "text/plain": [
       "10"
      ]
     },
     "execution_count": 106,
     "metadata": {},
     "output_type": "execute_result"
    }
   ],
   "source": [
    "z.find('e',4,12)\n",
    "# shows the index of the forst 'e' appearing from index 4 to index 11"
   ]
  },
  {
   "cell_type": "code",
   "execution_count": 109,
   "id": "f165dc78-f8a5-4ce8-acd2-7341d2e19842",
   "metadata": {},
   "outputs": [
    {
     "data": {
      "text/plain": [
       "2"
      ]
     },
     "execution_count": 109,
     "metadata": {},
     "output_type": "execute_result"
    }
   ],
   "source": [
    "z.count('o')\n",
    "# shows the number of times the letter 'o' appears in the string"
   ]
  },
  {
   "cell_type": "code",
   "execution_count": 110,
   "id": "10e3ebc3-fe32-4981-b123-26e6d39340e5",
   "metadata": {},
   "outputs": [
    {
     "data": {
      "text/plain": [
       "2"
      ]
     },
     "execution_count": 110,
     "metadata": {},
     "output_type": "execute_result"
    }
   ],
   "source": [
    "z.count('e')"
   ]
  },
  {
   "cell_type": "code",
   "execution_count": 113,
   "id": "bf1eaa78-c3ff-41f7-b28a-9127ad2c0612",
   "metadata": {},
   "outputs": [
    {
     "data": {
      "text/plain": [
       "1"
      ]
     },
     "execution_count": 113,
     "metadata": {},
     "output_type": "execute_result"
    }
   ],
   "source": [
    "z.count('e',4,12)\n",
    "# shows the number of times the letter 'e' appears in the string from index 4 to index 11"
   ]
  },
  {
   "cell_type": "code",
   "execution_count": 3,
   "id": "e4652c53-ebe1-4aee-8c34-8564ae301fd3",
   "metadata": {},
   "outputs": [],
   "source": [
    "z = 'we all love our nation'"
   ]
  },
  {
   "cell_type": "code",
   "execution_count": 4,
   "id": "1d57cb79-2792-42bf-a87b-5dd75c6274ee",
   "metadata": {},
   "outputs": [
    {
     "data": {
      "text/plain": [
       "'we all love our nation'"
      ]
     },
     "execution_count": 4,
     "metadata": {},
     "output_type": "execute_result"
    }
   ],
   "source": [
    "z"
   ]
  },
  {
   "cell_type": "code",
   "execution_count": 7,
   "id": "7e6d6762-c3cc-4b64-a690-ddbac5cccfef",
   "metadata": {},
   "outputs": [
    {
     "data": {
      "text/plain": [
       "['we', 'all', 'love', 'our', 'nation']"
      ]
     },
     "execution_count": 7,
     "metadata": {},
     "output_type": "execute_result"
    }
   ],
   "source": [
    "z.split()\n",
    "# splits or separates each word as a separate string"
   ]
  },
  {
   "cell_type": "code",
   "execution_count": 9,
   "id": "3080352a-34c0-4144-bb39-c7879a952348",
   "metadata": {},
   "outputs": [
    {
     "data": {
      "text/plain": [
       "['we ', 'll love our n', 'tion']"
      ]
     },
     "execution_count": 9,
     "metadata": {},
     "output_type": "execute_result"
    }
   ],
   "source": [
    "z.split('a')\n",
    "# splits with respect to all 'a's in the string but woukd not display the letter 'a'"
   ]
  },
  {
   "cell_type": "code",
   "execution_count": 12,
   "id": "f62bcad9-b257-4788-9e00-9030d00c1ed6",
   "metadata": {},
   "outputs": [
    {
     "data": {
      "text/plain": [
       "('we ', 'a', 'll love our nation')"
      ]
     },
     "execution_count": 12,
     "metadata": {},
     "output_type": "execute_result"
    }
   ],
   "source": [
    "z.partition('a')\n",
    "# splits with respect to the first 'a' in the string but woukd also display the letter 'a' as a sub string"
   ]
  },
  {
   "cell_type": "code",
   "execution_count": 14,
   "id": "c2c813b0-3315-4053-9b7c-8bc34ba50946",
   "metadata": {},
   "outputs": [
    {
     "data": {
      "text/plain": [
       "'WE ALL LOVE OUR NATION'"
      ]
     },
     "execution_count": 14,
     "metadata": {},
     "output_type": "execute_result"
    }
   ],
   "source": [
    "z.upper()\n",
    "# converts each element in the string to upper case"
   ]
  },
  {
   "cell_type": "code",
   "execution_count": 15,
   "id": "c28f100d-3838-46f2-b7f2-b40bc242863c",
   "metadata": {},
   "outputs": [
    {
     "data": {
      "text/plain": [
       "'we all love our nation'"
      ]
     },
     "execution_count": 15,
     "metadata": {},
     "output_type": "execute_result"
    }
   ],
   "source": [
    "z.lower()\n",
    "# converts each element in the string to lower case"
   ]
  },
  {
   "cell_type": "code",
   "execution_count": 17,
   "id": "cf09e757-6686-46ee-b109-e5ee75b40d12",
   "metadata": {},
   "outputs": [],
   "source": [
    "z='We All Love Our Nation'"
   ]
  },
  {
   "cell_type": "code",
   "execution_count": 18,
   "id": "d4b6e4a7-20c5-4a8d-a151-b12f383f1ae6",
   "metadata": {},
   "outputs": [
    {
     "data": {
      "text/plain": [
       "'We All Love Our Nation'"
      ]
     },
     "execution_count": 18,
     "metadata": {},
     "output_type": "execute_result"
    }
   ],
   "source": [
    "z"
   ]
  },
  {
   "cell_type": "code",
   "execution_count": 22,
   "id": "450e90c1-0f37-4e73-8727-728af2c00b87",
   "metadata": {},
   "outputs": [
    {
     "data": {
      "text/plain": [
       "'wE aLL lOVE oUR nATION'"
      ]
     },
     "execution_count": 22,
     "metadata": {},
     "output_type": "execute_result"
    }
   ],
   "source": [
    "z.swapcase()\n",
    "# Converts all the uppercase characters in the string to lowercase and lowercase characters to uppercase"
   ]
  },
  {
   "cell_type": "code",
   "execution_count": 23,
   "id": "5816705a-9aa7-4f5a-9800-7450fab07744",
   "metadata": {},
   "outputs": [],
   "source": [
    "z='we all love out nation'"
   ]
  },
  {
   "cell_type": "code",
   "execution_count": 25,
   "id": "d52b173f-fd28-41d2-972c-a16581cb578a",
   "metadata": {},
   "outputs": [
    {
     "data": {
      "text/plain": [
       "'we all love out nation'"
      ]
     },
     "execution_count": 25,
     "metadata": {},
     "output_type": "execute_result"
    }
   ],
   "source": [
    "z"
   ]
  },
  {
   "cell_type": "code",
   "execution_count": 27,
   "id": "2c3128e9-ea6a-4230-9b85-e3e36b3475ee",
   "metadata": {},
   "outputs": [
    {
     "data": {
      "text/plain": [
       "'We All Love Out Nation'"
      ]
     },
     "execution_count": 27,
     "metadata": {},
     "output_type": "execute_result"
    }
   ],
   "source": [
    "z.title()\n",
    "# converts only the first letter of each word of the string to uppercase"
   ]
  }
 ],
 "metadata": {
  "kernelspec": {
   "display_name": "Python 3 (ipykernel)",
   "language": "python",
   "name": "python3"
  },
  "language_info": {
   "codemirror_mode": {
    "name": "ipython",
    "version": 3
   },
   "file_extension": ".py",
   "mimetype": "text/x-python",
   "name": "python",
   "nbconvert_exporter": "python",
   "pygments_lexer": "ipython3",
   "version": "3.10.8"
  }
 },
 "nbformat": 4,
 "nbformat_minor": 5
}
