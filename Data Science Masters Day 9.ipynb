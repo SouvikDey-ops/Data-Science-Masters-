{
 "cells": [
  {
   "cell_type": "markdown",
   "id": "e493a81f-9fbf-4844-a8c5-8b115285eeb2",
   "metadata": {},
   "source": [
    "## More about strings"
   ]
  },
  {
   "cell_type": "code",
   "execution_count": 1,
   "id": "a731bd5e-4b63-42f7-8d4d-63bde8d854e3",
   "metadata": {},
   "outputs": [],
   "source": [
    "name='DataScienceMasters'"
   ]
  },
  {
   "cell_type": "code",
   "execution_count": 2,
   "id": "de49619e-9560-4748-894f-abeeb2772167",
   "metadata": {},
   "outputs": [
    {
     "data": {
      "text/plain": [
       "'DataScienceMasters'"
      ]
     },
     "execution_count": 2,
     "metadata": {},
     "output_type": "execute_result"
    }
   ],
   "source": [
    "name"
   ]
  },
  {
   "cell_type": "code",
   "execution_count": null,
   "id": "0dcaf960-92b8-4815-ad12-b78e5e467e01",
   "metadata": {},
   "outputs": [],
   "source": [
    "## Reversing a string"
   ]
  },
  {
   "cell_type": "code",
   "execution_count": 3,
   "id": "4b1131d3-b886-42df-a254-a792f83ee381",
   "metadata": {},
   "outputs": [
    {
     "data": {
      "text/plain": [
       "<reversed at 0x7f22ac55e620>"
      ]
     },
     "execution_count": 3,
     "metadata": {},
     "output_type": "execute_result"
    }
   ],
   "source": [
    "reversed(name)"
   ]
  },
  {
   "cell_type": "code",
   "execution_count": 4,
   "id": "1b9acba1-68e5-4f8b-8cf9-67e94925a07e",
   "metadata": {},
   "outputs": [
    {
     "data": {
      "text/plain": [
       "['s',\n",
       " 'r',\n",
       " 'e',\n",
       " 't',\n",
       " 's',\n",
       " 'a',\n",
       " 'M',\n",
       " 'e',\n",
       " 'c',\n",
       " 'n',\n",
       " 'e',\n",
       " 'i',\n",
       " 'c',\n",
       " 'S',\n",
       " 'a',\n",
       " 't',\n",
       " 'a',\n",
       " 'D']"
      ]
     },
     "execution_count": 4,
     "metadata": {},
     "output_type": "execute_result"
    }
   ],
   "source": [
    "list(reversed(name))"
   ]
  },
  {
   "cell_type": "code",
   "execution_count": 15,
   "id": "0c62592e-cfed-4e6e-9941-4397eb476406",
   "metadata": {},
   "outputs": [
    {
     "name": "stdout",
     "output_type": "stream",
     "text": [
      "sretsaMecneicSataD"
     ]
    }
   ],
   "source": [
    "for i in reversed(name):\n",
    "    print(i,end='')"
   ]
  },
  {
   "cell_type": "code",
   "execution_count": 5,
   "id": "7fe0cb37-cd85-44e2-8f8c-c4faedced9ca",
   "metadata": {},
   "outputs": [],
   "source": [
    "# Join function"
   ]
  },
  {
   "cell_type": "code",
   "execution_count": 6,
   "id": "531ec3be-12ad-4f6c-82c0-8890cf0a2187",
   "metadata": {},
   "outputs": [
    {
     "data": {
      "text/plain": [
       "'D a t a S c i e n c e M a s t e r s'"
      ]
     },
     "execution_count": 6,
     "metadata": {},
     "output_type": "execute_result"
    }
   ],
   "source": [
    "' '.join(name)\n",
    "# The space is joined with the string 'name'"
   ]
  },
  {
   "cell_type": "code",
   "execution_count": 7,
   "id": "3764df26-3a4e-4e40-bb15-1071246201f0",
   "metadata": {},
   "outputs": [
    {
     "data": {
      "text/plain": [
       "'s r e t s a M e c n e i c S a t a D'"
      ]
     },
     "execution_count": 7,
     "metadata": {},
     "output_type": "execute_result"
    }
   ],
   "source": [
    "' '.join(reversed(name))"
   ]
  },
  {
   "cell_type": "code",
   "execution_count": 11,
   "id": "9172553c-546e-4e4b-842c-f383d8e3b866",
   "metadata": {},
   "outputs": [],
   "source": [
    "animal='ant'\n",
    "bird='crow'"
   ]
  },
  {
   "cell_type": "code",
   "execution_count": 12,
   "id": "1aa0df89-915d-405e-af0e-6d689bda60c1",
   "metadata": {},
   "outputs": [
    {
     "data": {
      "text/plain": [
       "'cantrantoantw'"
      ]
     },
     "execution_count": 12,
     "metadata": {},
     "output_type": "execute_result"
    }
   ],
   "source": [
    "animal.join(bird)"
   ]
  },
  {
   "cell_type": "code",
   "execution_count": 13,
   "id": "baddbae1-302c-49c0-847c-c511c56c44ac",
   "metadata": {},
   "outputs": [],
   "source": [
    "animal=' ant '\n",
    "bird='crow'"
   ]
  },
  {
   "cell_type": "code",
   "execution_count": 14,
   "id": "f3b21de4-4a86-4537-b5a1-375c824e462e",
   "metadata": {},
   "outputs": [
    {
     "data": {
      "text/plain": [
       "'c ant r ant o ant w'"
      ]
     },
     "execution_count": 14,
     "metadata": {},
     "output_type": "execute_result"
    }
   ],
   "source": [
    "animal.join(bird)"
   ]
  },
  {
   "cell_type": "code",
   "execution_count": 23,
   "id": "d8ed0a6d-4872-4ff7-b80f-fb9d25475e56",
   "metadata": {},
   "outputs": [],
   "source": [
    "# removing spaces from the string"
   ]
  },
  {
   "cell_type": "code",
   "execution_count": 24,
   "id": "742f5ce5-b16f-43b7-bb06-71a98a8ef9cc",
   "metadata": {},
   "outputs": [],
   "source": [
    "name = ' souvik '"
   ]
  },
  {
   "cell_type": "code",
   "execution_count": 25,
   "id": "3fe33ea2-e3d8-4ffe-a736-81fe166e4fc5",
   "metadata": {},
   "outputs": [
    {
     "data": {
      "text/plain": [
       "'souvik'"
      ]
     },
     "execution_count": 25,
     "metadata": {},
     "output_type": "execute_result"
    }
   ],
   "source": [
    "name.strip(' ')"
   ]
  },
  {
   "cell_type": "code",
   "execution_count": 26,
   "id": "1794abdd-fb29-4ce9-8519-9cbbcdc087ce",
   "metadata": {},
   "outputs": [
    {
     "data": {
      "text/plain": [
       "'souvik '"
      ]
     },
     "execution_count": 26,
     "metadata": {},
     "output_type": "execute_result"
    }
   ],
   "source": [
    "name.lstrip(' ')"
   ]
  },
  {
   "cell_type": "code",
   "execution_count": 27,
   "id": "fed14962-0081-4fb2-a1b2-fac558b4e2e3",
   "metadata": {},
   "outputs": [
    {
     "data": {
      "text/plain": [
       "' souvik'"
      ]
     },
     "execution_count": 27,
     "metadata": {},
     "output_type": "execute_result"
    }
   ],
   "source": [
    "name.rstrip(' ')"
   ]
  },
  {
   "cell_type": "code",
   "execution_count": 28,
   "id": "65db29aa-fa8a-4405-995d-3a08d25d24e4",
   "metadata": {},
   "outputs": [],
   "source": [
    "name='Data Science Masters'"
   ]
  },
  {
   "cell_type": "code",
   "execution_count": 29,
   "id": "42401e89-becc-45a8-a77f-273aff0496ca",
   "metadata": {},
   "outputs": [
    {
     "data": {
      "text/plain": [
       "'Data Science Masters'"
      ]
     },
     "execution_count": 29,
     "metadata": {},
     "output_type": "execute_result"
    }
   ],
   "source": [
    "name"
   ]
  },
  {
   "cell_type": "code",
   "execution_count": 32,
   "id": "9f789fbc-279b-4fc7-89bb-fcf2fc14dc5a",
   "metadata": {},
   "outputs": [
    {
     "data": {
      "text/plain": [
       "'Data Science Bachelors'"
      ]
     },
     "execution_count": 32,
     "metadata": {},
     "output_type": "execute_result"
    }
   ],
   "source": [
    "name.replace('Masters','Bachelors')\n",
    "# a new string will be formed but the string 'name' will remain unchanged to hold its nonmutable characteristic "
   ]
  },
  {
   "cell_type": "code",
   "execution_count": 33,
   "id": "6c0d61fa-893a-4964-936e-adb1ec1c5a19",
   "metadata": {},
   "outputs": [
    {
     "data": {
      "text/plain": [
       "'Data Science Masters'"
      ]
     },
     "execution_count": 33,
     "metadata": {},
     "output_type": "execute_result"
    }
   ],
   "source": [
    "name"
   ]
  },
  {
   "cell_type": "code",
   "execution_count": 34,
   "id": "ee48727b-8ecf-4348-91b3-5f1596e78115",
   "metadata": {},
   "outputs": [],
   "source": [
    "name1=name.replace('Masters','Bachelors')"
   ]
  },
  {
   "cell_type": "code",
   "execution_count": 35,
   "id": "bb8019f9-7566-4578-b50b-a534518dd7ae",
   "metadata": {},
   "outputs": [
    {
     "data": {
      "text/plain": [
       "'Data Science Bachelors'"
      ]
     },
     "execution_count": 35,
     "metadata": {},
     "output_type": "execute_result"
    }
   ],
   "source": [
    "name1"
   ]
  },
  {
   "cell_type": "code",
   "execution_count": 1,
   "id": "b2bad272-51cb-4780-b2dd-a093e9124920",
   "metadata": {},
   "outputs": [],
   "source": [
    "name='Data Science Masters'"
   ]
  },
  {
   "cell_type": "code",
   "execution_count": 2,
   "id": "9c3cf42b-99b1-413f-a7dd-6241e43724c6",
   "metadata": {},
   "outputs": [
    {
     "data": {
      "text/plain": [
       "'Data Science Masters'"
      ]
     },
     "execution_count": 2,
     "metadata": {},
     "output_type": "execute_result"
    }
   ],
   "source": [
    "name"
   ]
  },
  {
   "cell_type": "code",
   "execution_count": 3,
   "id": "945cd7ca-8fae-4eff-9e7e-339a9993931e",
   "metadata": {},
   "outputs": [],
   "source": [
    "name2=name.replace('M','B')"
   ]
  },
  {
   "cell_type": "code",
   "execution_count": 4,
   "id": "97e14e08-5dcb-418f-81da-c133de27e939",
   "metadata": {},
   "outputs": [
    {
     "data": {
      "text/plain": [
       "'Data Science Basters'"
      ]
     },
     "execution_count": 4,
     "metadata": {},
     "output_type": "execute_result"
    }
   ],
   "source": [
    "name2"
   ]
  },
  {
   "cell_type": "code",
   "execution_count": 6,
   "id": "e7f80330-5a67-4a7a-9921-1177afa8d2ad",
   "metadata": {},
   "outputs": [
    {
     "data": {
      "text/plain": [
       "'Data Science Masters'"
      ]
     },
     "execution_count": 6,
     "metadata": {},
     "output_type": "execute_result"
    }
   ],
   "source": [
    "name"
   ]
  },
  {
   "cell_type": "code",
   "execution_count": 15,
   "id": "4f995161-5ac7-46ae-858b-08e57e462d14",
   "metadata": {},
   "outputs": [],
   "source": [
    "name4=name.replace('Science','Arts').replace('Masters','Bachelors')"
   ]
  },
  {
   "cell_type": "code",
   "execution_count": 16,
   "id": "c54a3b6b-fcbb-4472-b776-eb77cda5becc",
   "metadata": {},
   "outputs": [
    {
     "data": {
      "text/plain": [
       "'Data Arts Bachelors'"
      ]
     },
     "execution_count": 16,
     "metadata": {},
     "output_type": "execute_result"
    }
   ],
   "source": [
    "name4"
   ]
  },
  {
   "cell_type": "code",
   "execution_count": 17,
   "id": "6618d8a4-f7e2-4233-802c-b42b33bef0e8",
   "metadata": {},
   "outputs": [
    {
     "data": {
      "text/plain": [
       "'Data Science Masters'"
      ]
     },
     "execution_count": 17,
     "metadata": {},
     "output_type": "execute_result"
    }
   ],
   "source": [
    "name"
   ]
  },
  {
   "cell_type": "code",
   "execution_count": 18,
   "id": "3ebed5fa-316d-49d3-875e-ed8202dc0508",
   "metadata": {},
   "outputs": [],
   "source": [
    "name5=name.replace('S','A').replace('M','B')"
   ]
  },
  {
   "cell_type": "code",
   "execution_count": 19,
   "id": "838a402e-521c-48bb-8835-4e83718b90ba",
   "metadata": {},
   "outputs": [
    {
     "data": {
      "text/plain": [
       "'Data Acience Basters'"
      ]
     },
     "execution_count": 19,
     "metadata": {},
     "output_type": "execute_result"
    }
   ],
   "source": [
    "name5"
   ]
  },
  {
   "cell_type": "code",
   "execution_count": 20,
   "id": "c23a81b6-99f0-426a-bac7-bbb84bcbe5ec",
   "metadata": {},
   "outputs": [
    {
     "data": {
      "text/plain": [
       "'Data Science Masters'"
      ]
     },
     "execution_count": 20,
     "metadata": {},
     "output_type": "execute_result"
    }
   ],
   "source": [
    "name"
   ]
  },
  {
   "cell_type": "code",
   "execution_count": 12,
   "id": "135fc3d5-a585-42a6-9b3a-b74f89cfeaa9",
   "metadata": {},
   "outputs": [
    {
     "data": {
      "text/plain": [
       "'hello   world'"
      ]
     },
     "execution_count": 12,
     "metadata": {},
     "output_type": "execute_result"
    }
   ],
   "source": [
    "# to increase spaces in between words of a string \n",
    "\n",
    "'hello \\tworld'.expandtabs()"
   ]
  },
  {
   "cell_type": "code",
   "execution_count": 25,
   "id": "5552a4ce-d2ad-4649-8ef2-9d1acd915d67",
   "metadata": {},
   "outputs": [],
   "source": [
    "name='SOUVIK'"
   ]
  },
  {
   "cell_type": "code",
   "execution_count": 26,
   "id": "d94b47f6-0822-4636-a979-4a86ed39a3e0",
   "metadata": {},
   "outputs": [
    {
     "data": {
      "text/plain": [
       "'SOUVIK'"
      ]
     },
     "execution_count": 26,
     "metadata": {},
     "output_type": "execute_result"
    }
   ],
   "source": [
    "name"
   ]
  },
  {
   "cell_type": "code",
   "execution_count": 27,
   "id": "6a12c439-4a9f-4f77-8aa2-4f42e6acdbad",
   "metadata": {},
   "outputs": [
    {
     "data": {
      "text/plain": [
       "True"
      ]
     },
     "execution_count": 27,
     "metadata": {},
     "output_type": "execute_result"
    }
   ],
   "source": [
    "# to check whether the string has all upper case letters\n",
    "name.isupper()"
   ]
  },
  {
   "cell_type": "code",
   "execution_count": 28,
   "id": "1a87fb91-e073-4f6d-b99d-c4f7a2761ab2",
   "metadata": {},
   "outputs": [],
   "source": [
    "name='Souvik'"
   ]
  },
  {
   "cell_type": "code",
   "execution_count": 29,
   "id": "5c7cc762-d875-4bdb-beff-a953293619ea",
   "metadata": {},
   "outputs": [
    {
     "data": {
      "text/plain": [
       "'Souvik'"
      ]
     },
     "execution_count": 29,
     "metadata": {},
     "output_type": "execute_result"
    }
   ],
   "source": [
    "name"
   ]
  },
  {
   "cell_type": "code",
   "execution_count": 30,
   "id": "8ff238c8-2cbc-449d-a6d1-475815edb7d7",
   "metadata": {},
   "outputs": [
    {
     "data": {
      "text/plain": [
       "False"
      ]
     },
     "execution_count": 30,
     "metadata": {},
     "output_type": "execute_result"
    }
   ],
   "source": [
    "name.isupper()"
   ]
  },
  {
   "cell_type": "code",
   "execution_count": 31,
   "id": "518079b0-e8af-41ed-a1c2-22a1270f1f72",
   "metadata": {},
   "outputs": [],
   "source": [
    "name='souvik'"
   ]
  },
  {
   "cell_type": "code",
   "execution_count": 32,
   "id": "b18039e9-88db-479f-9fd6-7edbd4b04832",
   "metadata": {},
   "outputs": [
    {
     "data": {
      "text/plain": [
       "'souvik'"
      ]
     },
     "execution_count": 32,
     "metadata": {},
     "output_type": "execute_result"
    }
   ],
   "source": [
    "name"
   ]
  },
  {
   "cell_type": "code",
   "execution_count": 34,
   "id": "21564958-03c9-45ac-b12b-fffe1827c877",
   "metadata": {},
   "outputs": [
    {
     "data": {
      "text/plain": [
       "True"
      ]
     },
     "execution_count": 34,
     "metadata": {},
     "output_type": "execute_result"
    }
   ],
   "source": [
    "# to check whether the string has all lower case letters\n",
    "name.islower()"
   ]
  },
  {
   "cell_type": "code",
   "execution_count": 35,
   "id": "f2facddd-5973-4d95-bd2b-f9bdc2cc762d",
   "metadata": {},
   "outputs": [],
   "source": [
    "name='Souvik'"
   ]
  },
  {
   "cell_type": "code",
   "execution_count": 39,
   "id": "e390ce28-023d-4fa6-a912-0e06effde2e8",
   "metadata": {},
   "outputs": [
    {
     "data": {
      "text/plain": [
       "False"
      ]
     },
     "execution_count": 39,
     "metadata": {},
     "output_type": "execute_result"
    }
   ],
   "source": [
    "name.islower()"
   ]
  },
  {
   "cell_type": "code",
   "execution_count": 46,
   "id": "cc3cbe87-7355-4d93-b541-da53e0208dce",
   "metadata": {},
   "outputs": [
    {
     "data": {
      "text/plain": [
       "True"
      ]
     },
     "execution_count": 46,
     "metadata": {},
     "output_type": "execute_result"
    }
   ],
   "source": [
    "# to check whether it is an empty string\n",
    "\n",
    "' '.isspace()"
   ]
  },
  {
   "cell_type": "code",
   "execution_count": 47,
   "id": "c63e0aff-21e4-4189-82d7-88acea25c726",
   "metadata": {},
   "outputs": [
    {
     "data": {
      "text/plain": [
       "True"
      ]
     },
     "execution_count": 47,
     "metadata": {},
     "output_type": "execute_result"
    }
   ],
   "source": [
    "name=' '\n",
    "name.isspace()"
   ]
  },
  {
   "cell_type": "code",
   "execution_count": 48,
   "id": "69ed573e-8761-4726-bda1-c3bd51984381",
   "metadata": {},
   "outputs": [],
   "source": [
    "# to check whether a string starts with a particular character"
   ]
  },
  {
   "cell_type": "code",
   "execution_count": 50,
   "id": "810759c0-68b5-40d0-b8a2-46020a5f64db",
   "metadata": {},
   "outputs": [],
   "source": [
    "name='souvik'"
   ]
  },
  {
   "cell_type": "code",
   "execution_count": 51,
   "id": "a7bda816-e538-4214-87d0-6f4b3ae3e871",
   "metadata": {},
   "outputs": [
    {
     "data": {
      "text/plain": [
       "'souvik'"
      ]
     },
     "execution_count": 51,
     "metadata": {},
     "output_type": "execute_result"
    }
   ],
   "source": [
    "name"
   ]
  },
  {
   "cell_type": "code",
   "execution_count": 52,
   "id": "f92a3ab7-d266-4e57-8b2f-812889ae1ecc",
   "metadata": {},
   "outputs": [
    {
     "data": {
      "text/plain": [
       "True"
      ]
     },
     "execution_count": 52,
     "metadata": {},
     "output_type": "execute_result"
    }
   ],
   "source": [
    "name.startswith('s')"
   ]
  },
  {
   "cell_type": "code",
   "execution_count": 53,
   "id": "b2dfe33c-d93d-4224-8249-38d408abfb09",
   "metadata": {},
   "outputs": [
    {
     "data": {
      "text/plain": [
       "True"
      ]
     },
     "execution_count": 53,
     "metadata": {},
     "output_type": "execute_result"
    }
   ],
   "source": [
    "name.endswith('k')"
   ]
  },
  {
   "cell_type": "code",
   "execution_count": 66,
   "id": "48ac5327-8179-401f-913c-314fb2eeaa92",
   "metadata": {},
   "outputs": [
    {
     "data": {
      "text/plain": [
       "True"
      ]
     },
     "execution_count": 66,
     "metadata": {},
     "output_type": "execute_result"
    }
   ],
   "source": [
    "# to check whether a string is alphanumeric\n",
    "name='abcd1234'\n",
    "name.isalnum()"
   ]
  },
  {
   "cell_type": "code",
   "execution_count": 55,
   "id": "86e1d443-8984-41ae-b05f-f5106d6ec8b7",
   "metadata": {},
   "outputs": [],
   "source": [
    "# to count the number of characters in a string"
   ]
  },
  {
   "cell_type": "code",
   "execution_count": 1,
   "id": "514697a5-a687-4f9e-a88d-58fb688a4db6",
   "metadata": {},
   "outputs": [],
   "source": [
    "srt1='vandebharat'"
   ]
  },
  {
   "cell_type": "code",
   "execution_count": 2,
   "id": "4b48495e-86e9-451e-998f-1ed1fea473c0",
   "metadata": {},
   "outputs": [
    {
     "data": {
      "text/plain": [
       "'vandebharat'"
      ]
     },
     "execution_count": 2,
     "metadata": {},
     "output_type": "execute_result"
    }
   ],
   "source": [
    "srt1"
   ]
  },
  {
   "cell_type": "code",
   "execution_count": 3,
   "id": "cd1bfa3f-2509-452f-bd13-6fd1db61d5a5",
   "metadata": {},
   "outputs": [
    {
     "name": "stdout",
     "output_type": "stream",
     "text": [
      "11\n"
     ]
    }
   ],
   "source": [
    "count=0\n",
    "for i in srt1:\n",
    "    count=count+1\n",
    "print(count)"
   ]
  },
  {
   "cell_type": "code",
   "execution_count": 9,
   "id": "fed74492-cb96-4a44-86f2-99e8d2e66989",
   "metadata": {},
   "outputs": [
    {
     "data": {
      "text/plain": [
       "11"
      ]
     },
     "execution_count": 9,
     "metadata": {},
     "output_type": "execute_result"
    }
   ],
   "source": [
    "len(srt1)"
   ]
  },
  {
   "cell_type": "code",
   "execution_count": 13,
   "id": "64bea04c-4725-4323-9423-59dba6a9e970",
   "metadata": {},
   "outputs": [],
   "source": [
    "name='sunshine'"
   ]
  },
  {
   "cell_type": "code",
   "execution_count": 14,
   "id": "29d8501f-be0f-457f-a942-eded1141416a",
   "metadata": {},
   "outputs": [
    {
     "data": {
      "text/plain": [
       "'sunshine'"
      ]
     },
     "execution_count": 14,
     "metadata": {},
     "output_type": "execute_result"
    }
   ],
   "source": [
    "name"
   ]
  },
  {
   "cell_type": "code",
   "execution_count": 16,
   "id": "77b1800a-6904-4fa1-8803-667de80a2228",
   "metadata": {},
   "outputs": [],
   "source": [
    "# task: print each element of a string with respect to their index"
   ]
  },
  {
   "cell_type": "code",
   "execution_count": 17,
   "id": "96169473-2828-466d-936e-c7534f5bfbd3",
   "metadata": {},
   "outputs": [
    {
     "name": "stdout",
     "output_type": "stream",
     "text": [
      "0 = s\n",
      "1 = u\n",
      "2 = n\n",
      "3 = s\n",
      "4 = h\n",
      "5 = i\n",
      "6 = n\n",
      "7 = e\n"
     ]
    }
   ],
   "source": [
    "for i in (range(len(name))):\n",
    "    for j in (name[i]):\n",
    "        print(i,'=',j)"
   ]
  },
  {
   "cell_type": "code",
   "execution_count": 18,
   "id": "b176331e-b9e6-4bd5-843f-4d34c02f9441",
   "metadata": {},
   "outputs": [],
   "source": [
    "# print each element of a string with respect to their index in reverse order"
   ]
  },
  {
   "cell_type": "code",
   "execution_count": 19,
   "id": "0dfbaa7c-60ca-4c2c-85d9-d5f946941fe5",
   "metadata": {},
   "outputs": [
    {
     "name": "stdout",
     "output_type": "stream",
     "text": [
      "7 = e\n",
      "6 = n\n",
      "5 = i\n",
      "4 = h\n",
      "3 = s\n",
      "2 = n\n",
      "1 = u\n",
      "0 = s\n"
     ]
    }
   ],
   "source": [
    "for i in reversed(range(len(name))):\n",
    "    for j in reversed(name[i]):\n",
    "        print(i,'=',j)"
   ]
  },
  {
   "cell_type": "code",
   "execution_count": 21,
   "id": "9cdd8680-c0c8-4989-ba1c-9904656675ed",
   "metadata": {},
   "outputs": [
    {
     "name": "stdout",
     "output_type": "stream",
     "text": [
      "e\n",
      "n\n",
      "i\n",
      "h\n",
      "s\n",
      "n\n",
      "u\n",
      "s\n"
     ]
    }
   ],
   "source": [
    "# to print a string in reversed order\n",
    "\n",
    "for i in reversed(name):\n",
    "    print(i)"
   ]
  },
  {
   "cell_type": "code",
   "execution_count": null,
   "id": "9debbd39-1582-44be-9f71-39571f6a2a46",
   "metadata": {},
   "outputs": [],
   "source": [
    "# to check whether a character is a vowel or a consonant in a string"
   ]
  },
  {
   "cell_type": "code",
   "execution_count": 22,
   "id": "aa6db9ca-1579-4e1a-ac58-e14f9c8ed6f1",
   "metadata": {},
   "outputs": [],
   "source": [
    "v=['a','e','i','o','u']\n",
    "name='pwskills'"
   ]
  },
  {
   "cell_type": "code",
   "execution_count": 24,
   "id": "5eab8985-166b-4dd7-aa2f-ca0fb6213300",
   "metadata": {},
   "outputs": [
    {
     "name": "stdout",
     "output_type": "stream",
     "text": [
      "s is a conconent\n",
      "u is a vowel\n",
      "n is a conconent\n",
      "s is a conconent\n",
      "h is a conconent\n",
      "i is a vowel\n",
      "n is a conconent\n",
      "e is a vowel\n"
     ]
    }
   ],
   "source": [
    "for i in name:\n",
    "    if i in v:\n",
    "        print(i,'is a vowel')\n",
    "    else:\n",
    "        print(i, 'is a conconent')"
   ]
  },
  {
   "cell_type": "code",
   "execution_count": 27,
   "id": "70e4e960-0aa0-4cc0-af88-e95ec1ba1f5e",
   "metadata": {},
   "outputs": [],
   "source": [
    "var1='pwskills'"
   ]
  },
  {
   "cell_type": "code",
   "execution_count": 28,
   "id": "feda7a1a-584d-4c6a-9f87-72cc27bbc808",
   "metadata": {},
   "outputs": [
    {
     "data": {
      "text/plain": [
       "['p', 'w', 's', 'k', 'i', 'l', 'l', 's']"
      ]
     },
     "execution_count": 28,
     "metadata": {},
     "output_type": "execute_result"
    }
   ],
   "source": [
    "list(var1)"
   ]
  },
  {
   "cell_type": "code",
   "execution_count": 29,
   "id": "8f5a1756-d999-4bab-85bd-8d16738520d7",
   "metadata": {},
   "outputs": [],
   "source": [
    "var2='Pw skills data science masters'"
   ]
  },
  {
   "cell_type": "code",
   "execution_count": 31,
   "id": "99142c15-8572-4627-b4a3-9d9cfec31ffa",
   "metadata": {},
   "outputs": [
    {
     "data": {
      "text/plain": [
       "['Pw', 'skills', 'data', 'science', 'masters']"
      ]
     },
     "execution_count": 31,
     "metadata": {},
     "output_type": "execute_result"
    }
   ],
   "source": [
    "list(var2.split(' '))"
   ]
  },
  {
   "cell_type": "code",
   "execution_count": 32,
   "id": "cab86087-b466-4994-83ea-449b4c136e97",
   "metadata": {},
   "outputs": [
    {
     "data": {
      "text/plain": [
       "['Pw', 'skills', 'data', 'science', 'masters']"
      ]
     },
     "execution_count": 32,
     "metadata": {},
     "output_type": "execute_result"
    }
   ],
   "source": [
    "# the return type of the split function is a list\n",
    "\n",
    "var2.split(' ')"
   ]
  },
  {
   "cell_type": "code",
   "execution_count": 33,
   "id": "60e545b0-bbdb-4d1a-b233-2cd63cbf06cb",
   "metadata": {},
   "outputs": [],
   "source": [
    "var3=var2.split(' ')"
   ]
  },
  {
   "cell_type": "code",
   "execution_count": 34,
   "id": "4aa2a977-8d1c-43ee-adb2-08de38c5d2a1",
   "metadata": {},
   "outputs": [
    {
     "data": {
      "text/plain": [
       "['Pw', 'skills', 'data', 'science', 'masters']"
      ]
     },
     "execution_count": 34,
     "metadata": {},
     "output_type": "execute_result"
    }
   ],
   "source": [
    "var3"
   ]
  },
  {
   "cell_type": "code",
   "execution_count": 35,
   "id": "43558564-3f47-41c8-ba8c-ac4fa224b21e",
   "metadata": {},
   "outputs": [
    {
     "data": {
      "text/plain": [
       "'data'"
      ]
     },
     "execution_count": 35,
     "metadata": {},
     "output_type": "execute_result"
    }
   ],
   "source": [
    "var3[2]"
   ]
  },
  {
   "cell_type": "code",
   "execution_count": 36,
   "id": "def20c8f-4c8f-4d10-bd50-290210dbdebe",
   "metadata": {},
   "outputs": [
    {
     "data": {
      "text/plain": [
       "['Pw', 'skills', 'data']"
      ]
     },
     "execution_count": 36,
     "metadata": {},
     "output_type": "execute_result"
    }
   ],
   "source": [
    "var3[:3]"
   ]
  },
  {
   "cell_type": "code",
   "execution_count": 37,
   "id": "97962d5f-8a23-46ec-8ad3-c896bb598054",
   "metadata": {},
   "outputs": [
    {
     "data": {
      "text/plain": [
       "'science'"
      ]
     },
     "execution_count": 37,
     "metadata": {},
     "output_type": "execute_result"
    }
   ],
   "source": [
    "var3[-2]"
   ]
  },
  {
   "cell_type": "code",
   "execution_count": null,
   "id": "a6956b61-8691-42f7-8431-e2383d30aabc",
   "metadata": {},
   "outputs": [],
   "source": []
  }
 ],
 "metadata": {
  "kernelspec": {
   "display_name": "Python 3 (ipykernel)",
   "language": "python",
   "name": "python3"
  },
  "language_info": {
   "codemirror_mode": {
    "name": "ipython",
    "version": 3
   },
   "file_extension": ".py",
   "mimetype": "text/x-python",
   "name": "python",
   "nbconvert_exporter": "python",
   "pygments_lexer": "ipython3",
   "version": "3.10.8"
  }
 },
 "nbformat": 4,
 "nbformat_minor": 5
}
